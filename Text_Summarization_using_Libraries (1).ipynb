{
  "nbformat": 4,
  "nbformat_minor": 0,
  "metadata": {
    "colab": {
      "provenance": []
    },
    "kernelspec": {
      "name": "python3",
      "display_name": "Python 3"
    },
    "accelerator": "GPU",
    "widgets": {
      "application/vnd.jupyter.widget-state+json": {
        "006fee05dafb4193983f857e0f73cd45": {
          "model_module": "@jupyter-widgets/controls",
          "model_name": "HBoxModel",
          "model_module_version": "1.5.0",
          "state": {
            "_dom_classes": [],
            "_model_module": "@jupyter-widgets/controls",
            "_model_module_version": "1.5.0",
            "_model_name": "HBoxModel",
            "_view_count": null,
            "_view_module": "@jupyter-widgets/controls",
            "_view_module_version": "1.5.0",
            "_view_name": "HBoxView",
            "box_style": "",
            "children": [
              "IPY_MODEL_d08e1533f03a4f76aa70efbe9caffdd2",
              "IPY_MODEL_94b464b2621e416e9e5cc6dc59fac56f",
              "IPY_MODEL_f5794f1531e1493bb8a95886fee86b92"
            ],
            "layout": "IPY_MODEL_40a00540c0d94d319000e4c5bf3b515a"
          }
        },
        "d08e1533f03a4f76aa70efbe9caffdd2": {
          "model_module": "@jupyter-widgets/controls",
          "model_name": "HTMLModel",
          "model_module_version": "1.5.0",
          "state": {
            "_dom_classes": [],
            "_model_module": "@jupyter-widgets/controls",
            "_model_module_version": "1.5.0",
            "_model_name": "HTMLModel",
            "_view_count": null,
            "_view_module": "@jupyter-widgets/controls",
            "_view_module_version": "1.5.0",
            "_view_name": "HTMLView",
            "description": "",
            "description_tooltip": null,
            "layout": "IPY_MODEL_967e2cf9467944b6a2c0cb1fc6119647",
            "placeholder": "​",
            "style": "IPY_MODEL_08d9e1bdbfb24e0d8d4de0f7bcc7d29e",
            "value": "Downloading: 100%"
          }
        },
        "94b464b2621e416e9e5cc6dc59fac56f": {
          "model_module": "@jupyter-widgets/controls",
          "model_name": "FloatProgressModel",
          "model_module_version": "1.5.0",
          "state": {
            "_dom_classes": [],
            "_model_module": "@jupyter-widgets/controls",
            "_model_module_version": "1.5.0",
            "_model_name": "FloatProgressModel",
            "_view_count": null,
            "_view_module": "@jupyter-widgets/controls",
            "_view_module_version": "1.5.0",
            "_view_name": "ProgressView",
            "bar_style": "success",
            "description": "",
            "description_tooltip": null,
            "layout": "IPY_MODEL_622be9d033374952b81162dd57773e28",
            "max": 571,
            "min": 0,
            "orientation": "horizontal",
            "style": "IPY_MODEL_921da712357b4b1fb982cfa2ed9b19a1",
            "value": 571
          }
        },
        "f5794f1531e1493bb8a95886fee86b92": {
          "model_module": "@jupyter-widgets/controls",
          "model_name": "HTMLModel",
          "model_module_version": "1.5.0",
          "state": {
            "_dom_classes": [],
            "_model_module": "@jupyter-widgets/controls",
            "_model_module_version": "1.5.0",
            "_model_name": "HTMLModel",
            "_view_count": null,
            "_view_module": "@jupyter-widgets/controls",
            "_view_module_version": "1.5.0",
            "_view_name": "HTMLView",
            "description": "",
            "description_tooltip": null,
            "layout": "IPY_MODEL_96da40a5b74349998a623b268917295a",
            "placeholder": "​",
            "style": "IPY_MODEL_b8fa37dfcab64b9ea3a179b0ffc48cda",
            "value": " 571/571 [00:00&lt;00:00, 7.03kB/s]"
          }
        },
        "40a00540c0d94d319000e4c5bf3b515a": {
          "model_module": "@jupyter-widgets/base",
          "model_name": "LayoutModel",
          "model_module_version": "1.2.0",
          "state": {
            "_model_module": "@jupyter-widgets/base",
            "_model_module_version": "1.2.0",
            "_model_name": "LayoutModel",
            "_view_count": null,
            "_view_module": "@jupyter-widgets/base",
            "_view_module_version": "1.2.0",
            "_view_name": "LayoutView",
            "align_content": null,
            "align_items": null,
            "align_self": null,
            "border": null,
            "bottom": null,
            "display": null,
            "flex": null,
            "flex_flow": null,
            "grid_area": null,
            "grid_auto_columns": null,
            "grid_auto_flow": null,
            "grid_auto_rows": null,
            "grid_column": null,
            "grid_gap": null,
            "grid_row": null,
            "grid_template_areas": null,
            "grid_template_columns": null,
            "grid_template_rows": null,
            "height": null,
            "justify_content": null,
            "justify_items": null,
            "left": null,
            "margin": null,
            "max_height": null,
            "max_width": null,
            "min_height": null,
            "min_width": null,
            "object_fit": null,
            "object_position": null,
            "order": null,
            "overflow": null,
            "overflow_x": null,
            "overflow_y": null,
            "padding": null,
            "right": null,
            "top": null,
            "visibility": null,
            "width": null
          }
        },
        "967e2cf9467944b6a2c0cb1fc6119647": {
          "model_module": "@jupyter-widgets/base",
          "model_name": "LayoutModel",
          "model_module_version": "1.2.0",
          "state": {
            "_model_module": "@jupyter-widgets/base",
            "_model_module_version": "1.2.0",
            "_model_name": "LayoutModel",
            "_view_count": null,
            "_view_module": "@jupyter-widgets/base",
            "_view_module_version": "1.2.0",
            "_view_name": "LayoutView",
            "align_content": null,
            "align_items": null,
            "align_self": null,
            "border": null,
            "bottom": null,
            "display": null,
            "flex": null,
            "flex_flow": null,
            "grid_area": null,
            "grid_auto_columns": null,
            "grid_auto_flow": null,
            "grid_auto_rows": null,
            "grid_column": null,
            "grid_gap": null,
            "grid_row": null,
            "grid_template_areas": null,
            "grid_template_columns": null,
            "grid_template_rows": null,
            "height": null,
            "justify_content": null,
            "justify_items": null,
            "left": null,
            "margin": null,
            "max_height": null,
            "max_width": null,
            "min_height": null,
            "min_width": null,
            "object_fit": null,
            "object_position": null,
            "order": null,
            "overflow": null,
            "overflow_x": null,
            "overflow_y": null,
            "padding": null,
            "right": null,
            "top": null,
            "visibility": null,
            "width": null
          }
        },
        "08d9e1bdbfb24e0d8d4de0f7bcc7d29e": {
          "model_module": "@jupyter-widgets/controls",
          "model_name": "DescriptionStyleModel",
          "model_module_version": "1.5.0",
          "state": {
            "_model_module": "@jupyter-widgets/controls",
            "_model_module_version": "1.5.0",
            "_model_name": "DescriptionStyleModel",
            "_view_count": null,
            "_view_module": "@jupyter-widgets/base",
            "_view_module_version": "1.2.0",
            "_view_name": "StyleView",
            "description_width": ""
          }
        },
        "622be9d033374952b81162dd57773e28": {
          "model_module": "@jupyter-widgets/base",
          "model_name": "LayoutModel",
          "model_module_version": "1.2.0",
          "state": {
            "_model_module": "@jupyter-widgets/base",
            "_model_module_version": "1.2.0",
            "_model_name": "LayoutModel",
            "_view_count": null,
            "_view_module": "@jupyter-widgets/base",
            "_view_module_version": "1.2.0",
            "_view_name": "LayoutView",
            "align_content": null,
            "align_items": null,
            "align_self": null,
            "border": null,
            "bottom": null,
            "display": null,
            "flex": null,
            "flex_flow": null,
            "grid_area": null,
            "grid_auto_columns": null,
            "grid_auto_flow": null,
            "grid_auto_rows": null,
            "grid_column": null,
            "grid_gap": null,
            "grid_row": null,
            "grid_template_areas": null,
            "grid_template_columns": null,
            "grid_template_rows": null,
            "height": null,
            "justify_content": null,
            "justify_items": null,
            "left": null,
            "margin": null,
            "max_height": null,
            "max_width": null,
            "min_height": null,
            "min_width": null,
            "object_fit": null,
            "object_position": null,
            "order": null,
            "overflow": null,
            "overflow_x": null,
            "overflow_y": null,
            "padding": null,
            "right": null,
            "top": null,
            "visibility": null,
            "width": null
          }
        },
        "921da712357b4b1fb982cfa2ed9b19a1": {
          "model_module": "@jupyter-widgets/controls",
          "model_name": "ProgressStyleModel",
          "model_module_version": "1.5.0",
          "state": {
            "_model_module": "@jupyter-widgets/controls",
            "_model_module_version": "1.5.0",
            "_model_name": "ProgressStyleModel",
            "_view_count": null,
            "_view_module": "@jupyter-widgets/base",
            "_view_module_version": "1.2.0",
            "_view_name": "StyleView",
            "bar_color": null,
            "description_width": ""
          }
        },
        "96da40a5b74349998a623b268917295a": {
          "model_module": "@jupyter-widgets/base",
          "model_name": "LayoutModel",
          "model_module_version": "1.2.0",
          "state": {
            "_model_module": "@jupyter-widgets/base",
            "_model_module_version": "1.2.0",
            "_model_name": "LayoutModel",
            "_view_count": null,
            "_view_module": "@jupyter-widgets/base",
            "_view_module_version": "1.2.0",
            "_view_name": "LayoutView",
            "align_content": null,
            "align_items": null,
            "align_self": null,
            "border": null,
            "bottom": null,
            "display": null,
            "flex": null,
            "flex_flow": null,
            "grid_area": null,
            "grid_auto_columns": null,
            "grid_auto_flow": null,
            "grid_auto_rows": null,
            "grid_column": null,
            "grid_gap": null,
            "grid_row": null,
            "grid_template_areas": null,
            "grid_template_columns": null,
            "grid_template_rows": null,
            "height": null,
            "justify_content": null,
            "justify_items": null,
            "left": null,
            "margin": null,
            "max_height": null,
            "max_width": null,
            "min_height": null,
            "min_width": null,
            "object_fit": null,
            "object_position": null,
            "order": null,
            "overflow": null,
            "overflow_x": null,
            "overflow_y": null,
            "padding": null,
            "right": null,
            "top": null,
            "visibility": null,
            "width": null
          }
        },
        "b8fa37dfcab64b9ea3a179b0ffc48cda": {
          "model_module": "@jupyter-widgets/controls",
          "model_name": "DescriptionStyleModel",
          "model_module_version": "1.5.0",
          "state": {
            "_model_module": "@jupyter-widgets/controls",
            "_model_module_version": "1.5.0",
            "_model_name": "DescriptionStyleModel",
            "_view_count": null,
            "_view_module": "@jupyter-widgets/base",
            "_view_module_version": "1.2.0",
            "_view_name": "StyleView",
            "description_width": ""
          }
        },
        "8545e551aa3a4f4681bd16d8c93c2289": {
          "model_module": "@jupyter-widgets/controls",
          "model_name": "HBoxModel",
          "model_module_version": "1.5.0",
          "state": {
            "_dom_classes": [],
            "_model_module": "@jupyter-widgets/controls",
            "_model_module_version": "1.5.0",
            "_model_name": "HBoxModel",
            "_view_count": null,
            "_view_module": "@jupyter-widgets/controls",
            "_view_module_version": "1.5.0",
            "_view_name": "HBoxView",
            "box_style": "",
            "children": [
              "IPY_MODEL_febad2fe145e4bb0a7b46101cea68fe1",
              "IPY_MODEL_36ca81c8fae6479cbb4d330536fd88b2",
              "IPY_MODEL_bd4efe59cb964f72b7b0f56805cfcf52"
            ],
            "layout": "IPY_MODEL_1fcad68239554a40824513b5dba7778c"
          }
        },
        "febad2fe145e4bb0a7b46101cea68fe1": {
          "model_module": "@jupyter-widgets/controls",
          "model_name": "HTMLModel",
          "model_module_version": "1.5.0",
          "state": {
            "_dom_classes": [],
            "_model_module": "@jupyter-widgets/controls",
            "_model_module_version": "1.5.0",
            "_model_name": "HTMLModel",
            "_view_count": null,
            "_view_module": "@jupyter-widgets/controls",
            "_view_module_version": "1.5.0",
            "_view_name": "HTMLView",
            "description": "",
            "description_tooltip": null,
            "layout": "IPY_MODEL_f5f09c03c01a47b0ab0ff69e8187c9a0",
            "placeholder": "​",
            "style": "IPY_MODEL_95552fcad12b4f07bd609e67dc698b9b",
            "value": "Downloading: 100%"
          }
        },
        "36ca81c8fae6479cbb4d330536fd88b2": {
          "model_module": "@jupyter-widgets/controls",
          "model_name": "FloatProgressModel",
          "model_module_version": "1.5.0",
          "state": {
            "_dom_classes": [],
            "_model_module": "@jupyter-widgets/controls",
            "_model_module_version": "1.5.0",
            "_model_name": "FloatProgressModel",
            "_view_count": null,
            "_view_module": "@jupyter-widgets/controls",
            "_view_module_version": "1.5.0",
            "_view_name": "ProgressView",
            "bar_style": "success",
            "description": "",
            "description_tooltip": null,
            "layout": "IPY_MODEL_b8d898a21607402ba1673e3c7d25318f",
            "max": 1344997306,
            "min": 0,
            "orientation": "horizontal",
            "style": "IPY_MODEL_dd41e07c2a43489ca8baf28c91f8f178",
            "value": 1344997306
          }
        },
        "bd4efe59cb964f72b7b0f56805cfcf52": {
          "model_module": "@jupyter-widgets/controls",
          "model_name": "HTMLModel",
          "model_module_version": "1.5.0",
          "state": {
            "_dom_classes": [],
            "_model_module": "@jupyter-widgets/controls",
            "_model_module_version": "1.5.0",
            "_model_name": "HTMLModel",
            "_view_count": null,
            "_view_module": "@jupyter-widgets/controls",
            "_view_module_version": "1.5.0",
            "_view_name": "HTMLView",
            "description": "",
            "description_tooltip": null,
            "layout": "IPY_MODEL_1e008b68ee4c4104bd0585f6e96e4e45",
            "placeholder": "​",
            "style": "IPY_MODEL_e72134a64eff45b286941bf1be616f13",
            "value": " 1.25G/1.25G [00:34&lt;00:00, 35.0MB/s]"
          }
        },
        "1fcad68239554a40824513b5dba7778c": {
          "model_module": "@jupyter-widgets/base",
          "model_name": "LayoutModel",
          "model_module_version": "1.2.0",
          "state": {
            "_model_module": "@jupyter-widgets/base",
            "_model_module_version": "1.2.0",
            "_model_name": "LayoutModel",
            "_view_count": null,
            "_view_module": "@jupyter-widgets/base",
            "_view_module_version": "1.2.0",
            "_view_name": "LayoutView",
            "align_content": null,
            "align_items": null,
            "align_self": null,
            "border": null,
            "bottom": null,
            "display": null,
            "flex": null,
            "flex_flow": null,
            "grid_area": null,
            "grid_auto_columns": null,
            "grid_auto_flow": null,
            "grid_auto_rows": null,
            "grid_column": null,
            "grid_gap": null,
            "grid_row": null,
            "grid_template_areas": null,
            "grid_template_columns": null,
            "grid_template_rows": null,
            "height": null,
            "justify_content": null,
            "justify_items": null,
            "left": null,
            "margin": null,
            "max_height": null,
            "max_width": null,
            "min_height": null,
            "min_width": null,
            "object_fit": null,
            "object_position": null,
            "order": null,
            "overflow": null,
            "overflow_x": null,
            "overflow_y": null,
            "padding": null,
            "right": null,
            "top": null,
            "visibility": null,
            "width": null
          }
        },
        "f5f09c03c01a47b0ab0ff69e8187c9a0": {
          "model_module": "@jupyter-widgets/base",
          "model_name": "LayoutModel",
          "model_module_version": "1.2.0",
          "state": {
            "_model_module": "@jupyter-widgets/base",
            "_model_module_version": "1.2.0",
            "_model_name": "LayoutModel",
            "_view_count": null,
            "_view_module": "@jupyter-widgets/base",
            "_view_module_version": "1.2.0",
            "_view_name": "LayoutView",
            "align_content": null,
            "align_items": null,
            "align_self": null,
            "border": null,
            "bottom": null,
            "display": null,
            "flex": null,
            "flex_flow": null,
            "grid_area": null,
            "grid_auto_columns": null,
            "grid_auto_flow": null,
            "grid_auto_rows": null,
            "grid_column": null,
            "grid_gap": null,
            "grid_row": null,
            "grid_template_areas": null,
            "grid_template_columns": null,
            "grid_template_rows": null,
            "height": null,
            "justify_content": null,
            "justify_items": null,
            "left": null,
            "margin": null,
            "max_height": null,
            "max_width": null,
            "min_height": null,
            "min_width": null,
            "object_fit": null,
            "object_position": null,
            "order": null,
            "overflow": null,
            "overflow_x": null,
            "overflow_y": null,
            "padding": null,
            "right": null,
            "top": null,
            "visibility": null,
            "width": null
          }
        },
        "95552fcad12b4f07bd609e67dc698b9b": {
          "model_module": "@jupyter-widgets/controls",
          "model_name": "DescriptionStyleModel",
          "model_module_version": "1.5.0",
          "state": {
            "_model_module": "@jupyter-widgets/controls",
            "_model_module_version": "1.5.0",
            "_model_name": "DescriptionStyleModel",
            "_view_count": null,
            "_view_module": "@jupyter-widgets/base",
            "_view_module_version": "1.2.0",
            "_view_name": "StyleView",
            "description_width": ""
          }
        },
        "b8d898a21607402ba1673e3c7d25318f": {
          "model_module": "@jupyter-widgets/base",
          "model_name": "LayoutModel",
          "model_module_version": "1.2.0",
          "state": {
            "_model_module": "@jupyter-widgets/base",
            "_model_module_version": "1.2.0",
            "_model_name": "LayoutModel",
            "_view_count": null,
            "_view_module": "@jupyter-widgets/base",
            "_view_module_version": "1.2.0",
            "_view_name": "LayoutView",
            "align_content": null,
            "align_items": null,
            "align_self": null,
            "border": null,
            "bottom": null,
            "display": null,
            "flex": null,
            "flex_flow": null,
            "grid_area": null,
            "grid_auto_columns": null,
            "grid_auto_flow": null,
            "grid_auto_rows": null,
            "grid_column": null,
            "grid_gap": null,
            "grid_row": null,
            "grid_template_areas": null,
            "grid_template_columns": null,
            "grid_template_rows": null,
            "height": null,
            "justify_content": null,
            "justify_items": null,
            "left": null,
            "margin": null,
            "max_height": null,
            "max_width": null,
            "min_height": null,
            "min_width": null,
            "object_fit": null,
            "object_position": null,
            "order": null,
            "overflow": null,
            "overflow_x": null,
            "overflow_y": null,
            "padding": null,
            "right": null,
            "top": null,
            "visibility": null,
            "width": null
          }
        },
        "dd41e07c2a43489ca8baf28c91f8f178": {
          "model_module": "@jupyter-widgets/controls",
          "model_name": "ProgressStyleModel",
          "model_module_version": "1.5.0",
          "state": {
            "_model_module": "@jupyter-widgets/controls",
            "_model_module_version": "1.5.0",
            "_model_name": "ProgressStyleModel",
            "_view_count": null,
            "_view_module": "@jupyter-widgets/base",
            "_view_module_version": "1.2.0",
            "_view_name": "StyleView",
            "bar_color": null,
            "description_width": ""
          }
        },
        "1e008b68ee4c4104bd0585f6e96e4e45": {
          "model_module": "@jupyter-widgets/base",
          "model_name": "LayoutModel",
          "model_module_version": "1.2.0",
          "state": {
            "_model_module": "@jupyter-widgets/base",
            "_model_module_version": "1.2.0",
            "_model_name": "LayoutModel",
            "_view_count": null,
            "_view_module": "@jupyter-widgets/base",
            "_view_module_version": "1.2.0",
            "_view_name": "LayoutView",
            "align_content": null,
            "align_items": null,
            "align_self": null,
            "border": null,
            "bottom": null,
            "display": null,
            "flex": null,
            "flex_flow": null,
            "grid_area": null,
            "grid_auto_columns": null,
            "grid_auto_flow": null,
            "grid_auto_rows": null,
            "grid_column": null,
            "grid_gap": null,
            "grid_row": null,
            "grid_template_areas": null,
            "grid_template_columns": null,
            "grid_template_rows": null,
            "height": null,
            "justify_content": null,
            "justify_items": null,
            "left": null,
            "margin": null,
            "max_height": null,
            "max_width": null,
            "min_height": null,
            "min_width": null,
            "object_fit": null,
            "object_position": null,
            "order": null,
            "overflow": null,
            "overflow_x": null,
            "overflow_y": null,
            "padding": null,
            "right": null,
            "top": null,
            "visibility": null,
            "width": null
          }
        },
        "e72134a64eff45b286941bf1be616f13": {
          "model_module": "@jupyter-widgets/controls",
          "model_name": "DescriptionStyleModel",
          "model_module_version": "1.5.0",
          "state": {
            "_model_module": "@jupyter-widgets/controls",
            "_model_module_version": "1.5.0",
            "_model_name": "DescriptionStyleModel",
            "_view_count": null,
            "_view_module": "@jupyter-widgets/base",
            "_view_module_version": "1.2.0",
            "_view_name": "StyleView",
            "description_width": ""
          }
        },
        "6cfa57eac0fc4fec882354b3337d179d": {
          "model_module": "@jupyter-widgets/controls",
          "model_name": "HBoxModel",
          "model_module_version": "1.5.0",
          "state": {
            "_dom_classes": [],
            "_model_module": "@jupyter-widgets/controls",
            "_model_module_version": "1.5.0",
            "_model_name": "HBoxModel",
            "_view_count": null,
            "_view_module": "@jupyter-widgets/controls",
            "_view_module_version": "1.5.0",
            "_view_name": "HBoxView",
            "box_style": "",
            "children": [
              "IPY_MODEL_693ce3e7d9d842e7a452babd87340b2b",
              "IPY_MODEL_d62795873220456fba5bb02ca3da354e",
              "IPY_MODEL_5b943a8a8d1849caa76f8cdf3e2c1678"
            ],
            "layout": "IPY_MODEL_43b21a82b0f54020a0dd263044d75962"
          }
        },
        "693ce3e7d9d842e7a452babd87340b2b": {
          "model_module": "@jupyter-widgets/controls",
          "model_name": "HTMLModel",
          "model_module_version": "1.5.0",
          "state": {
            "_dom_classes": [],
            "_model_module": "@jupyter-widgets/controls",
            "_model_module_version": "1.5.0",
            "_model_name": "HTMLModel",
            "_view_count": null,
            "_view_module": "@jupyter-widgets/controls",
            "_view_module_version": "1.5.0",
            "_view_name": "HTMLView",
            "description": "",
            "description_tooltip": null,
            "layout": "IPY_MODEL_a9c17a23773e4c759f2abba6d7b8d58c",
            "placeholder": "​",
            "style": "IPY_MODEL_cace5f212ac046d3b3ba5edba9e19047",
            "value": "Downloading: 100%"
          }
        },
        "d62795873220456fba5bb02ca3da354e": {
          "model_module": "@jupyter-widgets/controls",
          "model_name": "FloatProgressModel",
          "model_module_version": "1.5.0",
          "state": {
            "_dom_classes": [],
            "_model_module": "@jupyter-widgets/controls",
            "_model_module_version": "1.5.0",
            "_model_name": "FloatProgressModel",
            "_view_count": null,
            "_view_module": "@jupyter-widgets/controls",
            "_view_module_version": "1.5.0",
            "_view_name": "ProgressView",
            "bar_style": "success",
            "description": "",
            "description_tooltip": null,
            "layout": "IPY_MODEL_8e3561193b3440059445cd94dedd5b5d",
            "max": 231508,
            "min": 0,
            "orientation": "horizontal",
            "style": "IPY_MODEL_91301797e4e5454292669b34d5122642",
            "value": 231508
          }
        },
        "5b943a8a8d1849caa76f8cdf3e2c1678": {
          "model_module": "@jupyter-widgets/controls",
          "model_name": "HTMLModel",
          "model_module_version": "1.5.0",
          "state": {
            "_dom_classes": [],
            "_model_module": "@jupyter-widgets/controls",
            "_model_module_version": "1.5.0",
            "_model_name": "HTMLModel",
            "_view_count": null,
            "_view_module": "@jupyter-widgets/controls",
            "_view_module_version": "1.5.0",
            "_view_name": "HTMLView",
            "description": "",
            "description_tooltip": null,
            "layout": "IPY_MODEL_1c5e1392d16d4b719bfbb9bdc7277b7b",
            "placeholder": "​",
            "style": "IPY_MODEL_dcef3a5a96c6440c91a264b044f192c3",
            "value": " 226k/226k [00:00&lt;00:00, 239kB/s]"
          }
        },
        "43b21a82b0f54020a0dd263044d75962": {
          "model_module": "@jupyter-widgets/base",
          "model_name": "LayoutModel",
          "model_module_version": "1.2.0",
          "state": {
            "_model_module": "@jupyter-widgets/base",
            "_model_module_version": "1.2.0",
            "_model_name": "LayoutModel",
            "_view_count": null,
            "_view_module": "@jupyter-widgets/base",
            "_view_module_version": "1.2.0",
            "_view_name": "LayoutView",
            "align_content": null,
            "align_items": null,
            "align_self": null,
            "border": null,
            "bottom": null,
            "display": null,
            "flex": null,
            "flex_flow": null,
            "grid_area": null,
            "grid_auto_columns": null,
            "grid_auto_flow": null,
            "grid_auto_rows": null,
            "grid_column": null,
            "grid_gap": null,
            "grid_row": null,
            "grid_template_areas": null,
            "grid_template_columns": null,
            "grid_template_rows": null,
            "height": null,
            "justify_content": null,
            "justify_items": null,
            "left": null,
            "margin": null,
            "max_height": null,
            "max_width": null,
            "min_height": null,
            "min_width": null,
            "object_fit": null,
            "object_position": null,
            "order": null,
            "overflow": null,
            "overflow_x": null,
            "overflow_y": null,
            "padding": null,
            "right": null,
            "top": null,
            "visibility": null,
            "width": null
          }
        },
        "a9c17a23773e4c759f2abba6d7b8d58c": {
          "model_module": "@jupyter-widgets/base",
          "model_name": "LayoutModel",
          "model_module_version": "1.2.0",
          "state": {
            "_model_module": "@jupyter-widgets/base",
            "_model_module_version": "1.2.0",
            "_model_name": "LayoutModel",
            "_view_count": null,
            "_view_module": "@jupyter-widgets/base",
            "_view_module_version": "1.2.0",
            "_view_name": "LayoutView",
            "align_content": null,
            "align_items": null,
            "align_self": null,
            "border": null,
            "bottom": null,
            "display": null,
            "flex": null,
            "flex_flow": null,
            "grid_area": null,
            "grid_auto_columns": null,
            "grid_auto_flow": null,
            "grid_auto_rows": null,
            "grid_column": null,
            "grid_gap": null,
            "grid_row": null,
            "grid_template_areas": null,
            "grid_template_columns": null,
            "grid_template_rows": null,
            "height": null,
            "justify_content": null,
            "justify_items": null,
            "left": null,
            "margin": null,
            "max_height": null,
            "max_width": null,
            "min_height": null,
            "min_width": null,
            "object_fit": null,
            "object_position": null,
            "order": null,
            "overflow": null,
            "overflow_x": null,
            "overflow_y": null,
            "padding": null,
            "right": null,
            "top": null,
            "visibility": null,
            "width": null
          }
        },
        "cace5f212ac046d3b3ba5edba9e19047": {
          "model_module": "@jupyter-widgets/controls",
          "model_name": "DescriptionStyleModel",
          "model_module_version": "1.5.0",
          "state": {
            "_model_module": "@jupyter-widgets/controls",
            "_model_module_version": "1.5.0",
            "_model_name": "DescriptionStyleModel",
            "_view_count": null,
            "_view_module": "@jupyter-widgets/base",
            "_view_module_version": "1.2.0",
            "_view_name": "StyleView",
            "description_width": ""
          }
        },
        "8e3561193b3440059445cd94dedd5b5d": {
          "model_module": "@jupyter-widgets/base",
          "model_name": "LayoutModel",
          "model_module_version": "1.2.0",
          "state": {
            "_model_module": "@jupyter-widgets/base",
            "_model_module_version": "1.2.0",
            "_model_name": "LayoutModel",
            "_view_count": null,
            "_view_module": "@jupyter-widgets/base",
            "_view_module_version": "1.2.0",
            "_view_name": "LayoutView",
            "align_content": null,
            "align_items": null,
            "align_self": null,
            "border": null,
            "bottom": null,
            "display": null,
            "flex": null,
            "flex_flow": null,
            "grid_area": null,
            "grid_auto_columns": null,
            "grid_auto_flow": null,
            "grid_auto_rows": null,
            "grid_column": null,
            "grid_gap": null,
            "grid_row": null,
            "grid_template_areas": null,
            "grid_template_columns": null,
            "grid_template_rows": null,
            "height": null,
            "justify_content": null,
            "justify_items": null,
            "left": null,
            "margin": null,
            "max_height": null,
            "max_width": null,
            "min_height": null,
            "min_width": null,
            "object_fit": null,
            "object_position": null,
            "order": null,
            "overflow": null,
            "overflow_x": null,
            "overflow_y": null,
            "padding": null,
            "right": null,
            "top": null,
            "visibility": null,
            "width": null
          }
        },
        "91301797e4e5454292669b34d5122642": {
          "model_module": "@jupyter-widgets/controls",
          "model_name": "ProgressStyleModel",
          "model_module_version": "1.5.0",
          "state": {
            "_model_module": "@jupyter-widgets/controls",
            "_model_module_version": "1.5.0",
            "_model_name": "ProgressStyleModel",
            "_view_count": null,
            "_view_module": "@jupyter-widgets/base",
            "_view_module_version": "1.2.0",
            "_view_name": "StyleView",
            "bar_color": null,
            "description_width": ""
          }
        },
        "1c5e1392d16d4b719bfbb9bdc7277b7b": {
          "model_module": "@jupyter-widgets/base",
          "model_name": "LayoutModel",
          "model_module_version": "1.2.0",
          "state": {
            "_model_module": "@jupyter-widgets/base",
            "_model_module_version": "1.2.0",
            "_model_name": "LayoutModel",
            "_view_count": null,
            "_view_module": "@jupyter-widgets/base",
            "_view_module_version": "1.2.0",
            "_view_name": "LayoutView",
            "align_content": null,
            "align_items": null,
            "align_self": null,
            "border": null,
            "bottom": null,
            "display": null,
            "flex": null,
            "flex_flow": null,
            "grid_area": null,
            "grid_auto_columns": null,
            "grid_auto_flow": null,
            "grid_auto_rows": null,
            "grid_column": null,
            "grid_gap": null,
            "grid_row": null,
            "grid_template_areas": null,
            "grid_template_columns": null,
            "grid_template_rows": null,
            "height": null,
            "justify_content": null,
            "justify_items": null,
            "left": null,
            "margin": null,
            "max_height": null,
            "max_width": null,
            "min_height": null,
            "min_width": null,
            "object_fit": null,
            "object_position": null,
            "order": null,
            "overflow": null,
            "overflow_x": null,
            "overflow_y": null,
            "padding": null,
            "right": null,
            "top": null,
            "visibility": null,
            "width": null
          }
        },
        "dcef3a5a96c6440c91a264b044f192c3": {
          "model_module": "@jupyter-widgets/controls",
          "model_name": "DescriptionStyleModel",
          "model_module_version": "1.5.0",
          "state": {
            "_model_module": "@jupyter-widgets/controls",
            "_model_module_version": "1.5.0",
            "_model_name": "DescriptionStyleModel",
            "_view_count": null,
            "_view_module": "@jupyter-widgets/base",
            "_view_module_version": "1.2.0",
            "_view_name": "StyleView",
            "description_width": ""
          }
        },
        "2d0ae949f94d4f8c930f3bfa9df63696": {
          "model_module": "@jupyter-widgets/controls",
          "model_name": "HBoxModel",
          "model_module_version": "1.5.0",
          "state": {
            "_dom_classes": [],
            "_model_module": "@jupyter-widgets/controls",
            "_model_module_version": "1.5.0",
            "_model_name": "HBoxModel",
            "_view_count": null,
            "_view_module": "@jupyter-widgets/controls",
            "_view_module_version": "1.5.0",
            "_view_name": "HBoxView",
            "box_style": "",
            "children": [
              "IPY_MODEL_7ca962192caf4dd3b3ebd2aa62ccd7ad",
              "IPY_MODEL_8a4ae79831b34c8eb88b8a64e6b4a048",
              "IPY_MODEL_21f61100194c4409a641089320abfc76"
            ],
            "layout": "IPY_MODEL_5251a5e4397d4112b2a0105f36250bb5"
          }
        },
        "7ca962192caf4dd3b3ebd2aa62ccd7ad": {
          "model_module": "@jupyter-widgets/controls",
          "model_name": "HTMLModel",
          "model_module_version": "1.5.0",
          "state": {
            "_dom_classes": [],
            "_model_module": "@jupyter-widgets/controls",
            "_model_module_version": "1.5.0",
            "_model_name": "HTMLModel",
            "_view_count": null,
            "_view_module": "@jupyter-widgets/controls",
            "_view_module_version": "1.5.0",
            "_view_name": "HTMLView",
            "description": "",
            "description_tooltip": null,
            "layout": "IPY_MODEL_c20b60865abf439d81c98b6f46a9ce4f",
            "placeholder": "​",
            "style": "IPY_MODEL_c09bf177ef7945e1b0c44d7435cd740e",
            "value": "Downloading: 100%"
          }
        },
        "8a4ae79831b34c8eb88b8a64e6b4a048": {
          "model_module": "@jupyter-widgets/controls",
          "model_name": "FloatProgressModel",
          "model_module_version": "1.5.0",
          "state": {
            "_dom_classes": [],
            "_model_module": "@jupyter-widgets/controls",
            "_model_module_version": "1.5.0",
            "_model_name": "FloatProgressModel",
            "_view_count": null,
            "_view_module": "@jupyter-widgets/controls",
            "_view_module_version": "1.5.0",
            "_view_name": "ProgressView",
            "bar_style": "success",
            "description": "",
            "description_tooltip": null,
            "layout": "IPY_MODEL_7ce706a23cfc48b69f3fb53a92520757",
            "max": 28,
            "min": 0,
            "orientation": "horizontal",
            "style": "IPY_MODEL_a1137d34de3248f487db68773e2fd432",
            "value": 28
          }
        },
        "21f61100194c4409a641089320abfc76": {
          "model_module": "@jupyter-widgets/controls",
          "model_name": "HTMLModel",
          "model_module_version": "1.5.0",
          "state": {
            "_dom_classes": [],
            "_model_module": "@jupyter-widgets/controls",
            "_model_module_version": "1.5.0",
            "_model_name": "HTMLModel",
            "_view_count": null,
            "_view_module": "@jupyter-widgets/controls",
            "_view_module_version": "1.5.0",
            "_view_name": "HTMLView",
            "description": "",
            "description_tooltip": null,
            "layout": "IPY_MODEL_e8eb3754cc1241d58ec1547270b8dfcb",
            "placeholder": "​",
            "style": "IPY_MODEL_7c7b8c92954c4365a0f6d9cac8dffbb1",
            "value": " 28.0/28.0 [00:00&lt;00:00, 203B/s]"
          }
        },
        "5251a5e4397d4112b2a0105f36250bb5": {
          "model_module": "@jupyter-widgets/base",
          "model_name": "LayoutModel",
          "model_module_version": "1.2.0",
          "state": {
            "_model_module": "@jupyter-widgets/base",
            "_model_module_version": "1.2.0",
            "_model_name": "LayoutModel",
            "_view_count": null,
            "_view_module": "@jupyter-widgets/base",
            "_view_module_version": "1.2.0",
            "_view_name": "LayoutView",
            "align_content": null,
            "align_items": null,
            "align_self": null,
            "border": null,
            "bottom": null,
            "display": null,
            "flex": null,
            "flex_flow": null,
            "grid_area": null,
            "grid_auto_columns": null,
            "grid_auto_flow": null,
            "grid_auto_rows": null,
            "grid_column": null,
            "grid_gap": null,
            "grid_row": null,
            "grid_template_areas": null,
            "grid_template_columns": null,
            "grid_template_rows": null,
            "height": null,
            "justify_content": null,
            "justify_items": null,
            "left": null,
            "margin": null,
            "max_height": null,
            "max_width": null,
            "min_height": null,
            "min_width": null,
            "object_fit": null,
            "object_position": null,
            "order": null,
            "overflow": null,
            "overflow_x": null,
            "overflow_y": null,
            "padding": null,
            "right": null,
            "top": null,
            "visibility": null,
            "width": null
          }
        },
        "c20b60865abf439d81c98b6f46a9ce4f": {
          "model_module": "@jupyter-widgets/base",
          "model_name": "LayoutModel",
          "model_module_version": "1.2.0",
          "state": {
            "_model_module": "@jupyter-widgets/base",
            "_model_module_version": "1.2.0",
            "_model_name": "LayoutModel",
            "_view_count": null,
            "_view_module": "@jupyter-widgets/base",
            "_view_module_version": "1.2.0",
            "_view_name": "LayoutView",
            "align_content": null,
            "align_items": null,
            "align_self": null,
            "border": null,
            "bottom": null,
            "display": null,
            "flex": null,
            "flex_flow": null,
            "grid_area": null,
            "grid_auto_columns": null,
            "grid_auto_flow": null,
            "grid_auto_rows": null,
            "grid_column": null,
            "grid_gap": null,
            "grid_row": null,
            "grid_template_areas": null,
            "grid_template_columns": null,
            "grid_template_rows": null,
            "height": null,
            "justify_content": null,
            "justify_items": null,
            "left": null,
            "margin": null,
            "max_height": null,
            "max_width": null,
            "min_height": null,
            "min_width": null,
            "object_fit": null,
            "object_position": null,
            "order": null,
            "overflow": null,
            "overflow_x": null,
            "overflow_y": null,
            "padding": null,
            "right": null,
            "top": null,
            "visibility": null,
            "width": null
          }
        },
        "c09bf177ef7945e1b0c44d7435cd740e": {
          "model_module": "@jupyter-widgets/controls",
          "model_name": "DescriptionStyleModel",
          "model_module_version": "1.5.0",
          "state": {
            "_model_module": "@jupyter-widgets/controls",
            "_model_module_version": "1.5.0",
            "_model_name": "DescriptionStyleModel",
            "_view_count": null,
            "_view_module": "@jupyter-widgets/base",
            "_view_module_version": "1.2.0",
            "_view_name": "StyleView",
            "description_width": ""
          }
        },
        "7ce706a23cfc48b69f3fb53a92520757": {
          "model_module": "@jupyter-widgets/base",
          "model_name": "LayoutModel",
          "model_module_version": "1.2.0",
          "state": {
            "_model_module": "@jupyter-widgets/base",
            "_model_module_version": "1.2.0",
            "_model_name": "LayoutModel",
            "_view_count": null,
            "_view_module": "@jupyter-widgets/base",
            "_view_module_version": "1.2.0",
            "_view_name": "LayoutView",
            "align_content": null,
            "align_items": null,
            "align_self": null,
            "border": null,
            "bottom": null,
            "display": null,
            "flex": null,
            "flex_flow": null,
            "grid_area": null,
            "grid_auto_columns": null,
            "grid_auto_flow": null,
            "grid_auto_rows": null,
            "grid_column": null,
            "grid_gap": null,
            "grid_row": null,
            "grid_template_areas": null,
            "grid_template_columns": null,
            "grid_template_rows": null,
            "height": null,
            "justify_content": null,
            "justify_items": null,
            "left": null,
            "margin": null,
            "max_height": null,
            "max_width": null,
            "min_height": null,
            "min_width": null,
            "object_fit": null,
            "object_position": null,
            "order": null,
            "overflow": null,
            "overflow_x": null,
            "overflow_y": null,
            "padding": null,
            "right": null,
            "top": null,
            "visibility": null,
            "width": null
          }
        },
        "a1137d34de3248f487db68773e2fd432": {
          "model_module": "@jupyter-widgets/controls",
          "model_name": "ProgressStyleModel",
          "model_module_version": "1.5.0",
          "state": {
            "_model_module": "@jupyter-widgets/controls",
            "_model_module_version": "1.5.0",
            "_model_name": "ProgressStyleModel",
            "_view_count": null,
            "_view_module": "@jupyter-widgets/base",
            "_view_module_version": "1.2.0",
            "_view_name": "StyleView",
            "bar_color": null,
            "description_width": ""
          }
        },
        "e8eb3754cc1241d58ec1547270b8dfcb": {
          "model_module": "@jupyter-widgets/base",
          "model_name": "LayoutModel",
          "model_module_version": "1.2.0",
          "state": {
            "_model_module": "@jupyter-widgets/base",
            "_model_module_version": "1.2.0",
            "_model_name": "LayoutModel",
            "_view_count": null,
            "_view_module": "@jupyter-widgets/base",
            "_view_module_version": "1.2.0",
            "_view_name": "LayoutView",
            "align_content": null,
            "align_items": null,
            "align_self": null,
            "border": null,
            "bottom": null,
            "display": null,
            "flex": null,
            "flex_flow": null,
            "grid_area": null,
            "grid_auto_columns": null,
            "grid_auto_flow": null,
            "grid_auto_rows": null,
            "grid_column": null,
            "grid_gap": null,
            "grid_row": null,
            "grid_template_areas": null,
            "grid_template_columns": null,
            "grid_template_rows": null,
            "height": null,
            "justify_content": null,
            "justify_items": null,
            "left": null,
            "margin": null,
            "max_height": null,
            "max_width": null,
            "min_height": null,
            "min_width": null,
            "object_fit": null,
            "object_position": null,
            "order": null,
            "overflow": null,
            "overflow_x": null,
            "overflow_y": null,
            "padding": null,
            "right": null,
            "top": null,
            "visibility": null,
            "width": null
          }
        },
        "7c7b8c92954c4365a0f6d9cac8dffbb1": {
          "model_module": "@jupyter-widgets/controls",
          "model_name": "DescriptionStyleModel",
          "model_module_version": "1.5.0",
          "state": {
            "_model_module": "@jupyter-widgets/controls",
            "_model_module_version": "1.5.0",
            "_model_name": "DescriptionStyleModel",
            "_view_count": null,
            "_view_module": "@jupyter-widgets/base",
            "_view_module_version": "1.2.0",
            "_view_name": "StyleView",
            "description_width": ""
          }
        }
      }
    }
  },
  "cells": [
    {
      "cell_type": "markdown",
      "metadata": {
        "id": "e3oajPnc63dX"
      },
      "source": [
        "# Text summarizatin using libraries"
      ]
    },
    {
      "cell_type": "markdown",
      "metadata": {
        "id": "3vrmS88U7Sc4"
      },
      "source": [
        "# Preparing the environment"
      ]
    },
    {
      "cell_type": "code",
      "metadata": {
        "colab": {
          "base_uri": "https://localhost:8080/"
        },
        "id": "weiRapuF76s1",
        "outputId": "df1a79b8-963b-43bd-b128-eb42c60591fe"
      },
      "source": [
        "import nltk\n",
        "import re\n",
        "nltk.download('punkt')"
      ],
      "execution_count": null,
      "outputs": [
        {
          "output_type": "stream",
          "name": "stderr",
          "text": [
            "[nltk_data] Downloading package punkt to /root/nltk_data...\n",
            "[nltk_data]   Unzipping tokenizers/punkt.zip.\n"
          ]
        },
        {
          "output_type": "execute_result",
          "data": {
            "text/plain": [
              "True"
            ]
          },
          "metadata": {},
          "execution_count": 1
        }
      ]
    },
    {
      "cell_type": "code",
      "metadata": {
        "id": "tW8PS7ey7VwO",
        "colab": {
          "base_uri": "https://localhost:8080/"
        },
        "outputId": "02278fc9-0d64-4742-b6f1-3bf4cb077f41"
      },
      "source": [
        "!pip install goose3"
      ],
      "execution_count": null,
      "outputs": [
        {
          "output_type": "stream",
          "name": "stdout",
          "text": [
            "Looking in indexes: https://pypi.org/simple, https://us-python.pkg.dev/colab-wheels/public/simple/\n",
            "Collecting goose3\n",
            "  Downloading goose3-3.1.11-py3-none-any.whl (87 kB)\n",
            "\u001b[K     |████████████████████████████████| 87 kB 5.7 MB/s \n",
            "\u001b[?25hRequirement already satisfied: jieba in /usr/local/lib/python3.7/dist-packages (from goose3) (0.42.1)\n",
            "Requirement already satisfied: python-dateutil in /usr/local/lib/python3.7/dist-packages (from goose3) (2.8.2)\n",
            "Collecting cssselect\n",
            "  Downloading cssselect-1.1.0-py2.py3-none-any.whl (16 kB)\n",
            "Requirement already satisfied: lxml in /usr/local/lib/python3.7/dist-packages (from goose3) (4.2.6)\n",
            "Requirement already satisfied: Pillow in /usr/local/lib/python3.7/dist-packages (from goose3) (7.1.2)\n",
            "Requirement already satisfied: requests in /usr/local/lib/python3.7/dist-packages (from goose3) (2.23.0)\n",
            "Collecting langdetect\n",
            "  Downloading langdetect-1.0.9.tar.gz (981 kB)\n",
            "\u001b[K     |████████████████████████████████| 981 kB 59.5 MB/s \n",
            "\u001b[?25hRequirement already satisfied: nltk in /usr/local/lib/python3.7/dist-packages (from goose3) (3.7)\n",
            "Requirement already satisfied: beautifulsoup4 in /usr/local/lib/python3.7/dist-packages (from goose3) (4.6.3)\n",
            "Requirement already satisfied: six in /usr/local/lib/python3.7/dist-packages (from langdetect->goose3) (1.15.0)\n",
            "Requirement already satisfied: click in /usr/local/lib/python3.7/dist-packages (from nltk->goose3) (7.1.2)\n",
            "Requirement already satisfied: tqdm in /usr/local/lib/python3.7/dist-packages (from nltk->goose3) (4.64.0)\n",
            "Requirement already satisfied: regex>=2021.8.3 in /usr/local/lib/python3.7/dist-packages (from nltk->goose3) (2022.6.2)\n",
            "Requirement already satisfied: joblib in /usr/local/lib/python3.7/dist-packages (from nltk->goose3) (1.1.0)\n",
            "Requirement already satisfied: certifi>=2017.4.17 in /usr/local/lib/python3.7/dist-packages (from requests->goose3) (2022.6.15)\n",
            "Requirement already satisfied: idna<3,>=2.5 in /usr/local/lib/python3.7/dist-packages (from requests->goose3) (2.10)\n",
            "Requirement already satisfied: urllib3!=1.25.0,!=1.25.1,<1.26,>=1.21.1 in /usr/local/lib/python3.7/dist-packages (from requests->goose3) (1.24.3)\n",
            "Requirement already satisfied: chardet<4,>=3.0.2 in /usr/local/lib/python3.7/dist-packages (from requests->goose3) (3.0.4)\n",
            "Building wheels for collected packages: langdetect\n",
            "  Building wheel for langdetect (setup.py) ... \u001b[?25l\u001b[?25hdone\n",
            "  Created wheel for langdetect: filename=langdetect-1.0.9-py3-none-any.whl size=993242 sha256=0fb8697e188ee9b2dccf504ebbe2bdac468690fadcf838e78c41231e09d9da31\n",
            "  Stored in directory: /root/.cache/pip/wheels/c5/96/8a/f90c59ed25d75e50a8c10a1b1c2d4c402e4dacfa87f3aff36a\n",
            "Successfully built langdetect\n",
            "Installing collected packages: langdetect, cssselect, goose3\n",
            "Successfully installed cssselect-1.1.0 goose3-3.1.11 langdetect-1.0.9\n"
          ]
        }
      ]
    },
    {
      "cell_type": "code",
      "metadata": {
        "id": "M3NlgusO7ZA8"
      },
      "source": [
        "from goose3 import Goose\n",
        "g = Goose()\n",
        "url = 'https://en.wikipedia.org/wiki/Automatic_summarization'\n",
        "article = g.extract(url)"
      ],
      "execution_count": null,
      "outputs": []
    },
    {
      "cell_type": "code",
      "metadata": {
        "colab": {
          "base_uri": "https://localhost:8080/",
          "height": 140
        },
        "id": "FkiGHfTy7lIP",
        "outputId": "ea604376-2c62-4702-d3ee-13bd21cb78da"
      },
      "source": [
        "article.cleaned_text"
      ],
      "execution_count": null,
      "outputs": [
        {
          "output_type": "execute_result",
          "data": {
            "text/plain": [
              "'Automatic summarization is the process of shortening a set of data computationally, to create a subset (a summary) that represents the most important or relevant information within the original content.\\n\\nIn addition to text, images and videos can also be summarized. Text summarization finds the most informative sentences in a document;[1] various methods of image summarization are the subject of ongoing research, with some looking to display the most representative images from a given collection or generating a video;[2][3][4] video summarization extracts the most important frames from the video content.[5]\\n\\nThere are two general approaches to automatic summarization: extraction and abstraction.\\n\\nHere, content is extracted from the original data, but the extracted content is not modified in any way. Examples of extracted content include key-phrases that can be used to \"tag\" or index a text document, or key sentences (including headings) that collectively comprise an abstract, and representative images or video segments, as stated above. For text, extraction is analogous to the process of skimming, where the summary (if available), headings and subheadings, figures, the first and last paragraphs of a section, and optionally the first and last sentences in a paragraph are read before one chooses to read the entire document in detail.[7] Other examples of extraction that include key sequences of text in terms of clinical relevance (including patient/problem, intervention, and outcome).[8]\\n\\nThis has been applied mainly for text. Abstractive methods build an internal semantic representation of the original content, and then use this representation to create a summary that is closer to what a human might express. Abstraction may transform the extracted content by paraphrasing sections of the source document, to condense a text more strongly than extraction. Such transformation, however, is computationally much more challenging than extraction, involving both natural language processing and often a deep understanding of the domain of the original text in cases where the original document relates to a special field of knowledge. \"Paraphrasing\" is even more difficult to apply to image and video, which is why most summarization systems are extractive.\\n\\nApproaches aimed at higher summarization quality rely on combined software and human effort. In Machine Aided Human Summarization, extractive techniques highlight candidate passages for inclusion (to which the human adds or removes text). In Human Aided Machine Summarization, a human post-processes software output, in the same way that one edits the output of automatic translation by Google Translate.\\n\\nThere are broadly two types of extractive summarization tasks depending on what the summarization program focuses on. The first is generic summarization, which focuses on obtaining a generic summary or abstract of the collection (whether documents, or sets of images, or videos, news stories etc.). The second is query relevant summarization, sometimes called query-based summarization, which summarizes objects specific to a query. Summarization systems are able to create both query relevant text summaries and generic machine-generated summaries depending on what the user needs.\\n\\nAn example of a summarization problem is document summarization, which attempts to automatically produce an abstract from a given document. Sometimes one might be interested in generating a summary from a single source document, while others can use multiple source documents (for example, a cluster of articles on the same topic). This problem is called multi-document summarization. A related application is summarizing news articles. Imagine a system, which automatically pulls together news articles on a given topic (from the web), and concisely represents the latest news as a summary.\\n\\nImage collection summarization is another application example of automatic summarization. It consists in selecting a representative set of images from a larger set of images.[9] A summary in this context is useful to show the most representative images of results in an image collection exploration system. Video summarization is a related domain, where the system automatically creates a trailer of a long video. This also has applications in consumer or personal videos, where one might want to skip the boring or repetitive actions. Similarly, in surveillance videos, one would want to extract important and suspicious activity, while ignoring all the boring and redundant frames captured.\\n\\nAt a very high level, summarization algorithms try to find subsets of objects (like set of sentences, or a set of images), which cover information of the entire set. This is also called the core-set. These algorithms model notions like diversity, coverage, information and representativeness of the summary. Query based summarization techniques, additionally model for relevance of the summary with the query. Some techniques and algorithms which naturally model summarization problems are TextRank and PageRank, Submodular set function, Determinantal point process, maximal marginal relevance (MMR) etc.\\n\\nThe task is the following. You are given a piece of text, such as a journal article, and you must produce a list of keywords or key[phrase]s that capture the primary topics discussed in the text.[10] In the case of research articles, many authors provide manually assigned keywords, but most text lacks pre-existing keyphrases. For example, news articles rarely have keyphrases attached, but it would be useful to be able to automatically do so for a number of applications discussed below. Consider the example text from a news article:\\n\\nA keyphrase extractor might select \"Army Corps of Engineers\", \"President Bush\", \"New Orleans\", and \"defective flood-control pumps\" as keyphrases. These are pulled directly from the text. In contrast, an abstractive keyphrase system would somehow internalize the content and generate keyphrases that do not appear in the text, but more closely resemble what a human might produce, such as \"political negligence\" or \"inadequate protection from floods\". Abstraction requires a deep understanding of the text, which makes it difficult for a computer system. Keyphrases have many applications. They can enable document browsing by providing a short summary, improve information retrieval (if documents have keyphrases assigned, a user could search by keyphrase to produce more reliable hits than a full-text search), and be employed in generating index entries for a large text corpus.\\n\\nDepending on the different literature and the definition of key terms, words or phrases, keyword extraction is a highly related theme.\\n\\nBeginning with the work of Turney,[11] many researchers have approached keyphrase extraction as a supervised machine learning problem. Given a document, we construct an example for each unigram, bigram, and trigram found in the text (though other text units are also possible, as discussed below). We then compute various features describing each example (e.g., does the phrase begin with an upper-case letter?). We assume there are known keyphrases available for a set of training documents. Using the known keyphrases, we can assign positive or negative labels to the examples. Then we learn a classifier that can discriminate between positive and negative examples as a function of the features. Some classifiers make a binary classification for a test example, while others assign a probability of being a keyphrase. For instance, in the above text, we might learn a rule that says phrases with initial capital letters are likely to be keyphrases. After training a learner, we can select keyphrases for test documents in the following manner. We apply the same example-generation strategy to the test documents, then run each example through the learner. We can determine the keyphrases by looking at binary classification decisions or probabilities returned from our learned model. If probabilities are given, a threshold is used to select the keyphrases. Keyphrase extractors are generally evaluated using precision and recall. Precision measures how many of the proposed keyphrases are actually correct. Recall measures how many of the true keyphrases your system proposed. The two measures can be combined in an F-score, which is the harmonic mean of the two (F = 2PR/(P + R) ). Matches between the proposed keyphrases and the known keyphrases can be checked after stemming or applying some other text normalization.\\n\\nDesigning a supervised keyphrase extraction system involves deciding on several choices (some of these apply to unsupervised, too). The first choice is exactly how to generate examples. Turney and others have used all possible unigrams, bigrams, and trigrams without intervening punctuation and after removing stopwords. Hulth showed that you can get some improvement by selecting examples to be sequences of tokens that match certain patterns of part-of-speech tags. Ideally, the mechanism for generating examples produces all the known labeled keyphrases as candidates, though this is often not the case. For example, if we use only unigrams, bigrams, and trigrams, then we will never be able to extract a known keyphrase containing four words. Thus, recall may suffer. However, generating too many examples can also lead to low precision.\\n\\nWe also need to create features that describe the examples and are informative enough to allow a learning algorithm to discriminate keyphrases from non- keyphrases. Typically features involve various term frequencies (how many times a phrase appears in the current text or in a larger corpus), the length of the example, relative position of the first occurrence, various boolean syntactic features (e.g., contains all caps), etc. The Turney paper used about 12 such features. Hulth uses a reduced set of features, which were found most successful in the KEA (Keyphrase Extraction Algorithm) work derived from Turney\\'s seminal paper.\\n\\nIn the end, the system will need to return a list of keyphrases for a test document, so we need to have a way to limit the number. Ensemble methods (i.e., using votes from several classifiers) have been used to produce numeric scores that can be thresholded to provide a user-provided number of keyphrases. This is the technique used by Turney with C4.5 decision trees. Hulth used a single binary classifier so the learning algorithm implicitly determines the appropriate number.\\n\\nOnce examples and features are created, we need a way to learn to predict keyphrases. Virtually any supervised learning algorithm could be used, such as decision trees, Naive Bayes, and rule induction. In the case of Turney\\'s GenEx algorithm, a genetic algorithm is used to learn parameters for a domain-specific keyphrase extraction algorithm. The extractor follows a series of heuristics to identify keyphrases. The genetic algorithm optimizes parameters for these heuristics with respect to performance on training documents with known key phrases.\\n\\nAnother keyphrase extraction algorithm is TextRank. While supervised methods have some nice properties, like being able to produce interpretable rules for what features characterize a keyphrase, they also require a large amount of training data. Many documents with known keyphrases are needed. Furthermore, training on a specific domain tends to customize the extraction process to that domain, so the resulting classifier is not necessarily portable, as some of Turney\\'s results demonstrate. Unsupervised keyphrase extraction removes the need for training data. It approaches the problem from a different angle. Instead of trying to learn explicit features that characterize keyphrases, the TextRank algorithm[12] exploits the structure of the text itself to determine keyphrases that appear \"central\" to the text in the same way that PageRank selects important Web pages. Recall this is based on the notion of \"prestige\" or \"recommendation\" from social networks. In this way, TextRank does not rely on any previous training data at all, but rather can be run on any arbitrary piece of text, and it can produce output simply based on the text\\'s intrinsic properties. Thus the algorithm is easily portable to new domains and languages.\\n\\nTextRank is a general purpose graph-based ranking algorithm for NLP. Essentially, it runs PageRank on a graph specially designed for a particular NLP task. For keyphrase extraction, it builds a graph using some set of text units as vertices. Edges are based on some measure of semantic or lexical similarity between the text unit vertices. Unlike PageRank, the edges are typically undirected and can be weighted to reflect a degree of similarity. Once the graph is constructed, it is used to form a stochastic matrix, combined with a damping factor (as in the \"random surfer model\"), and the ranking over vertices is obtained by finding the eigenvector corresponding to eigenvalue 1 (i.e., the stationary distribution of the random walk on the graph).\\n\\nThe vertices should correspond to what we want to rank. Potentially, we could do something similar to the supervised methods and create a vertex for each unigram, bigram, trigram, etc. However, to keep the graph small, the authors decide to rank individual unigrams in a first step, and then include a second step that merges highly ranked adjacent unigrams to form multi-word phrases. This has a nice side effect of allowing us to produce keyphrases of arbitrary length. For example, if we rank unigrams and find that \"advanced\", \"natural\", \"language\", and \"processing\" all get high ranks, then we would look at the original text and see that these words appear consecutively and create a final keyphrase using all four together. Note that the unigrams placed in the graph can be filtered by part of speech. The authors found that adjectives and nouns were the best to include. Thus, some linguistic knowledge comes into play in this step.\\n\\nEdges are created based on word co-occurrence in this application of TextRank. Two vertices are connected by an edge if the unigrams appear within a window of size N in the original text. N is typically around 2–10. Thus, \"natural\" and \"language\" might be linked in a text about NLP. \"Natural\" and \"processing\" would also be linked because they would both appear in the same string of N words. These edges build on the notion of \"text cohesion\" and the idea that words that appear near each other are likely related in a meaningful way and \"recommend\" each other to the reader.\\n\\nSince this method simply ranks the individual vertices, we need a way to threshold or produce a limited number of keyphrases. The technique chosen is to set a count T to be a user-specified fraction of the total number of vertices in the graph. Then the top T vertices/unigrams are selected based on their stationary probabilities. A post- processing step is then applied to merge adjacent instances of these T unigrams. As a result, potentially more or less than T final keyphrases will be produced, but the number should be roughly proportional to the length of the original text.\\n\\nIt is not initially clear why applying PageRank to a co-occurrence graph would produce useful keyphrases. One way to think about it is the following. A word that appears multiple times throughout a text may have many different co-occurring neighbors. For example, in a text about machine learning, the unigram \"learning\" might co-occur with \"machine\", \"supervised\", \"un-supervised\", and \"semi-supervised\" in four different sentences. Thus, the \"learning\" vertex would be a central \"hub\" that connects to these other modifying words. Running PageRank/TextRank on the graph is likely to rank \"learning\" highly. Similarly, if the text contains the phrase \"supervised classification\", then there would be an edge between \"supervised\" and \"classification\". If \"classification\" appears several other places and thus has many neighbors, its importance would contribute to the importance of \"supervised\". If it ends up with a high rank, it will be selected as one of the top T unigrams, along with \"learning\" and probably \"classification\". In the final post-processing step, we would then end up with keyphrases \"supervised learning\" and \"supervised classification\".\\n\\nIn short, the co-occurrence graph will contain densely connected regions for terms that appear often and in different contexts. A random walk on this graph will have a stationary distribution that assigns large probabilities to the terms in the centers of the clusters. This is similar to densely connected Web pages getting ranked highly by PageRank. This approach has also been used in document summarization, considered below.\\n\\nLike keyphrase extraction, document summarization aims to identify the essence of a text. The only real difference is that now we are dealing with larger text units—whole sentences instead of words and phrases.\\n\\nBefore getting into the details of some summarization methods, we will mention how summarization systems are typically evaluated. The most common way is using the so-called ROUGE (Recall-Oriented Understudy for Gisting Evaluation) measure. This is a recall-based measure that determines how well a system-generated summary covers the content present in one or more human-generated model summaries known as references. It is recall-based to encourage systems to include all the important topics in the text. Recall can be computed with respect to unigram, bigram, trigram, or 4-gram matching. For example, ROUGE-1 is computed as division of count of unigrams in reference that appear in system and count of unigrams in reference summary.\\n\\nIf there are multiple references, the ROUGE-1 scores are averaged. Because ROUGE is based only on content overlap, it can determine if the same general concepts are discussed between an automatic summary and a reference summary, but it cannot determine if the result is coherent or the sentences flow together in a sensible manner. High-order n-gram ROUGE measures try to judge fluency to some degree. Note that ROUGE is similar to the BLEU measure for machine translation, but BLEU is precision- based, because translation systems favor accuracy.\\n\\nA promising line in document summarization is adaptive document/text summarization.[13] The idea of adaptive summarization involves preliminary recognition of document/text genre and subsequent application of summarization algorithms optimized for this genre. First summarizes that perform adaptive summarization have been created.[14]\\n\\nSupervised text summarization is very much like supervised keyphrase extraction. Basically, if you have a collection of documents and human-generated summaries for them, you can learn features of sentences that make them good candidates for inclusion in the summary. Features might include the position in the document (i.e., the first few sentences are probably important), the number of words in the sentence, etc. The main difficulty in supervised extractive summarization is that the known summaries must be manually created by extracting sentences so the sentences in an original training document can be labeled as \"in summary\" or \"not in summary\". This is not typically how people create summaries, so simply using journal abstracts or existing summaries is usually not sufficient. The sentences in these summaries do not necessarily match up with sentences in the original text, so it would be difficult to assign labels to examples for training. Note, however, that these natural summaries can still be used for evaluation purposes, since ROUGE-1 only cares about unigrams.\\n\\nDuring the DUC 2001 and 2002 evaluation workshops, TNO developed a sentence extraction system for multi-document summarization in the news domain. The system was based on a hybrid system using a naive Bayes classifier and statistical language models for modeling salience. Although the system exhibited good results, the researchers wanted to explore the effectiveness of a maximum entropy (ME) classifier for the meeting summarization task, as ME is known to be robust against feature dependencies. Maximum entropy has also been applied successfully for summarization in the broadcast news domain.\\n\\nThe unsupervised approach to summarization is also quite similar in spirit to unsupervised keyphrase extraction and gets around the issue of costly training data. Some unsupervised summarization approaches are based on finding a \"centroid\" sentence, which is the mean word vector of all the sentences in the document. Then the sentences can be ranked with regard to their similarity to this centroid sentence.\\n\\nA more principled way to estimate sentence importance is using random walks and eigenvector centrality. LexRank[15] is an algorithm essentially identical to TextRank, and both use this approach for document summarization. The two methods were developed by different groups at the same time, and LexRank simply focused on summarization, but could just as easily be used for keyphrase extraction or any other NLP ranking task.\\n\\nIn both LexRank and TextRank, a graph is constructed by creating a vertex for each sentence in the document.\\n\\nThe edges between sentences are based on some form of semantic similarity or content overlap. While LexRank uses cosine similarity of TF-IDF vectors, TextRank uses a very similar measure based on the number of words two sentences have in common (normalized by the sentences\\' lengths). The LexRank paper explored using unweighted edges after applying a threshold to the cosine values, but also experimented with using edges with weights equal to the similarity score. TextRank uses continuous similarity scores as weights.\\n\\nIn both algorithms, the sentences are ranked by applying PageRank to the resulting graph. A summary is formed by combining the top ranking sentences, using a threshold or length cutoff to limit the size of the summary.\\n\\nIt is worth noting that TextRank was applied to summarization exactly as described here, while LexRank was used as part of a larger summarization system (MEAD) that combines the LexRank score (stationary probability) with other features like sentence position and length using a linear combination with either user-specified or automatically tuned weights. In this case, some training documents might be needed, though the TextRank results show the additional features are not absolutely necessary.\\n\\nAnother important distinction is that TextRank was used for single document summarization, while LexRank has been applied to multi-document summarization. The task remains the same in both cases—only the number of sentences to choose from has grown. However, when summarizing multiple documents, there is a greater risk of selecting duplicate or highly redundant sentences to place in the same summary. Imagine you have a cluster of news articles on a particular event, and you want to produce one summary. Each article is likely to have many similar sentences, and you would only want to include distinct ideas in the summary. To address this issue, LexRank applies a heuristic post-processing step that builds up a summary by adding sentences in rank order, but discards any sentences that are too similar to ones already placed in the summary. The method used is called Cross-Sentence Information Subsumption (CSIS).\\n\\nThese methods work based on the idea that sentences \"recommend\" other similar sentences to the reader. Thus, if one sentence is very similar to many others, it will likely be a sentence of great importance. The importance of this sentence also stems from the importance of the sentences \"recommending\" it. Thus, to get ranked highly and placed in a summary, a sentence must be similar to many sentences that are in turn also similar to many other sentences. This makes intuitive sense and allows the algorithms to be applied to any arbitrary new text. The methods are domain-independent and easily portable. One could imagine the features indicating important sentences in the news domain might vary considerably from the biomedical domain. However, the unsupervised \"recommendation\"-based approach applies to any domain.\\n\\nMulti-document summarization is an automatic procedure aimed at extraction of information from multiple texts written about the same topic. Resulting summary report allows individual users, such as professional information consumers, to quickly familiarize themselves with information contained in a large cluster of documents. In such a way, multi-document summarization systems are complementing the news aggregators performing the next step down the road of coping with information overload. Multi-document summarization may also be done in response to a question.[16][8]\\n\\nMulti-document summarization creates information reports that are both concise and comprehensive. With different opinions being put together and outlined, every topic is described from multiple perspectives within a single document. While the goal of a brief summary is to simplify information search and cut the time by pointing to the most relevant source documents, comprehensive multi-document summary should itself contain the required information, hence limiting the need for accessing original files to cases when refinement is required. Automatic summaries present information extracted from multiple sources algorithmically, without any editorial touch or subjective human intervention, thus making it completely unbiased.[dubious – discuss]\\n\\nMulti-document extractive summarization faces a problem of potential redundancy. Ideally, we would like to extract sentences that are both \"central\" (i.e., contain the main ideas) and \"diverse\" (i.e., they differ from one another). LexRank deals with diversity as a heuristic final stage using CSIS, and other systems have used similar methods, such as Maximal Marginal Relevance (MMR),[17] in trying to eliminate redundancy in information retrieval results. There is a general purpose graph-based ranking algorithm like Page/Lex/TextRank that handles both \"centrality\" and \"diversity\" in a unified mathematical framework based on absorbing Markov chain random walks. (An absorbing random walk is like a standard random walk, except some states are now absorbing states that act as \"black holes\" that cause the walk to end abruptly at that state.) The algorithm is called GRASSHOPPER.[18] In addition to explicitly promoting diversity during the ranking process, GRASSHOPPER incorporates a prior ranking (based on sentence position in the case of summarization).\\n\\nThe state of the art results for multi-document summarization, however, are obtained using mixtures of submodular functions. These methods have achieved the state of the art results for Document Summarization Corpora, DUC 04 - 07.[19] Similar results were also achieved with the use of determinantal point processes (which are a special case of submodular functions) for DUC-04.[20]\\n\\nA new method for multi-lingual multi-document summarization that avoids redundancy works by simplifying and generating ideograms that represent the meaning of each sentence in each document and then evaluates similarity \"qualitatively\" by comparing the shape and position of said ideograms has recently been developed. This tool does not use word frequency, does not need training or preprocessing of any kind and works by generating ideograms that represent the meaning of each sentence and then summarizes using two user-supplied parameters: equivalence (when are two sentences to be considered equivalent) and relevance (how long is the desired summary).\\n\\nThe idea of a submodular set function has recently emerged as a powerful modeling tool for various summarization problems. Submodular functions naturally model notions of coverage, information, representation and diversity. Moreover, several important combinatorial optimization problems occur as special instances of submodular optimization. For example, the set cover problem is a special case of submodular optimization, since the set cover function is submodular. The set cover function attempts to find a subset of objects which cover a given set of concepts. For example, in document summarization, one would like the summary to cover all important and relevant concepts in the document. This is an instance of set cover. Similarly, the facility location problem is a special case of submodular functions. The Facility Location function also naturally models coverage and diversity. Another example of a submodular optimization problem is using a determinantal point process to model diversity. Similarly, the Maximum-Marginal-Relevance procedure can also be seen as an instance of submodular optimization. All these important models encouraging coverage, diversity and information are all submodular. Moreover, submodular functions can be efficiently combined, and the resulting function is still submodular. Hence, one could combine one submodular function which models diversity, another one which models coverage and use human supervision to learn a right model of a submodular function for the problem.\\n\\nWhile submodular functions are fitting problems for summarization, they also admit very efficient algorithms for optimization. For example, a simple greedy algorithm admits a constant factor guarantee.[21] Moreover, the greedy algorithm is extremely simple to implement and can scale to large datasets, which is very important for summarization problems.\\n\\nSubmodular functions have achieved state-of-the-art for almost all summarization problems. For example, work by Lin and Bilmes, 2012[22] shows that submodular functions achieve the best results to date on DUC-04, DUC-05, DUC-06 and DUC-07 systems for document summarization. Similarly, work by Lin and Bilmes, 2011,[23] shows that many existing systems for automatic summarization are instances of submodular functions. This was a breakthrough result establishing submodular functions as the right models for summarization problems.[citation needed]\\n\\nSubmodular Functions have also been used for other summarization tasks. Tschiatschek et al., 2014 show[24] that mixtures of submodular functions achieve state-of-the-art results for image collection summarization. Similarly, Bairi et al., 2015[25] show the utility of submodular functions for summarizing multi-document topic hierarchies. Submodular Functions have also successfully been used for summarizing machine learning datasets.[26]\\n• The Reddit bot \"autotldr\",[27] created in 2011 summarizes news articles in the comment-section of reddit posts. It was found to be very useful by the reddit community which upvoted its summaries hundreds of thousands of times.[28] The name is reference to TL;DR − Internet slang for \"too long; didn\\'t read\".[29][30]\\n\\nThe most common way to evaluate the informativeness of automatic summaries is to compare them with human-made model summaries.\\n\\nEvaluation techniques fall into intrinsic and extrinsic,[31] inter-textual and intra-textual.[32]\\n\\nAn intrinsic evaluation tests the summarization system in and of itself while an extrinsic evaluation tests the summarization based on how it affects the completion of some other task. Intrinsic evaluations have assessed mainly the coherence and informativeness of summaries. Extrinsic evaluations, on the other hand, have tested the impact of summarization on tasks like relevance assessment, reading comprehension, etc.\\n\\nIntra-textual methods assess the output of a specific summarization system, and the inter-textual ones focus on contrastive analysis of outputs of several summarization systems.\\n\\nHuman judgement often has wide variance on what is considered a \"good\" summary, which means that making the evaluation process automatic is particularly difficult. Manual evaluation can be used, but this is both time and labor-intensive as it requires humans to read not only the summaries but also the source documents. Other issues are those concerning coherence and coverage.\\n\\nOne of the metrics used in NIST\\'s annual Document Understanding Conferences, in which research groups submit their systems for both summarization and translation tasks, is the ROUGE metric (Recall-Oriented Understudy for Gisting Evaluation [2]). It essentially calculates n-gram overlaps between automatically generated summaries and previously written human summaries. A high level of overlap should indicate a high level of shared concepts between the two summaries. Note that overlap metrics like this are unable to provide any feedback on a summary\\'s coherence. Anaphor resolution remains another problem yet to be fully solved. Similarly, for image summarization, Tschiatschek et al., developed a Visual-ROUGE score which judges the performance of algorithms for image summarization.[33]\\n\\nDomain independent summarization techniques generally apply sets of general features which can be used to identify information-rich text segments. Recent research focus has drifted to domain-specific summarization techniques that utilize the available knowledge specific to the domain of text. For example, automatic summarization research on medical text generally attempts to utilize the various sources of codified medical knowledge and ontologies.[34]\\n\\nThe main drawback of the evaluation systems existing so far is that we need at least one reference summary, and for some methods more than one, to be able to compare automatic summaries with models. This is a hard and expensive task. Much effort has to be done in order to have corpus of texts and their corresponding summaries. Furthermore, for some methods, not only do we need to have human-made summaries available for comparison, but also manual annotation has to be performed in some of them (e.g. SCU in the Pyramid Method). In any case, what the evaluation methods need as an input, is a set of summaries to serve as gold standards and a set of automatic summaries. Moreover, they all perform a quantitative evaluation with regard to different similarity metrics.\\n\\nThe first publication in the area dates back to 1957 [35] (Hans Peter Luhn), starting with a statistical technique. Research increased significantly in 2015. Term frequency–inverse document frequency had been used by 2016. Pattern-based summarization was the most powerful option for multi-document summarization found by 2016. In the following year it was surpassed by latent semantic analysis (LSA) combined with non-negative matrix factorization (NMF). Although they did not replace other approaches and are often combined with them, by 2019 machine learning methods dominated the extractive summarization of single documents, which was considered to be nearing maturity. By 2020, the field was still very active and research is shifting towards abstractive summation and real-time summarization.[36]\\n\\nRecently the rise of Transformer models replacing more traditional RNN (LSTM) have provided a flexibility in the mapping of text sequences to text sequences of a different type, which is well suited to automatic summarization. This includes models such as T5[37] and Pegasus.\\n• None Roxana, Angheluta (2002). The Use of Topic Segmentation for Automatic Summarization.\\n• None Elena, Lloret and Manuel, Palomar (2009). Challenging Issues of Automatic Summarization: Relevance Detection and Quality-based Evaluation.\\n• None Alrehamy, Hassan (2017). \"SemCluster: Unsupervised Automatic Keyphrase Extraction Using Affinity Propagation\". Automatic Keyphrases Extraction. Advances in Intelligent Systems and Computing. Vol. 650. pp. 222–235. doi:10.1007/978-3-319-66939-7_19. ISBN .\\n• None Marcu, Daniel (2000). The Theory and Practice of Discourse Parsing and Summarization. ISBN .\\n• , Published in Proceeding RIAO\\'10 Adaptivity, Personalization and Fusion of Heterogeneous Information, CID Paris, France\\n• None Xiaojin, Zhu, Andrew Goldberg, Jurgen Van Gael, and David Andrzejewski (2007). Improving diversity in ranking using absorbing random walks . , The GRASSHOPPER algorithm\\n• None Miranda-Jiménez, Sabino, Gelbukh, Alexander, and Sidorov, Grigori (2013). \"Summarizing Conceptual Graphs for Automatic Summarization Task\". Conceptual Structures for STEM Research and Education. Lecture Notes in Computer Science. Vol. 7735. pp. 245–253. doi:10.1007/978-3-642-35786-2_18. ISBN . , Conceptual Structures for STEM Research and Education.'"
            ],
            "application/vnd.google.colaboratory.intrinsic+json": {
              "type": "string"
            }
          },
          "metadata": {},
          "execution_count": 4
        }
      ]
    },
    {
      "cell_type": "code",
      "metadata": {
        "colab": {
          "base_uri": "https://localhost:8080/"
        },
        "id": "mrcGh-cI7smU",
        "outputId": "09f2a59f-ea5d-4241-d5ca-34c48bfc1882"
      },
      "source": [
        "original_sentences = [sentence for sentence in nltk.sent_tokenize(article.cleaned_text)]\n",
        "original_sentences"
      ],
      "execution_count": null,
      "outputs": [
        {
          "output_type": "execute_result",
          "data": {
            "text/plain": [
              "['Automatic summarization is the process of shortening a set of data computationally, to create a subset (a summary) that represents the most important or relevant information within the original content.',\n",
              " 'In addition to text, images and videos can also be summarized.',\n",
              " 'Text summarization finds the most informative sentences in a document;[1] various methods of image summarization are the subject of ongoing research, with some looking to display the most representative images from a given collection or generating a video;[2][3][4] video summarization extracts the most important frames from the video content.',\n",
              " '[5]\\n\\nThere are two general approaches to automatic summarization: extraction and abstraction.',\n",
              " 'Here, content is extracted from the original data, but the extracted content is not modified in any way.',\n",
              " 'Examples of extracted content include key-phrases that can be used to \"tag\" or index a text document, or key sentences (including headings) that collectively comprise an abstract, and representative images or video segments, as stated above.',\n",
              " 'For text, extraction is analogous to the process of skimming, where the summary (if available), headings and subheadings, figures, the first and last paragraphs of a section, and optionally the first and last sentences in a paragraph are read before one chooses to read the entire document in detail.',\n",
              " '[7] Other examples of extraction that include key sequences of text in terms of clinical relevance (including patient/problem, intervention, and outcome).',\n",
              " '[8]\\n\\nThis has been applied mainly for text.',\n",
              " 'Abstractive methods build an internal semantic representation of the original content, and then use this representation to create a summary that is closer to what a human might express.',\n",
              " 'Abstraction may transform the extracted content by paraphrasing sections of the source document, to condense a text more strongly than extraction.',\n",
              " 'Such transformation, however, is computationally much more challenging than extraction, involving both natural language processing and often a deep understanding of the domain of the original text in cases where the original document relates to a special field of knowledge.',\n",
              " '\"Paraphrasing\" is even more difficult to apply to image and video, which is why most summarization systems are extractive.',\n",
              " 'Approaches aimed at higher summarization quality rely on combined software and human effort.',\n",
              " 'In Machine Aided Human Summarization, extractive techniques highlight candidate passages for inclusion (to which the human adds or removes text).',\n",
              " 'In Human Aided Machine Summarization, a human post-processes software output, in the same way that one edits the output of automatic translation by Google Translate.',\n",
              " 'There are broadly two types of extractive summarization tasks depending on what the summarization program focuses on.',\n",
              " 'The first is generic summarization, which focuses on obtaining a generic summary or abstract of the collection (whether documents, or sets of images, or videos, news stories etc.).',\n",
              " 'The second is query relevant summarization, sometimes called query-based summarization, which summarizes objects specific to a query.',\n",
              " 'Summarization systems are able to create both query relevant text summaries and generic machine-generated summaries depending on what the user needs.',\n",
              " 'An example of a summarization problem is document summarization, which attempts to automatically produce an abstract from a given document.',\n",
              " 'Sometimes one might be interested in generating a summary from a single source document, while others can use multiple source documents (for example, a cluster of articles on the same topic).',\n",
              " 'This problem is called multi-document summarization.',\n",
              " 'A related application is summarizing news articles.',\n",
              " 'Imagine a system, which automatically pulls together news articles on a given topic (from the web), and concisely represents the latest news as a summary.',\n",
              " 'Image collection summarization is another application example of automatic summarization.',\n",
              " 'It consists in selecting a representative set of images from a larger set of images.',\n",
              " '[9] A summary in this context is useful to show the most representative images of results in an image collection exploration system.',\n",
              " 'Video summarization is a related domain, where the system automatically creates a trailer of a long video.',\n",
              " 'This also has applications in consumer or personal videos, where one might want to skip the boring or repetitive actions.',\n",
              " 'Similarly, in surveillance videos, one would want to extract important and suspicious activity, while ignoring all the boring and redundant frames captured.',\n",
              " 'At a very high level, summarization algorithms try to find subsets of objects (like set of sentences, or a set of images), which cover information of the entire set.',\n",
              " 'This is also called the core-set.',\n",
              " 'These algorithms model notions like diversity, coverage, information and representativeness of the summary.',\n",
              " 'Query based summarization techniques, additionally model for relevance of the summary with the query.',\n",
              " 'Some techniques and algorithms which naturally model summarization problems are TextRank and PageRank, Submodular set function, Determinantal point process, maximal marginal relevance (MMR) etc.',\n",
              " 'The task is the following.',\n",
              " 'You are given a piece of text, such as a journal article, and you must produce a list of keywords or key[phrase]s that capture the primary topics discussed in the text.',\n",
              " '[10] In the case of research articles, many authors provide manually assigned keywords, but most text lacks pre-existing keyphrases.',\n",
              " 'For example, news articles rarely have keyphrases attached, but it would be useful to be able to automatically do so for a number of applications discussed below.',\n",
              " 'Consider the example text from a news article:\\n\\nA keyphrase extractor might select \"Army Corps of Engineers\", \"President Bush\", \"New Orleans\", and \"defective flood-control pumps\" as keyphrases.',\n",
              " 'These are pulled directly from the text.',\n",
              " 'In contrast, an abstractive keyphrase system would somehow internalize the content and generate keyphrases that do not appear in the text, but more closely resemble what a human might produce, such as \"political negligence\" or \"inadequate protection from floods\".',\n",
              " 'Abstraction requires a deep understanding of the text, which makes it difficult for a computer system.',\n",
              " 'Keyphrases have many applications.',\n",
              " 'They can enable document browsing by providing a short summary, improve information retrieval (if documents have keyphrases assigned, a user could search by keyphrase to produce more reliable hits than a full-text search), and be employed in generating index entries for a large text corpus.',\n",
              " 'Depending on the different literature and the definition of key terms, words or phrases, keyword extraction is a highly related theme.',\n",
              " 'Beginning with the work of Turney,[11] many researchers have approached keyphrase extraction as a supervised machine learning problem.',\n",
              " 'Given a document, we construct an example for each unigram, bigram, and trigram found in the text (though other text units are also possible, as discussed below).',\n",
              " 'We then compute various features describing each example (e.g., does the phrase begin with an upper-case letter?).',\n",
              " 'We assume there are known keyphrases available for a set of training documents.',\n",
              " 'Using the known keyphrases, we can assign positive or negative labels to the examples.',\n",
              " 'Then we learn a classifier that can discriminate between positive and negative examples as a function of the features.',\n",
              " 'Some classifiers make a binary classification for a test example, while others assign a probability of being a keyphrase.',\n",
              " 'For instance, in the above text, we might learn a rule that says phrases with initial capital letters are likely to be keyphrases.',\n",
              " 'After training a learner, we can select keyphrases for test documents in the following manner.',\n",
              " 'We apply the same example-generation strategy to the test documents, then run each example through the learner.',\n",
              " 'We can determine the keyphrases by looking at binary classification decisions or probabilities returned from our learned model.',\n",
              " 'If probabilities are given, a threshold is used to select the keyphrases.',\n",
              " 'Keyphrase extractors are generally evaluated using precision and recall.',\n",
              " 'Precision measures how many of the proposed keyphrases are actually correct.',\n",
              " 'Recall measures how many of the true keyphrases your system proposed.',\n",
              " 'The two measures can be combined in an F-score, which is the harmonic mean of the two (F = 2PR/(P + R) ).',\n",
              " 'Matches between the proposed keyphrases and the known keyphrases can be checked after stemming or applying some other text normalization.',\n",
              " 'Designing a supervised keyphrase extraction system involves deciding on several choices (some of these apply to unsupervised, too).',\n",
              " 'The first choice is exactly how to generate examples.',\n",
              " 'Turney and others have used all possible unigrams, bigrams, and trigrams without intervening punctuation and after removing stopwords.',\n",
              " 'Hulth showed that you can get some improvement by selecting examples to be sequences of tokens that match certain patterns of part-of-speech tags.',\n",
              " 'Ideally, the mechanism for generating examples produces all the known labeled keyphrases as candidates, though this is often not the case.',\n",
              " 'For example, if we use only unigrams, bigrams, and trigrams, then we will never be able to extract a known keyphrase containing four words.',\n",
              " 'Thus, recall may suffer.',\n",
              " 'However, generating too many examples can also lead to low precision.',\n",
              " 'We also need to create features that describe the examples and are informative enough to allow a learning algorithm to discriminate keyphrases from non- keyphrases.',\n",
              " 'Typically features involve various term frequencies (how many times a phrase appears in the current text or in a larger corpus), the length of the example, relative position of the first occurrence, various boolean syntactic features (e.g., contains all caps), etc.',\n",
              " 'The Turney paper used about 12 such features.',\n",
              " \"Hulth uses a reduced set of features, which were found most successful in the KEA (Keyphrase Extraction Algorithm) work derived from Turney's seminal paper.\",\n",
              " 'In the end, the system will need to return a list of keyphrases for a test document, so we need to have a way to limit the number.',\n",
              " 'Ensemble methods (i.e., using votes from several classifiers) have been used to produce numeric scores that can be thresholded to provide a user-provided number of keyphrases.',\n",
              " 'This is the technique used by Turney with C4.5 decision trees.',\n",
              " 'Hulth used a single binary classifier so the learning algorithm implicitly determines the appropriate number.',\n",
              " 'Once examples and features are created, we need a way to learn to predict keyphrases.',\n",
              " 'Virtually any supervised learning algorithm could be used, such as decision trees, Naive Bayes, and rule induction.',\n",
              " \"In the case of Turney's GenEx algorithm, a genetic algorithm is used to learn parameters for a domain-specific keyphrase extraction algorithm.\",\n",
              " 'The extractor follows a series of heuristics to identify keyphrases.',\n",
              " 'The genetic algorithm optimizes parameters for these heuristics with respect to performance on training documents with known key phrases.',\n",
              " 'Another keyphrase extraction algorithm is TextRank.',\n",
              " 'While supervised methods have some nice properties, like being able to produce interpretable rules for what features characterize a keyphrase, they also require a large amount of training data.',\n",
              " 'Many documents with known keyphrases are needed.',\n",
              " \"Furthermore, training on a specific domain tends to customize the extraction process to that domain, so the resulting classifier is not necessarily portable, as some of Turney's results demonstrate.\",\n",
              " 'Unsupervised keyphrase extraction removes the need for training data.',\n",
              " 'It approaches the problem from a different angle.',\n",
              " 'Instead of trying to learn explicit features that characterize keyphrases, the TextRank algorithm[12] exploits the structure of the text itself to determine keyphrases that appear \"central\" to the text in the same way that PageRank selects important Web pages.',\n",
              " 'Recall this is based on the notion of \"prestige\" or \"recommendation\" from social networks.',\n",
              " \"In this way, TextRank does not rely on any previous training data at all, but rather can be run on any arbitrary piece of text, and it can produce output simply based on the text's intrinsic properties.\",\n",
              " 'Thus the algorithm is easily portable to new domains and languages.',\n",
              " 'TextRank is a general purpose graph-based ranking algorithm for NLP.',\n",
              " 'Essentially, it runs PageRank on a graph specially designed for a particular NLP task.',\n",
              " 'For keyphrase extraction, it builds a graph using some set of text units as vertices.',\n",
              " 'Edges are based on some measure of semantic or lexical similarity between the text unit vertices.',\n",
              " 'Unlike PageRank, the edges are typically undirected and can be weighted to reflect a degree of similarity.',\n",
              " 'Once the graph is constructed, it is used to form a stochastic matrix, combined with a damping factor (as in the \"random surfer model\"), and the ranking over vertices is obtained by finding the eigenvector corresponding to eigenvalue 1 (i.e., the stationary distribution of the random walk on the graph).',\n",
              " 'The vertices should correspond to what we want to rank.',\n",
              " 'Potentially, we could do something similar to the supervised methods and create a vertex for each unigram, bigram, trigram, etc.',\n",
              " 'However, to keep the graph small, the authors decide to rank individual unigrams in a first step, and then include a second step that merges highly ranked adjacent unigrams to form multi-word phrases.',\n",
              " 'This has a nice side effect of allowing us to produce keyphrases of arbitrary length.',\n",
              " 'For example, if we rank unigrams and find that \"advanced\", \"natural\", \"language\", and \"processing\" all get high ranks, then we would look at the original text and see that these words appear consecutively and create a final keyphrase using all four together.',\n",
              " 'Note that the unigrams placed in the graph can be filtered by part of speech.',\n",
              " 'The authors found that adjectives and nouns were the best to include.',\n",
              " 'Thus, some linguistic knowledge comes into play in this step.',\n",
              " 'Edges are created based on word co-occurrence in this application of TextRank.',\n",
              " 'Two vertices are connected by an edge if the unigrams appear within a window of size N in the original text.',\n",
              " 'N is typically around 2–10.',\n",
              " 'Thus, \"natural\" and \"language\" might be linked in a text about NLP.',\n",
              " '\"Natural\" and \"processing\" would also be linked because they would both appear in the same string of N words.',\n",
              " 'These edges build on the notion of \"text cohesion\" and the idea that words that appear near each other are likely related in a meaningful way and \"recommend\" each other to the reader.',\n",
              " 'Since this method simply ranks the individual vertices, we need a way to threshold or produce a limited number of keyphrases.',\n",
              " 'The technique chosen is to set a count T to be a user-specified fraction of the total number of vertices in the graph.',\n",
              " 'Then the top T vertices/unigrams are selected based on their stationary probabilities.',\n",
              " 'A post- processing step is then applied to merge adjacent instances of these T unigrams.',\n",
              " 'As a result, potentially more or less than T final keyphrases will be produced, but the number should be roughly proportional to the length of the original text.',\n",
              " 'It is not initially clear why applying PageRank to a co-occurrence graph would produce useful keyphrases.',\n",
              " 'One way to think about it is the following.',\n",
              " 'A word that appears multiple times throughout a text may have many different co-occurring neighbors.',\n",
              " 'For example, in a text about machine learning, the unigram \"learning\" might co-occur with \"machine\", \"supervised\", \"un-supervised\", and \"semi-supervised\" in four different sentences.',\n",
              " 'Thus, the \"learning\" vertex would be a central \"hub\" that connects to these other modifying words.',\n",
              " 'Running PageRank/TextRank on the graph is likely to rank \"learning\" highly.',\n",
              " 'Similarly, if the text contains the phrase \"supervised classification\", then there would be an edge between \"supervised\" and \"classification\".',\n",
              " 'If \"classification\" appears several other places and thus has many neighbors, its importance would contribute to the importance of \"supervised\".',\n",
              " 'If it ends up with a high rank, it will be selected as one of the top T unigrams, along with \"learning\" and probably \"classification\".',\n",
              " 'In the final post-processing step, we would then end up with keyphrases \"supervised learning\" and \"supervised classification\".',\n",
              " 'In short, the co-occurrence graph will contain densely connected regions for terms that appear often and in different contexts.',\n",
              " 'A random walk on this graph will have a stationary distribution that assigns large probabilities to the terms in the centers of the clusters.',\n",
              " 'This is similar to densely connected Web pages getting ranked highly by PageRank.',\n",
              " 'This approach has also been used in document summarization, considered below.',\n",
              " 'Like keyphrase extraction, document summarization aims to identify the essence of a text.',\n",
              " 'The only real difference is that now we are dealing with larger text units—whole sentences instead of words and phrases.',\n",
              " 'Before getting into the details of some summarization methods, we will mention how summarization systems are typically evaluated.',\n",
              " 'The most common way is using the so-called ROUGE (Recall-Oriented Understudy for Gisting Evaluation) measure.',\n",
              " 'This is a recall-based measure that determines how well a system-generated summary covers the content present in one or more human-generated model summaries known as references.',\n",
              " 'It is recall-based to encourage systems to include all the important topics in the text.',\n",
              " 'Recall can be computed with respect to unigram, bigram, trigram, or 4-gram matching.',\n",
              " 'For example, ROUGE-1 is computed as division of count of unigrams in reference that appear in system and count of unigrams in reference summary.',\n",
              " 'If there are multiple references, the ROUGE-1 scores are averaged.',\n",
              " 'Because ROUGE is based only on content overlap, it can determine if the same general concepts are discussed between an automatic summary and a reference summary, but it cannot determine if the result is coherent or the sentences flow together in a sensible manner.',\n",
              " 'High-order n-gram ROUGE measures try to judge fluency to some degree.',\n",
              " 'Note that ROUGE is similar to the BLEU measure for machine translation, but BLEU is precision- based, because translation systems favor accuracy.',\n",
              " 'A promising line in document summarization is adaptive document/text summarization.',\n",
              " '[13] The idea of adaptive summarization involves preliminary recognition of document/text genre and subsequent application of summarization algorithms optimized for this genre.',\n",
              " 'First summarizes that perform adaptive summarization have been created.',\n",
              " '[14]\\n\\nSupervised text summarization is very much like supervised keyphrase extraction.',\n",
              " 'Basically, if you have a collection of documents and human-generated summaries for them, you can learn features of sentences that make them good candidates for inclusion in the summary.',\n",
              " 'Features might include the position in the document (i.e., the first few sentences are probably important), the number of words in the sentence, etc.',\n",
              " 'The main difficulty in supervised extractive summarization is that the known summaries must be manually created by extracting sentences so the sentences in an original training document can be labeled as \"in summary\" or \"not in summary\".',\n",
              " 'This is not typically how people create summaries, so simply using journal abstracts or existing summaries is usually not sufficient.',\n",
              " 'The sentences in these summaries do not necessarily match up with sentences in the original text, so it would be difficult to assign labels to examples for training.',\n",
              " 'Note, however, that these natural summaries can still be used for evaluation purposes, since ROUGE-1 only cares about unigrams.',\n",
              " 'During the DUC 2001 and 2002 evaluation workshops, TNO developed a sentence extraction system for multi-document summarization in the news domain.',\n",
              " 'The system was based on a hybrid system using a naive Bayes classifier and statistical language models for modeling salience.',\n",
              " 'Although the system exhibited good results, the researchers wanted to explore the effectiveness of a maximum entropy (ME) classifier for the meeting summarization task, as ME is known to be robust against feature dependencies.',\n",
              " 'Maximum entropy has also been applied successfully for summarization in the broadcast news domain.',\n",
              " 'The unsupervised approach to summarization is also quite similar in spirit to unsupervised keyphrase extraction and gets around the issue of costly training data.',\n",
              " 'Some unsupervised summarization approaches are based on finding a \"centroid\" sentence, which is the mean word vector of all the sentences in the document.',\n",
              " 'Then the sentences can be ranked with regard to their similarity to this centroid sentence.',\n",
              " 'A more principled way to estimate sentence importance is using random walks and eigenvector centrality.',\n",
              " 'LexRank[15] is an algorithm essentially identical to TextRank, and both use this approach for document summarization.',\n",
              " 'The two methods were developed by different groups at the same time, and LexRank simply focused on summarization, but could just as easily be used for keyphrase extraction or any other NLP ranking task.',\n",
              " 'In both LexRank and TextRank, a graph is constructed by creating a vertex for each sentence in the document.',\n",
              " 'The edges between sentences are based on some form of semantic similarity or content overlap.',\n",
              " \"While LexRank uses cosine similarity of TF-IDF vectors, TextRank uses a very similar measure based on the number of words two sentences have in common (normalized by the sentences' lengths).\",\n",
              " 'The LexRank paper explored using unweighted edges after applying a threshold to the cosine values, but also experimented with using edges with weights equal to the similarity score.',\n",
              " 'TextRank uses continuous similarity scores as weights.',\n",
              " 'In both algorithms, the sentences are ranked by applying PageRank to the resulting graph.',\n",
              " 'A summary is formed by combining the top ranking sentences, using a threshold or length cutoff to limit the size of the summary.',\n",
              " 'It is worth noting that TextRank was applied to summarization exactly as described here, while LexRank was used as part of a larger summarization system (MEAD) that combines the LexRank score (stationary probability) with other features like sentence position and length using a linear combination with either user-specified or automatically tuned weights.',\n",
              " 'In this case, some training documents might be needed, though the TextRank results show the additional features are not absolutely necessary.',\n",
              " 'Another important distinction is that TextRank was used for single document summarization, while LexRank has been applied to multi-document summarization.',\n",
              " 'The task remains the same in both cases—only the number of sentences to choose from has grown.',\n",
              " 'However, when summarizing multiple documents, there is a greater risk of selecting duplicate or highly redundant sentences to place in the same summary.',\n",
              " 'Imagine you have a cluster of news articles on a particular event, and you want to produce one summary.',\n",
              " 'Each article is likely to have many similar sentences, and you would only want to include distinct ideas in the summary.',\n",
              " 'To address this issue, LexRank applies a heuristic post-processing step that builds up a summary by adding sentences in rank order, but discards any sentences that are too similar to ones already placed in the summary.',\n",
              " 'The method used is called Cross-Sentence Information Subsumption (CSIS).',\n",
              " 'These methods work based on the idea that sentences \"recommend\" other similar sentences to the reader.',\n",
              " 'Thus, if one sentence is very similar to many others, it will likely be a sentence of great importance.',\n",
              " 'The importance of this sentence also stems from the importance of the sentences \"recommending\" it.',\n",
              " 'Thus, to get ranked highly and placed in a summary, a sentence must be similar to many sentences that are in turn also similar to many other sentences.',\n",
              " 'This makes intuitive sense and allows the algorithms to be applied to any arbitrary new text.',\n",
              " 'The methods are domain-independent and easily portable.',\n",
              " 'One could imagine the features indicating important sentences in the news domain might vary considerably from the biomedical domain.',\n",
              " 'However, the unsupervised \"recommendation\"-based approach applies to any domain.',\n",
              " 'Multi-document summarization is an automatic procedure aimed at extraction of information from multiple texts written about the same topic.',\n",
              " 'Resulting summary report allows individual users, such as professional information consumers, to quickly familiarize themselves with information contained in a large cluster of documents.',\n",
              " 'In such a way, multi-document summarization systems are complementing the news aggregators performing the next step down the road of coping with information overload.',\n",
              " 'Multi-document summarization may also be done in response to a question.',\n",
              " '[16][8]\\n\\nMulti-document summarization creates information reports that are both concise and comprehensive.',\n",
              " 'With different opinions being put together and outlined, every topic is described from multiple perspectives within a single document.',\n",
              " 'While the goal of a brief summary is to simplify information search and cut the time by pointing to the most relevant source documents, comprehensive multi-document summary should itself contain the required information, hence limiting the need for accessing original files to cases when refinement is required.',\n",
              " 'Automatic summaries present information extracted from multiple sources algorithmically, without any editorial touch or subjective human intervention, thus making it completely unbiased.',\n",
              " '[dubious – discuss]\\n\\nMulti-document extractive summarization faces a problem of potential redundancy.',\n",
              " 'Ideally, we would like to extract sentences that are both \"central\" (i.e., contain the main ideas) and \"diverse\" (i.e., they differ from one another).',\n",
              " 'LexRank deals with diversity as a heuristic final stage using CSIS, and other systems have used similar methods, such as Maximal Marginal Relevance (MMR),[17] in trying to eliminate redundancy in information retrieval results.',\n",
              " 'There is a general purpose graph-based ranking algorithm like Page/Lex/TextRank that handles both \"centrality\" and \"diversity\" in a unified mathematical framework based on absorbing Markov chain random walks.',\n",
              " '(An absorbing random walk is like a standard random walk, except some states are now absorbing states that act as \"black holes\" that cause the walk to end abruptly at that state.)',\n",
              " 'The algorithm is called GRASSHOPPER.',\n",
              " '[18] In addition to explicitly promoting diversity during the ranking process, GRASSHOPPER incorporates a prior ranking (based on sentence position in the case of summarization).',\n",
              " 'The state of the art results for multi-document summarization, however, are obtained using mixtures of submodular functions.',\n",
              " 'These methods have achieved the state of the art results for Document Summarization Corpora, DUC 04 - 07.',\n",
              " '[19] Similar results were also achieved with the use of determinantal point processes (which are a special case of submodular functions) for DUC-04.',\n",
              " '[20]\\n\\nA new method for multi-lingual multi-document summarization that avoids redundancy works by simplifying and generating ideograms that represent the meaning of each sentence in each document and then evaluates similarity \"qualitatively\" by comparing the shape and position of said ideograms has recently been developed.',\n",
              " 'This tool does not use word frequency, does not need training or preprocessing of any kind and works by generating ideograms that represent the meaning of each sentence and then summarizes using two user-supplied parameters: equivalence (when are two sentences to be considered equivalent) and relevance (how long is the desired summary).',\n",
              " 'The idea of a submodular set function has recently emerged as a powerful modeling tool for various summarization problems.',\n",
              " 'Submodular functions naturally model notions of coverage, information, representation and diversity.',\n",
              " 'Moreover, several important combinatorial optimization problems occur as special instances of submodular optimization.',\n",
              " 'For example, the set cover problem is a special case of submodular optimization, since the set cover function is submodular.',\n",
              " 'The set cover function attempts to find a subset of objects which cover a given set of concepts.',\n",
              " 'For example, in document summarization, one would like the summary to cover all important and relevant concepts in the document.',\n",
              " 'This is an instance of set cover.',\n",
              " 'Similarly, the facility location problem is a special case of submodular functions.',\n",
              " 'The Facility Location function also naturally models coverage and diversity.',\n",
              " 'Another example of a submodular optimization problem is using a determinantal point process to model diversity.',\n",
              " 'Similarly, the Maximum-Marginal-Relevance procedure can also be seen as an instance of submodular optimization.',\n",
              " 'All these important models encouraging coverage, diversity and information are all submodular.',\n",
              " 'Moreover, submodular functions can be efficiently combined, and the resulting function is still submodular.',\n",
              " 'Hence, one could combine one submodular function which models diversity, another one which models coverage and use human supervision to learn a right model of a submodular function for the problem.',\n",
              " 'While submodular functions are fitting problems for summarization, they also admit very efficient algorithms for optimization.',\n",
              " 'For example, a simple greedy algorithm admits a constant factor guarantee.',\n",
              " '[21] Moreover, the greedy algorithm is extremely simple to implement and can scale to large datasets, which is very important for summarization problems.',\n",
              " 'Submodular functions have achieved state-of-the-art for almost all summarization problems.',\n",
              " 'For example, work by Lin and Bilmes, 2012[22] shows that submodular functions achieve the best results to date on DUC-04, DUC-05, DUC-06 and DUC-07 systems for document summarization.',\n",
              " 'Similarly, work by Lin and Bilmes, 2011,[23] shows that many existing systems for automatic summarization are instances of submodular functions.',\n",
              " 'This was a breakthrough result establishing submodular functions as the right models for summarization problems.',\n",
              " '[citation needed]\\n\\nSubmodular Functions have also been used for other summarization tasks.',\n",
              " 'Tschiatschek et al., 2014 show[24] that mixtures of submodular functions achieve state-of-the-art results for image collection summarization.',\n",
              " 'Similarly, Bairi et al., 2015[25] show the utility of submodular functions for summarizing multi-document topic hierarchies.',\n",
              " 'Submodular Functions have also successfully been used for summarizing machine learning datasets.',\n",
              " '[26]\\n• The Reddit bot \"autotldr\",[27] created in 2011 summarizes news articles in the comment-section of reddit posts.',\n",
              " 'It was found to be very useful by the reddit community which upvoted its summaries hundreds of thousands of times.',\n",
              " '[28] The name is reference to TL;DR − Internet slang for \"too long; didn\\'t read\".',\n",
              " '[29][30]\\n\\nThe most common way to evaluate the informativeness of automatic summaries is to compare them with human-made model summaries.',\n",
              " 'Evaluation techniques fall into intrinsic and extrinsic,[31] inter-textual and intra-textual.',\n",
              " '[32]\\n\\nAn intrinsic evaluation tests the summarization system in and of itself while an extrinsic evaluation tests the summarization based on how it affects the completion of some other task.',\n",
              " 'Intrinsic evaluations have assessed mainly the coherence and informativeness of summaries.',\n",
              " 'Extrinsic evaluations, on the other hand, have tested the impact of summarization on tasks like relevance assessment, reading comprehension, etc.',\n",
              " 'Intra-textual methods assess the output of a specific summarization system, and the inter-textual ones focus on contrastive analysis of outputs of several summarization systems.',\n",
              " 'Human judgement often has wide variance on what is considered a \"good\" summary, which means that making the evaluation process automatic is particularly difficult.',\n",
              " 'Manual evaluation can be used, but this is both time and labor-intensive as it requires humans to read not only the summaries but also the source documents.',\n",
              " 'Other issues are those concerning coherence and coverage.',\n",
              " \"One of the metrics used in NIST's annual Document Understanding Conferences, in which research groups submit their systems for both summarization and translation tasks, is the ROUGE metric (Recall-Oriented Understudy for Gisting Evaluation [2]).\",\n",
              " 'It essentially calculates n-gram overlaps between automatically generated summaries and previously written human summaries.',\n",
              " 'A high level of overlap should indicate a high level of shared concepts between the two summaries.',\n",
              " \"Note that overlap metrics like this are unable to provide any feedback on a summary's coherence.\",\n",
              " 'Anaphor resolution remains another problem yet to be fully solved.',\n",
              " 'Similarly, for image summarization, Tschiatschek et al., developed a Visual-ROUGE score which judges the performance of algorithms for image summarization.',\n",
              " '[33]\\n\\nDomain independent summarization techniques generally apply sets of general features which can be used to identify information-rich text segments.',\n",
              " 'Recent research focus has drifted to domain-specific summarization techniques that utilize the available knowledge specific to the domain of text.',\n",
              " 'For example, automatic summarization research on medical text generally attempts to utilize the various sources of codified medical knowledge and ontologies.',\n",
              " '[34]\\n\\nThe main drawback of the evaluation systems existing so far is that we need at least one reference summary, and for some methods more than one, to be able to compare automatic summaries with models.',\n",
              " 'This is a hard and expensive task.',\n",
              " 'Much effort has to be done in order to have corpus of texts and their corresponding summaries.',\n",
              " 'Furthermore, for some methods, not only do we need to have human-made summaries available for comparison, but also manual annotation has to be performed in some of them (e.g.',\n",
              " 'SCU in the Pyramid Method).',\n",
              " 'In any case, what the evaluation methods need as an input, is a set of summaries to serve as gold standards and a set of automatic summaries.',\n",
              " 'Moreover, they all perform a quantitative evaluation with regard to different similarity metrics.',\n",
              " 'The first publication in the area dates back to 1957 [35] (Hans Peter Luhn), starting with a statistical technique.',\n",
              " 'Research increased significantly in 2015.',\n",
              " 'Term frequency–inverse document frequency had been used by 2016.',\n",
              " 'Pattern-based summarization was the most powerful option for multi-document summarization found by 2016.',\n",
              " 'In the following year it was surpassed by latent semantic analysis (LSA) combined with non-negative matrix factorization (NMF).',\n",
              " 'Although they did not replace other approaches and are often combined with them, by 2019 machine learning methods dominated the extractive summarization of single documents, which was considered to be nearing maturity.',\n",
              " 'By 2020, the field was still very active and research is shifting towards abstractive summation and real-time summarization.',\n",
              " '[36]\\n\\nRecently the rise of Transformer models replacing more traditional RNN (LSTM) have provided a flexibility in the mapping of text sequences to text sequences of a different type, which is well suited to automatic summarization.',\n",
              " 'This includes models such as T5[37] and Pegasus.',\n",
              " '• None Roxana, Angheluta (2002).',\n",
              " 'The Use of Topic Segmentation for Automatic Summarization.',\n",
              " '• None Elena, Lloret and Manuel, Palomar (2009).',\n",
              " 'Challenging Issues of Automatic Summarization: Relevance Detection and Quality-based Evaluation.',\n",
              " '• None Alrehamy, Hassan (2017).',\n",
              " '\"SemCluster: Unsupervised Automatic Keyphrase Extraction Using Affinity Propagation\".',\n",
              " 'Automatic Keyphrases Extraction.',\n",
              " 'Advances in Intelligent Systems and Computing.',\n",
              " 'Vol.',\n",
              " '650. pp.',\n",
              " '222–235.',\n",
              " 'doi:10.1007/978-3-319-66939-7_19.',\n",
              " 'ISBN .',\n",
              " '• None Marcu, Daniel (2000).',\n",
              " 'The Theory and Practice of Discourse Parsing and Summarization.',\n",
              " 'ISBN .',\n",
              " \"• , Published in Proceeding RIAO'10 Adaptivity, Personalization and Fusion of Heterogeneous Information, CID Paris, France\\n• None Xiaojin, Zhu, Andrew Goldberg, Jurgen Van Gael, and David Andrzejewski (2007).\",\n",
              " 'Improving diversity in ranking using absorbing random walks .',\n",
              " ', The GRASSHOPPER algorithm\\n• None Miranda-Jiménez, Sabino, Gelbukh, Alexander, and Sidorov, Grigori (2013).',\n",
              " '\"Summarizing Conceptual Graphs for Automatic Summarization Task\".',\n",
              " 'Conceptual Structures for STEM Research and Education.',\n",
              " 'Lecture Notes in Computer Science.',\n",
              " 'Vol.',\n",
              " '7735. pp.',\n",
              " '245–253.',\n",
              " 'doi:10.1007/978-3-642-35786-2_18.',\n",
              " 'ISBN .',\n",
              " ', Conceptual Structures for STEM Research and Education.']"
            ]
          },
          "metadata": {},
          "execution_count": 5
        }
      ]
    },
    {
      "cell_type": "code",
      "metadata": {
        "id": "T8knHJ-F6sPn"
      },
      "source": [
        "from IPython.core.display import HTML\n",
        "def visualize(title, sentence_list, best_sentences):\n",
        "  text = ''\n",
        "\n",
        "  display(HTML(f'<h1>Summary - {title}</h1>'))\n",
        "  for sentence in sentence_list:\n",
        "    if sentence in best_sentences:\n",
        "      text += ' ' + str(sentence).replace(sentence, f\"<mark>{sentence}</mark>\")\n",
        "    else:\n",
        "      text += ' ' + sentence\n",
        "  display(HTML(f\"\"\" {text} \"\"\"))"
      ],
      "execution_count": null,
      "outputs": []
    },
    {
      "cell_type": "markdown",
      "metadata": {
        "id": "u1TWH_Jx7Kc7"
      },
      "source": [
        "## sumy\n",
        "\n",
        "- https://pypi.org/project/sumy/"
      ]
    },
    {
      "cell_type": "code",
      "metadata": {
        "id": "kACo0qDXLp5E",
        "colab": {
          "base_uri": "https://localhost:8080/"
        },
        "outputId": "21a37789-294d-43e5-b6e7-2f23c1b9cd74"
      },
      "source": [
        "!pip install sumy"
      ],
      "execution_count": null,
      "outputs": [
        {
          "output_type": "stream",
          "name": "stdout",
          "text": [
            "Looking in indexes: https://pypi.org/simple, https://us-python.pkg.dev/colab-wheels/public/simple/\n",
            "Collecting sumy\n",
            "  Downloading sumy-0.10.0-py2.py3-none-any.whl (94 kB)\n",
            "\u001b[K     |████████████████████████████████| 94 kB 3.1 MB/s \n",
            "\u001b[?25hCollecting pycountry>=18.2.23\n",
            "  Downloading pycountry-22.3.5.tar.gz (10.1 MB)\n",
            "\u001b[K     |████████████████████████████████| 10.1 MB 47.2 MB/s \n",
            "\u001b[?25h  Installing build dependencies ... \u001b[?25l\u001b[?25hdone\n",
            "  Getting requirements to build wheel ... \u001b[?25l\u001b[?25hdone\n",
            "    Preparing wheel metadata ... \u001b[?25l\u001b[?25hdone\n",
            "Requirement already satisfied: nltk>=3.0.2 in /usr/local/lib/python3.7/dist-packages (from sumy) (3.7)\n",
            "Requirement already satisfied: requests>=2.7.0 in /usr/local/lib/python3.7/dist-packages (from sumy) (2.23.0)\n",
            "Collecting breadability>=0.1.20\n",
            "  Downloading breadability-0.1.20.tar.gz (32 kB)\n",
            "Requirement already satisfied: docopt<0.7,>=0.6.1 in /usr/local/lib/python3.7/dist-packages (from sumy) (0.6.2)\n",
            "Requirement already satisfied: chardet in /usr/local/lib/python3.7/dist-packages (from breadability>=0.1.20->sumy) (3.0.4)\n",
            "Requirement already satisfied: lxml>=2.0 in /usr/local/lib/python3.7/dist-packages (from breadability>=0.1.20->sumy) (4.2.6)\n",
            "Requirement already satisfied: click in /usr/local/lib/python3.7/dist-packages (from nltk>=3.0.2->sumy) (7.1.2)\n",
            "Requirement already satisfied: joblib in /usr/local/lib/python3.7/dist-packages (from nltk>=3.0.2->sumy) (1.1.0)\n",
            "Requirement already satisfied: tqdm in /usr/local/lib/python3.7/dist-packages (from nltk>=3.0.2->sumy) (4.64.0)\n",
            "Requirement already satisfied: regex>=2021.8.3 in /usr/local/lib/python3.7/dist-packages (from nltk>=3.0.2->sumy) (2022.6.2)\n",
            "Requirement already satisfied: setuptools in /usr/local/lib/python3.7/dist-packages (from pycountry>=18.2.23->sumy) (57.4.0)\n",
            "Requirement already satisfied: idna<3,>=2.5 in /usr/local/lib/python3.7/dist-packages (from requests>=2.7.0->sumy) (2.10)\n",
            "Requirement already satisfied: urllib3!=1.25.0,!=1.25.1,<1.26,>=1.21.1 in /usr/local/lib/python3.7/dist-packages (from requests>=2.7.0->sumy) (1.24.3)\n",
            "Requirement already satisfied: certifi>=2017.4.17 in /usr/local/lib/python3.7/dist-packages (from requests>=2.7.0->sumy) (2022.6.15)\n",
            "Building wheels for collected packages: breadability, pycountry\n",
            "  Building wheel for breadability (setup.py) ... \u001b[?25l\u001b[?25hdone\n",
            "  Created wheel for breadability: filename=breadability-0.1.20-py2.py3-none-any.whl size=21712 sha256=a925b131eb7446b4f55d86cfbba79360c70b3afc2541fc45fa69a23d83779f8b\n",
            "  Stored in directory: /root/.cache/pip/wheels/d4/bf/51/81d27ad638e1a6dca4f362ecc33d1e2c764b8ea7ec751b8fc1\n",
            "  Building wheel for pycountry (PEP 517) ... \u001b[?25l\u001b[?25hdone\n",
            "  Created wheel for pycountry: filename=pycountry-22.3.5-py2.py3-none-any.whl size=10681845 sha256=af8cc123f92d7251bb957396e3a98f1488e4300d7c31e23a3065f08cc7a1f716\n",
            "  Stored in directory: /root/.cache/pip/wheels/0e/06/e8/7ee176e95ea9a8a8c3b3afcb1869f20adbd42413d4611c6eb4\n",
            "Successfully built breadability pycountry\n",
            "Installing collected packages: pycountry, breadability, sumy\n",
            "Successfully installed breadability-0.1.20 pycountry-22.3.5 sumy-0.10.0\n"
          ]
        }
      ]
    },
    {
      "cell_type": "code",
      "metadata": {
        "id": "pGmmx_z4LyAH"
      },
      "source": [
        "from sumy.parsers.plaintext import PlaintextParser\n",
        "from sumy.nlp.tokenizers import Tokenizer\n",
        "from sumy.summarizers.luhn import LuhnSummarizer"
      ],
      "execution_count": null,
      "outputs": []
    },
    {
      "cell_type": "code",
      "metadata": {
        "id": "risPlH5GMIUJ"
      },
      "source": [
        "parser = PlaintextParser.from_string(article.cleaned_text, Tokenizer('english'))"
      ],
      "execution_count": null,
      "outputs": []
    },
    {
      "cell_type": "code",
      "metadata": {
        "id": "SPk87EYVMgWY"
      },
      "source": [
        "summarizer = LuhnSummarizer()"
      ],
      "execution_count": null,
      "outputs": []
    },
    {
      "cell_type": "code",
      "metadata": {
        "id": "HwA4OQ5RMkgt"
      },
      "source": [
        "summary = summarizer(parser.document, 120)"
      ],
      "execution_count": null,
      "outputs": []
    },
    {
      "cell_type": "code",
      "metadata": {
        "colab": {
          "base_uri": "https://localhost:8080/"
        },
        "id": "UTBuRPJ_M0z6",
        "outputId": "d6397b8f-8c18-4635-bf89-ba77662b83e3"
      },
      "source": [
        "summary"
      ],
      "execution_count": null,
      "outputs": [
        {
          "output_type": "execute_result",
          "data": {
            "text/plain": [
              "(<Sentence: Automatic summarization is the process of shortening a set of data computationally, to create a subset (a summary) that represents the most important or relevant information within the original content.>,\n",
              " <Sentence: Text summarization finds the most informative sentences in a document;[1] various methods of image summarization are the subject of ongoing research, with some looking to display the most representative images from a given collection or generating a video;[2][3][4] video summarization extracts the most important frames from the video content.>,\n",
              " <Sentence: Here, content is extracted from the original data, but the extracted content is not modified in any way.>,\n",
              " <Sentence: Examples of extracted content include key-phrases that can be used to \"tag\" or index a text document, or key sentences (including headings) that collectively comprise an abstract, and representative images or video segments, as stated above.>,\n",
              " <Sentence: For text, extraction is analogous to the process of skimming, where the summary (if available), headings and subheadings, figures, the first and last paragraphs of a section, and optionally the first and last sentences in a paragraph are read before one chooses to read the entire document in detail.>,\n",
              " <Sentence: [7] Other examples of extraction that include key sequences of text in terms of clinical relevance (including patient/problem, intervention, and outcome).>,\n",
              " <Sentence: Abstractive methods build an internal semantic representation of the original content, and then use this representation to create a summary that is closer to what a human might express.>,\n",
              " <Sentence: Such transformation, however, is computationally much more challenging than extraction, involving both natural language processing and often a deep understanding of the domain of the original text in cases where the original document relates to a special field of knowledge.>,\n",
              " <Sentence: \"Paraphrasing\" is even more difficult to apply to image and video, which is why most summarization systems are extractive.>,\n",
              " <Sentence: In Human Aided Machine Summarization, a human post-processes software output, in the same way that one edits the output of automatic translation by Google Translate.>,\n",
              " <Sentence: The first is generic summarization, which focuses on obtaining a generic summary or abstract of the collection (whether documents, or sets of images, or videos, news stories etc.).>,\n",
              " <Sentence: The second is query relevant summarization, sometimes called query-based summarization, which summarizes objects specific to a query.>,\n",
              " <Sentence: Summarization systems are able to create both query relevant text summaries and generic machine-generated summaries depending on what the user needs.>,\n",
              " <Sentence: An example of a summarization problem is document summarization, which attempts to automatically produce an abstract from a given document.>,\n",
              " <Sentence: Sometimes one might be interested in generating a summary from a single source document, while others can use multiple source documents (for example, a cluster of articles on the same topic).>,\n",
              " <Sentence: Imagine a system, which automatically pulls together news articles on a given topic (from the web), and concisely represents the latest news as a summary.>,\n",
              " <Sentence: [9] A summary in this context is useful to show the most representative images of results in an image collection exploration system.>,\n",
              " <Sentence: At a very high level, summarization algorithms try to find subsets of objects (like set of sentences, or a set of images), which cover information of the entire set.>,\n",
              " <Sentence: Some techniques and algorithms which naturally model summarization problems are TextRank and PageRank, Submodular set function, Determinantal point process, maximal marginal relevance (MMR) etc.>,\n",
              " <Sentence: You are given a piece of text, such as a journal article, and you must produce a list of keywords or key[phrase]s that capture the primary topics discussed in the text.>,\n",
              " <Sentence: For example, news articles rarely have keyphrases attached, but it would be useful to be able to automatically do so for a number of applications discussed below.>,\n",
              " <Sentence: In contrast, an abstractive keyphrase system would somehow internalize the content and generate keyphrases that do not appear in the text, but more closely resemble what a human might produce, such as \"political negligence\" or \"inadequate protection from floods\".>,\n",
              " <Sentence: Abstraction requires a deep understanding of the text, which makes it difficult for a computer system.>,\n",
              " <Sentence: They can enable document browsing by providing a short summary, improve information retrieval (if documents have keyphrases assigned, a user could search by keyphrase to produce more reliable hits than a full-text search), and be employed in generating index entries for a large text corpus.>,\n",
              " <Sentence: Given a document, we construct an example for each unigram, bigram, and trigram found in the text (though other text units are also possible, as discussed below).>,\n",
              " <Sentence: Then we learn a classifier that can discriminate between positive and negative examples as a function of the features.>,\n",
              " <Sentence: Some classifiers make a binary classification for a test example, while others assign a probability of being a keyphrase.>,\n",
              " <Sentence: For instance, in the above text, we might learn a rule that says phrases with initial capital letters are likely to be keyphrases.>,\n",
              " <Sentence: Ideally, the mechanism for generating examples produces all the known labeled keyphrases as candidates, though this is often not the case.>,\n",
              " <Sentence: For example, if we use only unigrams, bigrams, and trigrams, then we will never be able to extract a known keyphrase containing four words.>,\n",
              " <Sentence: We also need to create features that describe the examples and are informative enough to allow a learning algorithm to discriminate keyphrases from non- keyphrases.>,\n",
              " <Sentence: Typically features involve various term frequencies (how many times a phrase appears in the current text or in a larger corpus), the length of the example, relative position of the first occurrence, various boolean syntactic features (e.g., contains all caps), etc.>,\n",
              " <Sentence: In the end, the system will need to return a list of keyphrases for a test document, so we need to have a way to limit the number.>,\n",
              " <Sentence: Ensemble methods (i.e., using votes from several classifiers) have been used to produce numeric scores that can be thresholded to provide a user-provided number of keyphrases.>,\n",
              " <Sentence: In the case of Turney's GenEx algorithm, a genetic algorithm is used to learn parameters for a domain-specific keyphrase extraction algorithm.>,\n",
              " <Sentence: The genetic algorithm optimizes parameters for these heuristics with respect to performance on training documents with known key phrases.>,\n",
              " <Sentence: While supervised methods have some nice properties, like being able to produce interpretable rules for what features characterize a keyphrase, they also require a large amount of training data.>,\n",
              " <Sentence: Furthermore, training on a specific domain tends to customize the extraction process to that domain, so the resulting classifier is not necessarily portable, as some of Turney's results demonstrate.>,\n",
              " <Sentence: Instead of trying to learn explicit features that characterize keyphrases, the TextRank algorithm[12] exploits the structure of the text itself to determine keyphrases that appear \"central\" to the text in the same way that PageRank selects important Web pages.>,\n",
              " <Sentence: In this way, TextRank does not rely on any previous training data at all, but rather can be run on any arbitrary piece of text, and it can produce output simply based on the text's intrinsic properties.>,\n",
              " <Sentence: Once the graph is constructed, it is used to form a stochastic matrix, combined with a damping factor (as in the \"random surfer model\"), and the ranking over vertices is obtained by finding the eigenvector corresponding to eigenvalue 1 (i.e., the stationary distribution of the random walk on the graph).>,\n",
              " <Sentence: Potentially, we could do something similar to the supervised methods and create a vertex for each unigram, bigram, trigram, etc.>,\n",
              " <Sentence: However, to keep the graph small, the authors decide to rank individual unigrams in a first step, and then include a second step that merges highly ranked adjacent unigrams to form multi-word phrases.>,\n",
              " <Sentence: For example, if we rank unigrams and find that \"advanced\", \"natural\", \"language\", and \"processing\" all get high ranks, then we would look at the original text and see that these words appear consecutively and create a final keyphrase using all four together.>,\n",
              " <Sentence: Two vertices are connected by an edge if the unigrams appear within a window of size N in the original text.>,\n",
              " <Sentence: \"Natural\" and \"processing\" would also be linked because they would both appear in the same string of N words.>,\n",
              " <Sentence: These edges build on the notion of \"text cohesion\" and the idea that words that appear near each other are likely related in a meaningful way and \"recommend\" each other to the reader.>,\n",
              " <Sentence: Since this method simply ranks the individual vertices, we need a way to threshold or produce a limited number of keyphrases.>,\n",
              " <Sentence: The technique chosen is to set a count T to be a user-specified fraction of the total number of vertices in the graph.>,\n",
              " <Sentence: As a result, potentially more or less than T final keyphrases will be produced, but the number should be roughly proportional to the length of the original text.>,\n",
              " <Sentence: For example, in a text about machine learning, the unigram \"learning\" might co-occur with \"machine\", \"supervised\", \"un-supervised\", and \"semi-supervised\" in four different sentences.>,\n",
              " <Sentence: Similarly, if the text contains the phrase \"supervised classification\", then there would be an edge between \"supervised\" and \"classification\".>,\n",
              " <Sentence: If \"classification\" appears several other places and thus has many neighbors, its importance would contribute to the importance of \"supervised\".>,\n",
              " <Sentence: If it ends up with a high rank, it will be selected as one of the top T unigrams, along with \"learning\" and probably \"classification\".>,\n",
              " <Sentence: In the final post-processing step, we would then end up with keyphrases \"supervised learning\" and \"supervised classification\".>,\n",
              " <Sentence: In short, the co-occurrence graph will contain densely connected regions for terms that appear often and in different contexts.>,\n",
              " <Sentence: A random walk on this graph will have a stationary distribution that assigns large probabilities to the terms in the centers of the clusters.>,\n",
              " <Sentence: This is a recall-based measure that determines how well a system-generated summary covers the content present in one or more human-generated model summaries known as references.>,\n",
              " <Sentence: For example, ROUGE-1 is computed as division of count of unigrams in reference that appear in system and count of unigrams in reference summary.>,\n",
              " <Sentence: Because ROUGE is based only on content overlap, it can determine if the same general concepts are discussed between an automatic summary and a reference summary, but it cannot determine if the result is coherent or the sentences flow together in a sensible manner.>,\n",
              " <Sentence: Note that ROUGE is similar to the BLEU measure for machine translation, but BLEU is precision- based, because translation systems favor accuracy.>,\n",
              " <Sentence: Basically, if you have a collection of documents and human-generated summaries for them, you can learn features of sentences that make them good candidates for inclusion in the summary.>,\n",
              " <Sentence: Features might include the position in the document (i.e., the first few sentences are probably important), the number of words in the sentence, etc.>,\n",
              " <Sentence: The main difficulty in supervised extractive summarization is that the known summaries must be manually created by extracting sentences so the sentences in an original training document can be labeled as \"in summary\" or \"not in summary\".>,\n",
              " <Sentence: The sentences in these summaries do not necessarily match up with sentences in the original text, so it would be difficult to assign labels to examples for training.>,\n",
              " <Sentence: During the DUC 2001 and 2002 evaluation workshops, TNO developed a sentence extraction system for multi-document summarization in the news domain.>,\n",
              " <Sentence: The system was based on a hybrid system using a naive Bayes classifier and statistical language models for modeling salience.>,\n",
              " <Sentence: Although the system exhibited good results, the researchers wanted to explore the effectiveness of a maximum entropy (ME) classifier for the meeting summarization task, as ME is known to be robust against feature dependencies.>,\n",
              " <Sentence: The unsupervised approach to summarization is also quite similar in spirit to unsupervised keyphrase extraction and gets around the issue of costly training data.>,\n",
              " <Sentence: Some unsupervised summarization approaches are based on finding a \"centroid\" sentence, which is the mean word vector of all the sentences in the document.>,\n",
              " <Sentence: The two methods were developed by different groups at the same time, and LexRank simply focused on summarization, but could just as easily be used for keyphrase extraction or any other NLP ranking task.>,\n",
              " <Sentence: In both LexRank and TextRank, a graph is constructed by creating a vertex for each sentence in the document.>,\n",
              " <Sentence: While LexRank uses cosine similarity of TF-IDF vectors, TextRank uses a very similar measure based on the number of words two sentences have in common (normalized by the sentences' lengths).>,\n",
              " <Sentence: The LexRank paper explored using unweighted edges after applying a threshold to the cosine values, but also experimented with using edges with weights equal to the similarity score.>,\n",
              " <Sentence: A summary is formed by combining the top ranking sentences, using a threshold or length cutoff to limit the size of the summary.>,\n",
              " <Sentence: It is worth noting that TextRank was applied to summarization exactly as described here, while LexRank was used as part of a larger summarization system (MEAD) that combines the LexRank score (stationary probability) with other features like sentence position and length using a linear combination with either user-specified or automatically tuned weights.>,\n",
              " <Sentence: In this case, some training documents might be needed, though the TextRank results show the additional features are not absolutely necessary.>,\n",
              " <Sentence: Another important distinction is that TextRank was used for single document summarization, while LexRank has been applied to multi-document summarization.>,\n",
              " <Sentence: However, when summarizing multiple documents, there is a greater risk of selecting duplicate or highly redundant sentences to place in the same summary.>,\n",
              " <Sentence: Imagine you have a cluster of news articles on a particular event, and you want to produce one summary.>,\n",
              " <Sentence: Each article is likely to have many similar sentences, and you would only want to include distinct ideas in the summary.>,\n",
              " <Sentence: To address this issue, LexRank applies a heuristic post-processing step that builds up a summary by adding sentences in rank order, but discards any sentences that are too similar to ones already placed in the summary.>,\n",
              " <Sentence: These methods work based on the idea that sentences \"recommend\" other similar sentences to the reader.>,\n",
              " <Sentence: Thus, if one sentence is very similar to many others, it will likely be a sentence of great importance.>,\n",
              " <Sentence: Thus, to get ranked highly and placed in a summary, a sentence must be similar to many sentences that are in turn also similar to many other sentences.>,\n",
              " <Sentence: Multi-document summarization is an automatic procedure aimed at extraction of information from multiple texts written about the same topic.>,\n",
              " <Sentence: While the goal of a brief summary is to simplify information search and cut the time by pointing to the most relevant source documents, comprehensive multi-document summary should itself contain the required information, hence limiting the need for accessing original files to cases when refinement is required.>,\n",
              " <Sentence: Ideally, we would like to extract sentences that are both \"central\" (i.e., contain the main ideas) and \"diverse\" (i.e., they differ from one another).>,\n",
              " <Sentence: LexRank deals with diversity as a heuristic final stage using CSIS, and other systems have used similar methods, such as Maximal Marginal Relevance (MMR),[17] in trying to eliminate redundancy in information retrieval results.>,\n",
              " <Sentence: There is a general purpose graph-based ranking algorithm like Page/Lex/TextRank that handles both \"centrality\" and \"diversity\" in a unified mathematical framework based on absorbing Markov chain random walks.>,\n",
              " <Sentence: (An absorbing random walk is like a standard random walk, except some states are now absorbing states that act as \"black holes\" that cause the walk to end abruptly at that state.)>,\n",
              " <Sentence: [18] In addition to explicitly promoting diversity during the ranking process, GRASSHOPPER incorporates a prior ranking (based on sentence position in the case of summarization).>,\n",
              " <Sentence: The state of the art results for multi-document summarization, however, are obtained using mixtures of submodular functions.>,\n",
              " <Sentence: [19] Similar results were also achieved with the use of determinantal point processes (which are a special case of submodular functions) for DUC-04.>,\n",
              " <Sentence: A new method for multi-lingual multi-document summarization that avoids redundancy works by simplifying and generating ideograms that represent the meaning of each sentence in each document and then evaluates similarity \"qualitatively\" by comparing the shape and position of said ideograms has recently been developed.>,\n",
              " <Sentence: This tool does not use word frequency, does not need training or preprocessing of any kind and works by generating ideograms that represent the meaning of each sentence and then summarizes using two user-supplied parameters: equivalence (when are two sentences to be considered equivalent) and relevance (how long is the desired summary).>,\n",
              " <Sentence: The idea of a submodular set function has recently emerged as a powerful modeling tool for various summarization problems.>,\n",
              " <Sentence: For example, the set cover problem is a special case of submodular optimization, since the set cover function is submodular.>,\n",
              " <Sentence: The set cover function attempts to find a subset of objects which cover a given set of concepts.>,\n",
              " <Sentence: For example, in document summarization, one would like the summary to cover all important and relevant concepts in the document.>,\n",
              " <Sentence: Another example of a submodular optimization problem is using a determinantal point process to model diversity.>,\n",
              " <Sentence: Hence, one could combine one submodular function which models diversity, another one which models coverage and use human supervision to learn a right model of a submodular function for the problem.>,\n",
              " <Sentence: [21] Moreover, the greedy algorithm is extremely simple to implement and can scale to large datasets, which is very important for summarization problems.>,\n",
              " <Sentence: For example, work by Lin and Bilmes, 2012[22] shows that submodular functions achieve the best results to date on DUC-04, DUC-05, DUC-06 and DUC-07 systems for document summarization.>,\n",
              " <Sentence: Similarly, work by Lin and Bilmes, 2011,[23] shows that many existing systems for automatic summarization are instances of submodular functions.>,\n",
              " <Sentence: The most common way to evaluate the informativeness of automatic summaries is to compare them with human-made model summaries.>,\n",
              " <Sentence: An intrinsic evaluation tests the summarization system in and of itself while an extrinsic evaluation tests the summarization based on how it affects the completion of some other task.>,\n",
              " <Sentence: Intra-textual methods assess the output of a specific summarization system, and the inter-textual ones focus on contrastive analysis of outputs of several summarization systems.>,\n",
              " <Sentence: Manual evaluation can be used, but this is both time and labor-intensive as it requires humans to read not only the summaries but also the source documents.>,\n",
              " <Sentence: One of the metrics used in NIST's annual Document Understanding Conferences, in which research groups submit their systems for both summarization and translation tasks, is the ROUGE metric (Recall-Oriented Understudy for Gisting Evaluation [2]).>,\n",
              " <Sentence: Similarly, for image summarization, Tschiatschek et al., developed a Visual-ROUGE score which judges the performance of algorithms for image summarization.>,\n",
              " <Sentence: Domain independent summarization techniques generally apply sets of general features which can be used to identify information-rich text segments.>,\n",
              " <Sentence: Recent research focus has drifted to domain-specific summarization techniques that utilize the available knowledge specific to the domain of text.>,\n",
              " <Sentence: For example, automatic summarization research on medical text generally attempts to utilize the various sources of codified medical knowledge and ontologies.>,\n",
              " <Sentence: The main drawback of the evaluation systems existing so far is that we need at least one reference summary, and for some methods more than one, to be able to compare automatic summaries with models.>,\n",
              " <Sentence: Much effort has to be done in order to have corpus of texts and their corresponding summaries.>,\n",
              " <Sentence: Furthermore, for some methods, not only do we need to have human-made summaries available for comparison, but also manual annotation has to be performed in some of them (e.g. SCU in the Pyramid Method).>,\n",
              " <Sentence: In any case, what the evaluation methods need as an input, is a set of summaries to serve as gold standards and a set of automatic summaries.>,\n",
              " <Sentence: Although they did not replace other approaches and are often combined with them, by 2019 machine learning methods dominated the extractive summarization of single documents, which was considered to be nearing maturity.>,\n",
              " <Sentence: Recently the rise of Transformer models replacing more traditional RNN (LSTM) have provided a flexibility in the mapping of text sequences to text sequences of a different type, which is well suited to automatic summarization.>)"
            ]
          },
          "metadata": {},
          "execution_count": 12
        }
      ]
    },
    {
      "cell_type": "code",
      "metadata": {
        "id": "bY428b13M8K4"
      },
      "source": [
        "best_sentences = []\n",
        "for sentence in summary:\n",
        "  #print(sentence)\n",
        "  best_sentences.append(str(sentence))"
      ],
      "execution_count": null,
      "outputs": []
    },
    {
      "cell_type": "code",
      "metadata": {
        "colab": {
          "base_uri": "https://localhost:8080/",
          "height": 1000
        },
        "id": "DCuw_PW2NNkQ",
        "outputId": "ec48446b-1fce-4761-c4f2-45034c529462"
      },
      "source": [
        "visualize(article.title, original_sentences, best_sentences)"
      ],
      "execution_count": null,
      "outputs": [
        {
          "output_type": "display_data",
          "data": {
            "text/plain": [
              "<IPython.core.display.HTML object>"
            ],
            "text/html": [
              "<h1>Summary - Automatic summarization - Wikipedia</h1>"
            ]
          },
          "metadata": {}
        },
        {
          "output_type": "display_data",
          "data": {
            "text/plain": [
              "<IPython.core.display.HTML object>"
            ],
            "text/html": [
              "  <mark>Automatic summarization is the process of shortening a set of data computationally, to create a subset (a summary) that represents the most important or relevant information within the original content.</mark> In addition to text, images and videos can also be summarized. <mark>Text summarization finds the most informative sentences in a document;[1] various methods of image summarization are the subject of ongoing research, with some looking to display the most representative images from a given collection or generating a video;[2][3][4] video summarization extracts the most important frames from the video content.</mark> [5]\n",
              "\n",
              "There are two general approaches to automatic summarization: extraction and abstraction. <mark>Here, content is extracted from the original data, but the extracted content is not modified in any way.</mark> <mark>Examples of extracted content include key-phrases that can be used to \"tag\" or index a text document, or key sentences (including headings) that collectively comprise an abstract, and representative images or video segments, as stated above.</mark> <mark>For text, extraction is analogous to the process of skimming, where the summary (if available), headings and subheadings, figures, the first and last paragraphs of a section, and optionally the first and last sentences in a paragraph are read before one chooses to read the entire document in detail.</mark> <mark>[7] Other examples of extraction that include key sequences of text in terms of clinical relevance (including patient/problem, intervention, and outcome).</mark> [8]\n",
              "\n",
              "This has been applied mainly for text. <mark>Abstractive methods build an internal semantic representation of the original content, and then use this representation to create a summary that is closer to what a human might express.</mark> Abstraction may transform the extracted content by paraphrasing sections of the source document, to condense a text more strongly than extraction. <mark>Such transformation, however, is computationally much more challenging than extraction, involving both natural language processing and often a deep understanding of the domain of the original text in cases where the original document relates to a special field of knowledge.</mark> <mark>\"Paraphrasing\" is even more difficult to apply to image and video, which is why most summarization systems are extractive.</mark> Approaches aimed at higher summarization quality rely on combined software and human effort. In Machine Aided Human Summarization, extractive techniques highlight candidate passages for inclusion (to which the human adds or removes text). <mark>In Human Aided Machine Summarization, a human post-processes software output, in the same way that one edits the output of automatic translation by Google Translate.</mark> There are broadly two types of extractive summarization tasks depending on what the summarization program focuses on. <mark>The first is generic summarization, which focuses on obtaining a generic summary or abstract of the collection (whether documents, or sets of images, or videos, news stories etc.).</mark> <mark>The second is query relevant summarization, sometimes called query-based summarization, which summarizes objects specific to a query.</mark> <mark>Summarization systems are able to create both query relevant text summaries and generic machine-generated summaries depending on what the user needs.</mark> <mark>An example of a summarization problem is document summarization, which attempts to automatically produce an abstract from a given document.</mark> <mark>Sometimes one might be interested in generating a summary from a single source document, while others can use multiple source documents (for example, a cluster of articles on the same topic).</mark> This problem is called multi-document summarization. A related application is summarizing news articles. <mark>Imagine a system, which automatically pulls together news articles on a given topic (from the web), and concisely represents the latest news as a summary.</mark> Image collection summarization is another application example of automatic summarization. It consists in selecting a representative set of images from a larger set of images. <mark>[9] A summary in this context is useful to show the most representative images of results in an image collection exploration system.</mark> Video summarization is a related domain, where the system automatically creates a trailer of a long video. This also has applications in consumer or personal videos, where one might want to skip the boring or repetitive actions. Similarly, in surveillance videos, one would want to extract important and suspicious activity, while ignoring all the boring and redundant frames captured. <mark>At a very high level, summarization algorithms try to find subsets of objects (like set of sentences, or a set of images), which cover information of the entire set.</mark> This is also called the core-set. These algorithms model notions like diversity, coverage, information and representativeness of the summary. Query based summarization techniques, additionally model for relevance of the summary with the query. <mark>Some techniques and algorithms which naturally model summarization problems are TextRank and PageRank, Submodular set function, Determinantal point process, maximal marginal relevance (MMR) etc.</mark> The task is the following. <mark>You are given a piece of text, such as a journal article, and you must produce a list of keywords or key[phrase]s that capture the primary topics discussed in the text.</mark> [10] In the case of research articles, many authors provide manually assigned keywords, but most text lacks pre-existing keyphrases. <mark>For example, news articles rarely have keyphrases attached, but it would be useful to be able to automatically do so for a number of applications discussed below.</mark> Consider the example text from a news article:\n",
              "\n",
              "A keyphrase extractor might select \"Army Corps of Engineers\", \"President Bush\", \"New Orleans\", and \"defective flood-control pumps\" as keyphrases. These are pulled directly from the text. <mark>In contrast, an abstractive keyphrase system would somehow internalize the content and generate keyphrases that do not appear in the text, but more closely resemble what a human might produce, such as \"political negligence\" or \"inadequate protection from floods\".</mark> <mark>Abstraction requires a deep understanding of the text, which makes it difficult for a computer system.</mark> Keyphrases have many applications. <mark>They can enable document browsing by providing a short summary, improve information retrieval (if documents have keyphrases assigned, a user could search by keyphrase to produce more reliable hits than a full-text search), and be employed in generating index entries for a large text corpus.</mark> Depending on the different literature and the definition of key terms, words or phrases, keyword extraction is a highly related theme. Beginning with the work of Turney,[11] many researchers have approached keyphrase extraction as a supervised machine learning problem. <mark>Given a document, we construct an example for each unigram, bigram, and trigram found in the text (though other text units are also possible, as discussed below).</mark> We then compute various features describing each example (e.g., does the phrase begin with an upper-case letter?). We assume there are known keyphrases available for a set of training documents. Using the known keyphrases, we can assign positive or negative labels to the examples. <mark>Then we learn a classifier that can discriminate between positive and negative examples as a function of the features.</mark> <mark>Some classifiers make a binary classification for a test example, while others assign a probability of being a keyphrase.</mark> <mark>For instance, in the above text, we might learn a rule that says phrases with initial capital letters are likely to be keyphrases.</mark> After training a learner, we can select keyphrases for test documents in the following manner. We apply the same example-generation strategy to the test documents, then run each example through the learner. We can determine the keyphrases by looking at binary classification decisions or probabilities returned from our learned model. If probabilities are given, a threshold is used to select the keyphrases. Keyphrase extractors are generally evaluated using precision and recall. Precision measures how many of the proposed keyphrases are actually correct. Recall measures how many of the true keyphrases your system proposed. The two measures can be combined in an F-score, which is the harmonic mean of the two (F = 2PR/(P + R) ). Matches between the proposed keyphrases and the known keyphrases can be checked after stemming or applying some other text normalization. Designing a supervised keyphrase extraction system involves deciding on several choices (some of these apply to unsupervised, too). The first choice is exactly how to generate examples. Turney and others have used all possible unigrams, bigrams, and trigrams without intervening punctuation and after removing stopwords. Hulth showed that you can get some improvement by selecting examples to be sequences of tokens that match certain patterns of part-of-speech tags. <mark>Ideally, the mechanism for generating examples produces all the known labeled keyphrases as candidates, though this is often not the case.</mark> <mark>For example, if we use only unigrams, bigrams, and trigrams, then we will never be able to extract a known keyphrase containing four words.</mark> Thus, recall may suffer. However, generating too many examples can also lead to low precision. <mark>We also need to create features that describe the examples and are informative enough to allow a learning algorithm to discriminate keyphrases from non- keyphrases.</mark> <mark>Typically features involve various term frequencies (how many times a phrase appears in the current text or in a larger corpus), the length of the example, relative position of the first occurrence, various boolean syntactic features (e.g., contains all caps), etc.</mark> The Turney paper used about 12 such features. Hulth uses a reduced set of features, which were found most successful in the KEA (Keyphrase Extraction Algorithm) work derived from Turney's seminal paper. <mark>In the end, the system will need to return a list of keyphrases for a test document, so we need to have a way to limit the number.</mark> <mark>Ensemble methods (i.e., using votes from several classifiers) have been used to produce numeric scores that can be thresholded to provide a user-provided number of keyphrases.</mark> This is the technique used by Turney with C4.5 decision trees. Hulth used a single binary classifier so the learning algorithm implicitly determines the appropriate number. Once examples and features are created, we need a way to learn to predict keyphrases. Virtually any supervised learning algorithm could be used, such as decision trees, Naive Bayes, and rule induction. <mark>In the case of Turney's GenEx algorithm, a genetic algorithm is used to learn parameters for a domain-specific keyphrase extraction algorithm.</mark> The extractor follows a series of heuristics to identify keyphrases. <mark>The genetic algorithm optimizes parameters for these heuristics with respect to performance on training documents with known key phrases.</mark> Another keyphrase extraction algorithm is TextRank. <mark>While supervised methods have some nice properties, like being able to produce interpretable rules for what features characterize a keyphrase, they also require a large amount of training data.</mark> Many documents with known keyphrases are needed. <mark>Furthermore, training on a specific domain tends to customize the extraction process to that domain, so the resulting classifier is not necessarily portable, as some of Turney's results demonstrate.</mark> Unsupervised keyphrase extraction removes the need for training data. It approaches the problem from a different angle. <mark>Instead of trying to learn explicit features that characterize keyphrases, the TextRank algorithm[12] exploits the structure of the text itself to determine keyphrases that appear \"central\" to the text in the same way that PageRank selects important Web pages.</mark> Recall this is based on the notion of \"prestige\" or \"recommendation\" from social networks. <mark>In this way, TextRank does not rely on any previous training data at all, but rather can be run on any arbitrary piece of text, and it can produce output simply based on the text's intrinsic properties.</mark> Thus the algorithm is easily portable to new domains and languages. TextRank is a general purpose graph-based ranking algorithm for NLP. Essentially, it runs PageRank on a graph specially designed for a particular NLP task. For keyphrase extraction, it builds a graph using some set of text units as vertices. Edges are based on some measure of semantic or lexical similarity between the text unit vertices. Unlike PageRank, the edges are typically undirected and can be weighted to reflect a degree of similarity. <mark>Once the graph is constructed, it is used to form a stochastic matrix, combined with a damping factor (as in the \"random surfer model\"), and the ranking over vertices is obtained by finding the eigenvector corresponding to eigenvalue 1 (i.e., the stationary distribution of the random walk on the graph).</mark> The vertices should correspond to what we want to rank. <mark>Potentially, we could do something similar to the supervised methods and create a vertex for each unigram, bigram, trigram, etc.</mark> <mark>However, to keep the graph small, the authors decide to rank individual unigrams in a first step, and then include a second step that merges highly ranked adjacent unigrams to form multi-word phrases.</mark> This has a nice side effect of allowing us to produce keyphrases of arbitrary length. <mark>For example, if we rank unigrams and find that \"advanced\", \"natural\", \"language\", and \"processing\" all get high ranks, then we would look at the original text and see that these words appear consecutively and create a final keyphrase using all four together.</mark> Note that the unigrams placed in the graph can be filtered by part of speech. The authors found that adjectives and nouns were the best to include. Thus, some linguistic knowledge comes into play in this step. Edges are created based on word co-occurrence in this application of TextRank. <mark>Two vertices are connected by an edge if the unigrams appear within a window of size N in the original text.</mark> N is typically around 2–10. Thus, \"natural\" and \"language\" might be linked in a text about NLP. <mark>\"Natural\" and \"processing\" would also be linked because they would both appear in the same string of N words.</mark> <mark>These edges build on the notion of \"text cohesion\" and the idea that words that appear near each other are likely related in a meaningful way and \"recommend\" each other to the reader.</mark> <mark>Since this method simply ranks the individual vertices, we need a way to threshold or produce a limited number of keyphrases.</mark> <mark>The technique chosen is to set a count T to be a user-specified fraction of the total number of vertices in the graph.</mark> Then the top T vertices/unigrams are selected based on their stationary probabilities. A post- processing step is then applied to merge adjacent instances of these T unigrams. <mark>As a result, potentially more or less than T final keyphrases will be produced, but the number should be roughly proportional to the length of the original text.</mark> It is not initially clear why applying PageRank to a co-occurrence graph would produce useful keyphrases. One way to think about it is the following. A word that appears multiple times throughout a text may have many different co-occurring neighbors. <mark>For example, in a text about machine learning, the unigram \"learning\" might co-occur with \"machine\", \"supervised\", \"un-supervised\", and \"semi-supervised\" in four different sentences.</mark> Thus, the \"learning\" vertex would be a central \"hub\" that connects to these other modifying words. Running PageRank/TextRank on the graph is likely to rank \"learning\" highly. <mark>Similarly, if the text contains the phrase \"supervised classification\", then there would be an edge between \"supervised\" and \"classification\".</mark> <mark>If \"classification\" appears several other places and thus has many neighbors, its importance would contribute to the importance of \"supervised\".</mark> <mark>If it ends up with a high rank, it will be selected as one of the top T unigrams, along with \"learning\" and probably \"classification\".</mark> <mark>In the final post-processing step, we would then end up with keyphrases \"supervised learning\" and \"supervised classification\".</mark> <mark>In short, the co-occurrence graph will contain densely connected regions for terms that appear often and in different contexts.</mark> <mark>A random walk on this graph will have a stationary distribution that assigns large probabilities to the terms in the centers of the clusters.</mark> This is similar to densely connected Web pages getting ranked highly by PageRank. This approach has also been used in document summarization, considered below. Like keyphrase extraction, document summarization aims to identify the essence of a text. The only real difference is that now we are dealing with larger text units—whole sentences instead of words and phrases. Before getting into the details of some summarization methods, we will mention how summarization systems are typically evaluated. The most common way is using the so-called ROUGE (Recall-Oriented Understudy for Gisting Evaluation) measure. <mark>This is a recall-based measure that determines how well a system-generated summary covers the content present in one or more human-generated model summaries known as references.</mark> It is recall-based to encourage systems to include all the important topics in the text. Recall can be computed with respect to unigram, bigram, trigram, or 4-gram matching. <mark>For example, ROUGE-1 is computed as division of count of unigrams in reference that appear in system and count of unigrams in reference summary.</mark> If there are multiple references, the ROUGE-1 scores are averaged. <mark>Because ROUGE is based only on content overlap, it can determine if the same general concepts are discussed between an automatic summary and a reference summary, but it cannot determine if the result is coherent or the sentences flow together in a sensible manner.</mark> High-order n-gram ROUGE measures try to judge fluency to some degree. <mark>Note that ROUGE is similar to the BLEU measure for machine translation, but BLEU is precision- based, because translation systems favor accuracy.</mark> A promising line in document summarization is adaptive document/text summarization. [13] The idea of adaptive summarization involves preliminary recognition of document/text genre and subsequent application of summarization algorithms optimized for this genre. First summarizes that perform adaptive summarization have been created. [14]\n",
              "\n",
              "Supervised text summarization is very much like supervised keyphrase extraction. <mark>Basically, if you have a collection of documents and human-generated summaries for them, you can learn features of sentences that make them good candidates for inclusion in the summary.</mark> <mark>Features might include the position in the document (i.e., the first few sentences are probably important), the number of words in the sentence, etc.</mark> <mark>The main difficulty in supervised extractive summarization is that the known summaries must be manually created by extracting sentences so the sentences in an original training document can be labeled as \"in summary\" or \"not in summary\".</mark> This is not typically how people create summaries, so simply using journal abstracts or existing summaries is usually not sufficient. <mark>The sentences in these summaries do not necessarily match up with sentences in the original text, so it would be difficult to assign labels to examples for training.</mark> Note, however, that these natural summaries can still be used for evaluation purposes, since ROUGE-1 only cares about unigrams. <mark>During the DUC 2001 and 2002 evaluation workshops, TNO developed a sentence extraction system for multi-document summarization in the news domain.</mark> <mark>The system was based on a hybrid system using a naive Bayes classifier and statistical language models for modeling salience.</mark> <mark>Although the system exhibited good results, the researchers wanted to explore the effectiveness of a maximum entropy (ME) classifier for the meeting summarization task, as ME is known to be robust against feature dependencies.</mark> Maximum entropy has also been applied successfully for summarization in the broadcast news domain. <mark>The unsupervised approach to summarization is also quite similar in spirit to unsupervised keyphrase extraction and gets around the issue of costly training data.</mark> <mark>Some unsupervised summarization approaches are based on finding a \"centroid\" sentence, which is the mean word vector of all the sentences in the document.</mark> Then the sentences can be ranked with regard to their similarity to this centroid sentence. A more principled way to estimate sentence importance is using random walks and eigenvector centrality. LexRank[15] is an algorithm essentially identical to TextRank, and both use this approach for document summarization. <mark>The two methods were developed by different groups at the same time, and LexRank simply focused on summarization, but could just as easily be used for keyphrase extraction or any other NLP ranking task.</mark> <mark>In both LexRank and TextRank, a graph is constructed by creating a vertex for each sentence in the document.</mark> The edges between sentences are based on some form of semantic similarity or content overlap. <mark>While LexRank uses cosine similarity of TF-IDF vectors, TextRank uses a very similar measure based on the number of words two sentences have in common (normalized by the sentences' lengths).</mark> <mark>The LexRank paper explored using unweighted edges after applying a threshold to the cosine values, but also experimented with using edges with weights equal to the similarity score.</mark> TextRank uses continuous similarity scores as weights. In both algorithms, the sentences are ranked by applying PageRank to the resulting graph. <mark>A summary is formed by combining the top ranking sentences, using a threshold or length cutoff to limit the size of the summary.</mark> <mark>It is worth noting that TextRank was applied to summarization exactly as described here, while LexRank was used as part of a larger summarization system (MEAD) that combines the LexRank score (stationary probability) with other features like sentence position and length using a linear combination with either user-specified or automatically tuned weights.</mark> <mark>In this case, some training documents might be needed, though the TextRank results show the additional features are not absolutely necessary.</mark> <mark>Another important distinction is that TextRank was used for single document summarization, while LexRank has been applied to multi-document summarization.</mark> The task remains the same in both cases—only the number of sentences to choose from has grown. <mark>However, when summarizing multiple documents, there is a greater risk of selecting duplicate or highly redundant sentences to place in the same summary.</mark> <mark>Imagine you have a cluster of news articles on a particular event, and you want to produce one summary.</mark> <mark>Each article is likely to have many similar sentences, and you would only want to include distinct ideas in the summary.</mark> <mark>To address this issue, LexRank applies a heuristic post-processing step that builds up a summary by adding sentences in rank order, but discards any sentences that are too similar to ones already placed in the summary.</mark> The method used is called Cross-Sentence Information Subsumption (CSIS). <mark>These methods work based on the idea that sentences \"recommend\" other similar sentences to the reader.</mark> <mark>Thus, if one sentence is very similar to many others, it will likely be a sentence of great importance.</mark> The importance of this sentence also stems from the importance of the sentences \"recommending\" it. <mark>Thus, to get ranked highly and placed in a summary, a sentence must be similar to many sentences that are in turn also similar to many other sentences.</mark> This makes intuitive sense and allows the algorithms to be applied to any arbitrary new text. The methods are domain-independent and easily portable. One could imagine the features indicating important sentences in the news domain might vary considerably from the biomedical domain. However, the unsupervised \"recommendation\"-based approach applies to any domain. <mark>Multi-document summarization is an automatic procedure aimed at extraction of information from multiple texts written about the same topic.</mark> Resulting summary report allows individual users, such as professional information consumers, to quickly familiarize themselves with information contained in a large cluster of documents. In such a way, multi-document summarization systems are complementing the news aggregators performing the next step down the road of coping with information overload. Multi-document summarization may also be done in response to a question. [16][8]\n",
              "\n",
              "Multi-document summarization creates information reports that are both concise and comprehensive. With different opinions being put together and outlined, every topic is described from multiple perspectives within a single document. <mark>While the goal of a brief summary is to simplify information search and cut the time by pointing to the most relevant source documents, comprehensive multi-document summary should itself contain the required information, hence limiting the need for accessing original files to cases when refinement is required.</mark> Automatic summaries present information extracted from multiple sources algorithmically, without any editorial touch or subjective human intervention, thus making it completely unbiased. [dubious – discuss]\n",
              "\n",
              "Multi-document extractive summarization faces a problem of potential redundancy. <mark>Ideally, we would like to extract sentences that are both \"central\" (i.e., contain the main ideas) and \"diverse\" (i.e., they differ from one another).</mark> <mark>LexRank deals with diversity as a heuristic final stage using CSIS, and other systems have used similar methods, such as Maximal Marginal Relevance (MMR),[17] in trying to eliminate redundancy in information retrieval results.</mark> <mark>There is a general purpose graph-based ranking algorithm like Page/Lex/TextRank that handles both \"centrality\" and \"diversity\" in a unified mathematical framework based on absorbing Markov chain random walks.</mark> <mark>(An absorbing random walk is like a standard random walk, except some states are now absorbing states that act as \"black holes\" that cause the walk to end abruptly at that state.)</mark> The algorithm is called GRASSHOPPER. <mark>[18] In addition to explicitly promoting diversity during the ranking process, GRASSHOPPER incorporates a prior ranking (based on sentence position in the case of summarization).</mark> <mark>The state of the art results for multi-document summarization, however, are obtained using mixtures of submodular functions.</mark> These methods have achieved the state of the art results for Document Summarization Corpora, DUC 04 - 07. <mark>[19] Similar results were also achieved with the use of determinantal point processes (which are a special case of submodular functions) for DUC-04.</mark> [20]\n",
              "\n",
              "A new method for multi-lingual multi-document summarization that avoids redundancy works by simplifying and generating ideograms that represent the meaning of each sentence in each document and then evaluates similarity \"qualitatively\" by comparing the shape and position of said ideograms has recently been developed. <mark>This tool does not use word frequency, does not need training or preprocessing of any kind and works by generating ideograms that represent the meaning of each sentence and then summarizes using two user-supplied parameters: equivalence (when are two sentences to be considered equivalent) and relevance (how long is the desired summary).</mark> <mark>The idea of a submodular set function has recently emerged as a powerful modeling tool for various summarization problems.</mark> Submodular functions naturally model notions of coverage, information, representation and diversity. Moreover, several important combinatorial optimization problems occur as special instances of submodular optimization. <mark>For example, the set cover problem is a special case of submodular optimization, since the set cover function is submodular.</mark> <mark>The set cover function attempts to find a subset of objects which cover a given set of concepts.</mark> <mark>For example, in document summarization, one would like the summary to cover all important and relevant concepts in the document.</mark> This is an instance of set cover. Similarly, the facility location problem is a special case of submodular functions. The Facility Location function also naturally models coverage and diversity. <mark>Another example of a submodular optimization problem is using a determinantal point process to model diversity.</mark> Similarly, the Maximum-Marginal-Relevance procedure can also be seen as an instance of submodular optimization. All these important models encouraging coverage, diversity and information are all submodular. Moreover, submodular functions can be efficiently combined, and the resulting function is still submodular. <mark>Hence, one could combine one submodular function which models diversity, another one which models coverage and use human supervision to learn a right model of a submodular function for the problem.</mark> While submodular functions are fitting problems for summarization, they also admit very efficient algorithms for optimization. For example, a simple greedy algorithm admits a constant factor guarantee. <mark>[21] Moreover, the greedy algorithm is extremely simple to implement and can scale to large datasets, which is very important for summarization problems.</mark> Submodular functions have achieved state-of-the-art for almost all summarization problems. <mark>For example, work by Lin and Bilmes, 2012[22] shows that submodular functions achieve the best results to date on DUC-04, DUC-05, DUC-06 and DUC-07 systems for document summarization.</mark> <mark>Similarly, work by Lin and Bilmes, 2011,[23] shows that many existing systems for automatic summarization are instances of submodular functions.</mark> This was a breakthrough result establishing submodular functions as the right models for summarization problems. [citation needed]\n",
              "\n",
              "Submodular Functions have also been used for other summarization tasks. Tschiatschek et al., 2014 show[24] that mixtures of submodular functions achieve state-of-the-art results for image collection summarization. Similarly, Bairi et al., 2015[25] show the utility of submodular functions for summarizing multi-document topic hierarchies. Submodular Functions have also successfully been used for summarizing machine learning datasets. [26]\n",
              "• The Reddit bot \"autotldr\",[27] created in 2011 summarizes news articles in the comment-section of reddit posts. It was found to be very useful by the reddit community which upvoted its summaries hundreds of thousands of times. [28] The name is reference to TL;DR − Internet slang for \"too long; didn't read\". [29][30]\n",
              "\n",
              "The most common way to evaluate the informativeness of automatic summaries is to compare them with human-made model summaries. Evaluation techniques fall into intrinsic and extrinsic,[31] inter-textual and intra-textual. [32]\n",
              "\n",
              "An intrinsic evaluation tests the summarization system in and of itself while an extrinsic evaluation tests the summarization based on how it affects the completion of some other task. Intrinsic evaluations have assessed mainly the coherence and informativeness of summaries. Extrinsic evaluations, on the other hand, have tested the impact of summarization on tasks like relevance assessment, reading comprehension, etc. <mark>Intra-textual methods assess the output of a specific summarization system, and the inter-textual ones focus on contrastive analysis of outputs of several summarization systems.</mark> Human judgement often has wide variance on what is considered a \"good\" summary, which means that making the evaluation process automatic is particularly difficult. <mark>Manual evaluation can be used, but this is both time and labor-intensive as it requires humans to read not only the summaries but also the source documents.</mark> Other issues are those concerning coherence and coverage. <mark>One of the metrics used in NIST's annual Document Understanding Conferences, in which research groups submit their systems for both summarization and translation tasks, is the ROUGE metric (Recall-Oriented Understudy for Gisting Evaluation [2]).</mark> It essentially calculates n-gram overlaps between automatically generated summaries and previously written human summaries. A high level of overlap should indicate a high level of shared concepts between the two summaries. Note that overlap metrics like this are unable to provide any feedback on a summary's coherence. Anaphor resolution remains another problem yet to be fully solved. <mark>Similarly, for image summarization, Tschiatschek et al., developed a Visual-ROUGE score which judges the performance of algorithms for image summarization.</mark> [33]\n",
              "\n",
              "Domain independent summarization techniques generally apply sets of general features which can be used to identify information-rich text segments. <mark>Recent research focus has drifted to domain-specific summarization techniques that utilize the available knowledge specific to the domain of text.</mark> <mark>For example, automatic summarization research on medical text generally attempts to utilize the various sources of codified medical knowledge and ontologies.</mark> [34]\n",
              "\n",
              "The main drawback of the evaluation systems existing so far is that we need at least one reference summary, and for some methods more than one, to be able to compare automatic summaries with models. This is a hard and expensive task. <mark>Much effort has to be done in order to have corpus of texts and their corresponding summaries.</mark> Furthermore, for some methods, not only do we need to have human-made summaries available for comparison, but also manual annotation has to be performed in some of them (e.g. SCU in the Pyramid Method). <mark>In any case, what the evaluation methods need as an input, is a set of summaries to serve as gold standards and a set of automatic summaries.</mark> Moreover, they all perform a quantitative evaluation with regard to different similarity metrics. The first publication in the area dates back to 1957 [35] (Hans Peter Luhn), starting with a statistical technique. Research increased significantly in 2015. Term frequency–inverse document frequency had been used by 2016. Pattern-based summarization was the most powerful option for multi-document summarization found by 2016. In the following year it was surpassed by latent semantic analysis (LSA) combined with non-negative matrix factorization (NMF). <mark>Although they did not replace other approaches and are often combined with them, by 2019 machine learning methods dominated the extractive summarization of single documents, which was considered to be nearing maturity.</mark> By 2020, the field was still very active and research is shifting towards abstractive summation and real-time summarization. [36]\n",
              "\n",
              "Recently the rise of Transformer models replacing more traditional RNN (LSTM) have provided a flexibility in the mapping of text sequences to text sequences of a different type, which is well suited to automatic summarization. This includes models such as T5[37] and Pegasus. • None Roxana, Angheluta (2002). The Use of Topic Segmentation for Automatic Summarization. • None Elena, Lloret and Manuel, Palomar (2009). Challenging Issues of Automatic Summarization: Relevance Detection and Quality-based Evaluation. • None Alrehamy, Hassan (2017). \"SemCluster: Unsupervised Automatic Keyphrase Extraction Using Affinity Propagation\". Automatic Keyphrases Extraction. Advances in Intelligent Systems and Computing. Vol. 650. pp. 222–235. doi:10.1007/978-3-319-66939-7_19. ISBN . • None Marcu, Daniel (2000). The Theory and Practice of Discourse Parsing and Summarization. ISBN . • , Published in Proceeding RIAO'10 Adaptivity, Personalization and Fusion of Heterogeneous Information, CID Paris, France\n",
              "• None Xiaojin, Zhu, Andrew Goldberg, Jurgen Van Gael, and David Andrzejewski (2007). Improving diversity in ranking using absorbing random walks . , The GRASSHOPPER algorithm\n",
              "• None Miranda-Jiménez, Sabino, Gelbukh, Alexander, and Sidorov, Grigori (2013). \"Summarizing Conceptual Graphs for Automatic Summarization Task\". Conceptual Structures for STEM Research and Education. Lecture Notes in Computer Science. Vol. 7735. pp. 245–253. doi:10.1007/978-3-642-35786-2_18. ISBN . , Conceptual Structures for STEM Research and Education. "
            ]
          },
          "metadata": {}
        }
      ]
    },
    {
      "cell_type": "markdown",
      "metadata": {
        "id": "UGnV_6KO8IlO"
      },
      "source": [
        "## pysummarization\n",
        "\n",
        "- https://pypi.org/project/pysummarization/"
      ]
    },
    {
      "cell_type": "code",
      "metadata": {
        "id": "5Kvkl26FPkm5",
        "colab": {
          "base_uri": "https://localhost:8080/"
        },
        "outputId": "4acd658f-e8d7-40fc-fe02-0c033703bfa4"
      },
      "source": [
        "!pip install pysummarization"
      ],
      "execution_count": null,
      "outputs": [
        {
          "output_type": "stream",
          "name": "stdout",
          "text": [
            "Looking in indexes: https://pypi.org/simple, https://us-python.pkg.dev/colab-wheels/public/simple/\n",
            "Collecting pysummarization\n",
            "  Downloading pysummarization-1.1.9.tar.gz (64 kB)\n",
            "\u001b[K     |████████████████████████████████| 64 kB 2.6 MB/s \n",
            "\u001b[?25hRequirement already satisfied: numpy in /usr/local/lib/python3.7/dist-packages (from pysummarization) (1.21.6)\n",
            "Requirement already satisfied: nltk in /usr/local/lib/python3.7/dist-packages (from pysummarization) (3.7)\n",
            "Requirement already satisfied: click in /usr/local/lib/python3.7/dist-packages (from nltk->pysummarization) (7.1.2)\n",
            "Requirement already satisfied: tqdm in /usr/local/lib/python3.7/dist-packages (from nltk->pysummarization) (4.64.0)\n",
            "Requirement already satisfied: regex>=2021.8.3 in /usr/local/lib/python3.7/dist-packages (from nltk->pysummarization) (2022.6.2)\n",
            "Requirement already satisfied: joblib in /usr/local/lib/python3.7/dist-packages (from nltk->pysummarization) (1.1.0)\n",
            "Building wheels for collected packages: pysummarization\n",
            "  Building wheel for pysummarization (setup.py) ... \u001b[?25l\u001b[?25hdone\n",
            "  Created wheel for pysummarization: filename=pysummarization-1.1.9-py3-none-any.whl size=82376 sha256=f1067e8eb7296dff555cd7dd6892884f23b88e5b460391aea54080ac2d6a865b\n",
            "  Stored in directory: /root/.cache/pip/wheels/e0/82/36/6acd495891e45c507f01c5f403875fe595f331bae87e08d55b\n",
            "Successfully built pysummarization\n",
            "Installing collected packages: pysummarization\n",
            "Successfully installed pysummarization-1.1.9\n"
          ]
        }
      ]
    },
    {
      "cell_type": "code",
      "metadata": {
        "id": "sEAyEY16PsEf"
      },
      "source": [
        "from pysummarization.nlpbase.auto_abstractor import AutoAbstractor\n",
        "from pysummarization.tokenizabledoc.simple_tokenizer import SimpleTokenizer\n",
        "from pysummarization.abstractabledoc.top_n_rank_abstractor import TopNRankAbstractor"
      ],
      "execution_count": null,
      "outputs": []
    },
    {
      "cell_type": "code",
      "metadata": {
        "id": "gXfKabIDQGHY"
      },
      "source": [
        "auto_abstractor = AutoAbstractor()\n",
        "auto_abstractor.tokenizable_doc = SimpleTokenizer()\n",
        "auto_abstractor.delimiter_list = [\".\", \"\\n\"]\n",
        "abstractable_doc = TopNRankAbstractor()"
      ],
      "execution_count": null,
      "outputs": []
    },
    {
      "cell_type": "code",
      "metadata": {
        "id": "UJbUzUS7QlIZ"
      },
      "source": [
        "summary = auto_abstractor.summarize(article.cleaned_text, abstractable_doc)"
      ],
      "execution_count": null,
      "outputs": []
    },
    {
      "cell_type": "code",
      "metadata": {
        "colab": {
          "base_uri": "https://localhost:8080/"
        },
        "id": "s3HZqXkIQvUV",
        "outputId": "cd89f76c-bf2d-4453-cfec-430c2e8ca66b"
      },
      "source": [
        "summary"
      ],
      "execution_count": null,
      "outputs": [
        {
          "output_type": "execute_result",
          "data": {
            "text/plain": [
              "{'scoring_data': [(0, 21.551724137931036),\n",
              "  (1, 9.0),\n",
              "  (2, 27.22222222222222),\n",
              "  (4, 9.0),\n",
              "  (5, 8.0),\n",
              "  (6, 29.257142857142856),\n",
              "  (7, 11.0),\n",
              "  (29, 6.125),\n",
              "  (30, 7.117647058823529),\n",
              "  (294, 6.25)],\n",
              " 'summarize_result': ['Automatic summarization is the process of shortening a set of data computationally, to create a subset (a summary) that represents the most important or relevant information within the original content.\\n',\n",
              "  'In addition to text, images and videos can also be summarized.\\n',\n",
              "  ' Text summarization finds the most informative sentences in a document;[1] various methods of image summarization are the subject of ongoing research, with some looking to display the most representative images from a given collection or generating a video;[2][3][4] video summarization extracts the most important frames from the video content.\\n',\n",
              "  'There are two general approaches to automatic summarization: extraction and abstraction.\\n',\n",
              "  'Here, content is extracted from the original data, but the extracted content is not modified in any way.\\n',\n",
              "  ' Examples of extracted content include key-phrases that can be used to \"tag\" or index a text document, or key sentences (including headings) that collectively comprise an abstract, and representative images or video segments, as stated above.\\n',\n",
              "  ' For text, extraction is analogous to the process of skimming, where the summary (if available), headings and subheadings, figures, the first and last paragraphs of a section, and optionally the first and last sentences in a paragraph are read before one chooses to read the entire document in detail.\\n',\n",
              "  ' It consists in selecting a representative set of images from a larger set of images.\\n',\n",
              "  '[9] A summary in this context is useful to show the most representative images of results in an image collection exploration system.\\n',\n",
              "  ' In any case, what the evaluation methods need as an input, is a set of summaries to serve as gold standards and a set of automatic summaries.\\n']}"
            ]
          },
          "metadata": {},
          "execution_count": 19
        }
      ]
    },
    {
      "cell_type": "code",
      "metadata": {
        "id": "6M2PtihMREJf"
      },
      "source": [
        "best_sentences = []\n",
        "for sentence in summary['summarize_result']:\n",
        "  #print(sentence)\n",
        "  best_sentences.append(re.sub(r'\\s+', ' ', sentence).strip())"
      ],
      "execution_count": null,
      "outputs": []
    },
    {
      "cell_type": "code",
      "metadata": {
        "colab": {
          "base_uri": "https://localhost:8080/"
        },
        "id": "mSbg3Jf-RcIz",
        "outputId": "d9ed506f-4b29-4ad3-da7a-fa818c2d0c53"
      },
      "source": [
        "best_sentences"
      ],
      "execution_count": null,
      "outputs": [
        {
          "output_type": "execute_result",
          "data": {
            "text/plain": [
              "['Automatic summarization is the process of shortening a set of data computationally, to create a subset (a summary) that represents the most important or relevant information within the original content.',\n",
              " 'In addition to text, images and videos can also be summarized.',\n",
              " 'Text summarization finds the most informative sentences in a document;[1] various methods of image summarization are the subject of ongoing research, with some looking to display the most representative images from a given collection or generating a video;[2][3][4] video summarization extracts the most important frames from the video content.',\n",
              " 'There are two general approaches to automatic summarization: extraction and abstraction.',\n",
              " 'Here, content is extracted from the original data, but the extracted content is not modified in any way.',\n",
              " 'Examples of extracted content include key-phrases that can be used to \"tag\" or index a text document, or key sentences (including headings) that collectively comprise an abstract, and representative images or video segments, as stated above.',\n",
              " 'For text, extraction is analogous to the process of skimming, where the summary (if available), headings and subheadings, figures, the first and last paragraphs of a section, and optionally the first and last sentences in a paragraph are read before one chooses to read the entire document in detail.',\n",
              " 'It consists in selecting a representative set of images from a larger set of images.',\n",
              " '[9] A summary in this context is useful to show the most representative images of results in an image collection exploration system.',\n",
              " 'In any case, what the evaluation methods need as an input, is a set of summaries to serve as gold standards and a set of automatic summaries.']"
            ]
          },
          "metadata": {},
          "execution_count": 21
        }
      ]
    },
    {
      "cell_type": "code",
      "metadata": {
        "colab": {
          "base_uri": "https://localhost:8080/",
          "height": 1000
        },
        "id": "Ll0Al8pORRlq",
        "outputId": "eec8539e-84de-431a-9572-efe1cef0c1a9"
      },
      "source": [
        "visualize(article.title, original_sentences, best_sentences)"
      ],
      "execution_count": null,
      "outputs": [
        {
          "output_type": "display_data",
          "data": {
            "text/plain": [
              "<IPython.core.display.HTML object>"
            ],
            "text/html": [
              "<h1>Summary - Automatic summarization - Wikipedia</h1>"
            ]
          },
          "metadata": {}
        },
        {
          "output_type": "display_data",
          "data": {
            "text/plain": [
              "<IPython.core.display.HTML object>"
            ],
            "text/html": [
              "  <mark>Automatic summarization is the process of shortening a set of data computationally, to create a subset (a summary) that represents the most important or relevant information within the original content.</mark> <mark>In addition to text, images and videos can also be summarized.</mark> <mark>Text summarization finds the most informative sentences in a document;[1] various methods of image summarization are the subject of ongoing research, with some looking to display the most representative images from a given collection or generating a video;[2][3][4] video summarization extracts the most important frames from the video content.</mark> [5]\n",
              "\n",
              "There are two general approaches to automatic summarization: extraction and abstraction. <mark>Here, content is extracted from the original data, but the extracted content is not modified in any way.</mark> <mark>Examples of extracted content include key-phrases that can be used to \"tag\" or index a text document, or key sentences (including headings) that collectively comprise an abstract, and representative images or video segments, as stated above.</mark> <mark>For text, extraction is analogous to the process of skimming, where the summary (if available), headings and subheadings, figures, the first and last paragraphs of a section, and optionally the first and last sentences in a paragraph are read before one chooses to read the entire document in detail.</mark> [7] Other examples of extraction that include key sequences of text in terms of clinical relevance (including patient/problem, intervention, and outcome). [8]\n",
              "\n",
              "This has been applied mainly for text. Abstractive methods build an internal semantic representation of the original content, and then use this representation to create a summary that is closer to what a human might express. Abstraction may transform the extracted content by paraphrasing sections of the source document, to condense a text more strongly than extraction. Such transformation, however, is computationally much more challenging than extraction, involving both natural language processing and often a deep understanding of the domain of the original text in cases where the original document relates to a special field of knowledge. \"Paraphrasing\" is even more difficult to apply to image and video, which is why most summarization systems are extractive. Approaches aimed at higher summarization quality rely on combined software and human effort. In Machine Aided Human Summarization, extractive techniques highlight candidate passages for inclusion (to which the human adds or removes text). In Human Aided Machine Summarization, a human post-processes software output, in the same way that one edits the output of automatic translation by Google Translate. There are broadly two types of extractive summarization tasks depending on what the summarization program focuses on. The first is generic summarization, which focuses on obtaining a generic summary or abstract of the collection (whether documents, or sets of images, or videos, news stories etc.). The second is query relevant summarization, sometimes called query-based summarization, which summarizes objects specific to a query. Summarization systems are able to create both query relevant text summaries and generic machine-generated summaries depending on what the user needs. An example of a summarization problem is document summarization, which attempts to automatically produce an abstract from a given document. Sometimes one might be interested in generating a summary from a single source document, while others can use multiple source documents (for example, a cluster of articles on the same topic). This problem is called multi-document summarization. A related application is summarizing news articles. Imagine a system, which automatically pulls together news articles on a given topic (from the web), and concisely represents the latest news as a summary. Image collection summarization is another application example of automatic summarization. <mark>It consists in selecting a representative set of images from a larger set of images.</mark> <mark>[9] A summary in this context is useful to show the most representative images of results in an image collection exploration system.</mark> Video summarization is a related domain, where the system automatically creates a trailer of a long video. This also has applications in consumer or personal videos, where one might want to skip the boring or repetitive actions. Similarly, in surveillance videos, one would want to extract important and suspicious activity, while ignoring all the boring and redundant frames captured. At a very high level, summarization algorithms try to find subsets of objects (like set of sentences, or a set of images), which cover information of the entire set. This is also called the core-set. These algorithms model notions like diversity, coverage, information and representativeness of the summary. Query based summarization techniques, additionally model for relevance of the summary with the query. Some techniques and algorithms which naturally model summarization problems are TextRank and PageRank, Submodular set function, Determinantal point process, maximal marginal relevance (MMR) etc. The task is the following. You are given a piece of text, such as a journal article, and you must produce a list of keywords or key[phrase]s that capture the primary topics discussed in the text. [10] In the case of research articles, many authors provide manually assigned keywords, but most text lacks pre-existing keyphrases. For example, news articles rarely have keyphrases attached, but it would be useful to be able to automatically do so for a number of applications discussed below. Consider the example text from a news article:\n",
              "\n",
              "A keyphrase extractor might select \"Army Corps of Engineers\", \"President Bush\", \"New Orleans\", and \"defective flood-control pumps\" as keyphrases. These are pulled directly from the text. In contrast, an abstractive keyphrase system would somehow internalize the content and generate keyphrases that do not appear in the text, but more closely resemble what a human might produce, such as \"political negligence\" or \"inadequate protection from floods\". Abstraction requires a deep understanding of the text, which makes it difficult for a computer system. Keyphrases have many applications. They can enable document browsing by providing a short summary, improve information retrieval (if documents have keyphrases assigned, a user could search by keyphrase to produce more reliable hits than a full-text search), and be employed in generating index entries for a large text corpus. Depending on the different literature and the definition of key terms, words or phrases, keyword extraction is a highly related theme. Beginning with the work of Turney,[11] many researchers have approached keyphrase extraction as a supervised machine learning problem. Given a document, we construct an example for each unigram, bigram, and trigram found in the text (though other text units are also possible, as discussed below). We then compute various features describing each example (e.g., does the phrase begin with an upper-case letter?). We assume there are known keyphrases available for a set of training documents. Using the known keyphrases, we can assign positive or negative labels to the examples. Then we learn a classifier that can discriminate between positive and negative examples as a function of the features. Some classifiers make a binary classification for a test example, while others assign a probability of being a keyphrase. For instance, in the above text, we might learn a rule that says phrases with initial capital letters are likely to be keyphrases. After training a learner, we can select keyphrases for test documents in the following manner. We apply the same example-generation strategy to the test documents, then run each example through the learner. We can determine the keyphrases by looking at binary classification decisions or probabilities returned from our learned model. If probabilities are given, a threshold is used to select the keyphrases. Keyphrase extractors are generally evaluated using precision and recall. Precision measures how many of the proposed keyphrases are actually correct. Recall measures how many of the true keyphrases your system proposed. The two measures can be combined in an F-score, which is the harmonic mean of the two (F = 2PR/(P + R) ). Matches between the proposed keyphrases and the known keyphrases can be checked after stemming or applying some other text normalization. Designing a supervised keyphrase extraction system involves deciding on several choices (some of these apply to unsupervised, too). The first choice is exactly how to generate examples. Turney and others have used all possible unigrams, bigrams, and trigrams without intervening punctuation and after removing stopwords. Hulth showed that you can get some improvement by selecting examples to be sequences of tokens that match certain patterns of part-of-speech tags. Ideally, the mechanism for generating examples produces all the known labeled keyphrases as candidates, though this is often not the case. For example, if we use only unigrams, bigrams, and trigrams, then we will never be able to extract a known keyphrase containing four words. Thus, recall may suffer. However, generating too many examples can also lead to low precision. We also need to create features that describe the examples and are informative enough to allow a learning algorithm to discriminate keyphrases from non- keyphrases. Typically features involve various term frequencies (how many times a phrase appears in the current text or in a larger corpus), the length of the example, relative position of the first occurrence, various boolean syntactic features (e.g., contains all caps), etc. The Turney paper used about 12 such features. Hulth uses a reduced set of features, which were found most successful in the KEA (Keyphrase Extraction Algorithm) work derived from Turney's seminal paper. In the end, the system will need to return a list of keyphrases for a test document, so we need to have a way to limit the number. Ensemble methods (i.e., using votes from several classifiers) have been used to produce numeric scores that can be thresholded to provide a user-provided number of keyphrases. This is the technique used by Turney with C4.5 decision trees. Hulth used a single binary classifier so the learning algorithm implicitly determines the appropriate number. Once examples and features are created, we need a way to learn to predict keyphrases. Virtually any supervised learning algorithm could be used, such as decision trees, Naive Bayes, and rule induction. In the case of Turney's GenEx algorithm, a genetic algorithm is used to learn parameters for a domain-specific keyphrase extraction algorithm. The extractor follows a series of heuristics to identify keyphrases. The genetic algorithm optimizes parameters for these heuristics with respect to performance on training documents with known key phrases. Another keyphrase extraction algorithm is TextRank. While supervised methods have some nice properties, like being able to produce interpretable rules for what features characterize a keyphrase, they also require a large amount of training data. Many documents with known keyphrases are needed. Furthermore, training on a specific domain tends to customize the extraction process to that domain, so the resulting classifier is not necessarily portable, as some of Turney's results demonstrate. Unsupervised keyphrase extraction removes the need for training data. It approaches the problem from a different angle. Instead of trying to learn explicit features that characterize keyphrases, the TextRank algorithm[12] exploits the structure of the text itself to determine keyphrases that appear \"central\" to the text in the same way that PageRank selects important Web pages. Recall this is based on the notion of \"prestige\" or \"recommendation\" from social networks. In this way, TextRank does not rely on any previous training data at all, but rather can be run on any arbitrary piece of text, and it can produce output simply based on the text's intrinsic properties. Thus the algorithm is easily portable to new domains and languages. TextRank is a general purpose graph-based ranking algorithm for NLP. Essentially, it runs PageRank on a graph specially designed for a particular NLP task. For keyphrase extraction, it builds a graph using some set of text units as vertices. Edges are based on some measure of semantic or lexical similarity between the text unit vertices. Unlike PageRank, the edges are typically undirected and can be weighted to reflect a degree of similarity. Once the graph is constructed, it is used to form a stochastic matrix, combined with a damping factor (as in the \"random surfer model\"), and the ranking over vertices is obtained by finding the eigenvector corresponding to eigenvalue 1 (i.e., the stationary distribution of the random walk on the graph). The vertices should correspond to what we want to rank. Potentially, we could do something similar to the supervised methods and create a vertex for each unigram, bigram, trigram, etc. However, to keep the graph small, the authors decide to rank individual unigrams in a first step, and then include a second step that merges highly ranked adjacent unigrams to form multi-word phrases. This has a nice side effect of allowing us to produce keyphrases of arbitrary length. For example, if we rank unigrams and find that \"advanced\", \"natural\", \"language\", and \"processing\" all get high ranks, then we would look at the original text and see that these words appear consecutively and create a final keyphrase using all four together. Note that the unigrams placed in the graph can be filtered by part of speech. The authors found that adjectives and nouns were the best to include. Thus, some linguistic knowledge comes into play in this step. Edges are created based on word co-occurrence in this application of TextRank. Two vertices are connected by an edge if the unigrams appear within a window of size N in the original text. N is typically around 2–10. Thus, \"natural\" and \"language\" might be linked in a text about NLP. \"Natural\" and \"processing\" would also be linked because they would both appear in the same string of N words. These edges build on the notion of \"text cohesion\" and the idea that words that appear near each other are likely related in a meaningful way and \"recommend\" each other to the reader. Since this method simply ranks the individual vertices, we need a way to threshold or produce a limited number of keyphrases. The technique chosen is to set a count T to be a user-specified fraction of the total number of vertices in the graph. Then the top T vertices/unigrams are selected based on their stationary probabilities. A post- processing step is then applied to merge adjacent instances of these T unigrams. As a result, potentially more or less than T final keyphrases will be produced, but the number should be roughly proportional to the length of the original text. It is not initially clear why applying PageRank to a co-occurrence graph would produce useful keyphrases. One way to think about it is the following. A word that appears multiple times throughout a text may have many different co-occurring neighbors. For example, in a text about machine learning, the unigram \"learning\" might co-occur with \"machine\", \"supervised\", \"un-supervised\", and \"semi-supervised\" in four different sentences. Thus, the \"learning\" vertex would be a central \"hub\" that connects to these other modifying words. Running PageRank/TextRank on the graph is likely to rank \"learning\" highly. Similarly, if the text contains the phrase \"supervised classification\", then there would be an edge between \"supervised\" and \"classification\". If \"classification\" appears several other places and thus has many neighbors, its importance would contribute to the importance of \"supervised\". If it ends up with a high rank, it will be selected as one of the top T unigrams, along with \"learning\" and probably \"classification\". In the final post-processing step, we would then end up with keyphrases \"supervised learning\" and \"supervised classification\". In short, the co-occurrence graph will contain densely connected regions for terms that appear often and in different contexts. A random walk on this graph will have a stationary distribution that assigns large probabilities to the terms in the centers of the clusters. This is similar to densely connected Web pages getting ranked highly by PageRank. This approach has also been used in document summarization, considered below. Like keyphrase extraction, document summarization aims to identify the essence of a text. The only real difference is that now we are dealing with larger text units—whole sentences instead of words and phrases. Before getting into the details of some summarization methods, we will mention how summarization systems are typically evaluated. The most common way is using the so-called ROUGE (Recall-Oriented Understudy for Gisting Evaluation) measure. This is a recall-based measure that determines how well a system-generated summary covers the content present in one or more human-generated model summaries known as references. It is recall-based to encourage systems to include all the important topics in the text. Recall can be computed with respect to unigram, bigram, trigram, or 4-gram matching. For example, ROUGE-1 is computed as division of count of unigrams in reference that appear in system and count of unigrams in reference summary. If there are multiple references, the ROUGE-1 scores are averaged. Because ROUGE is based only on content overlap, it can determine if the same general concepts are discussed between an automatic summary and a reference summary, but it cannot determine if the result is coherent or the sentences flow together in a sensible manner. High-order n-gram ROUGE measures try to judge fluency to some degree. Note that ROUGE is similar to the BLEU measure for machine translation, but BLEU is precision- based, because translation systems favor accuracy. A promising line in document summarization is adaptive document/text summarization. [13] The idea of adaptive summarization involves preliminary recognition of document/text genre and subsequent application of summarization algorithms optimized for this genre. First summarizes that perform adaptive summarization have been created. [14]\n",
              "\n",
              "Supervised text summarization is very much like supervised keyphrase extraction. Basically, if you have a collection of documents and human-generated summaries for them, you can learn features of sentences that make them good candidates for inclusion in the summary. Features might include the position in the document (i.e., the first few sentences are probably important), the number of words in the sentence, etc. The main difficulty in supervised extractive summarization is that the known summaries must be manually created by extracting sentences so the sentences in an original training document can be labeled as \"in summary\" or \"not in summary\". This is not typically how people create summaries, so simply using journal abstracts or existing summaries is usually not sufficient. The sentences in these summaries do not necessarily match up with sentences in the original text, so it would be difficult to assign labels to examples for training. Note, however, that these natural summaries can still be used for evaluation purposes, since ROUGE-1 only cares about unigrams. During the DUC 2001 and 2002 evaluation workshops, TNO developed a sentence extraction system for multi-document summarization in the news domain. The system was based on a hybrid system using a naive Bayes classifier and statistical language models for modeling salience. Although the system exhibited good results, the researchers wanted to explore the effectiveness of a maximum entropy (ME) classifier for the meeting summarization task, as ME is known to be robust against feature dependencies. Maximum entropy has also been applied successfully for summarization in the broadcast news domain. The unsupervised approach to summarization is also quite similar in spirit to unsupervised keyphrase extraction and gets around the issue of costly training data. Some unsupervised summarization approaches are based on finding a \"centroid\" sentence, which is the mean word vector of all the sentences in the document. Then the sentences can be ranked with regard to their similarity to this centroid sentence. A more principled way to estimate sentence importance is using random walks and eigenvector centrality. LexRank[15] is an algorithm essentially identical to TextRank, and both use this approach for document summarization. The two methods were developed by different groups at the same time, and LexRank simply focused on summarization, but could just as easily be used for keyphrase extraction or any other NLP ranking task. In both LexRank and TextRank, a graph is constructed by creating a vertex for each sentence in the document. The edges between sentences are based on some form of semantic similarity or content overlap. While LexRank uses cosine similarity of TF-IDF vectors, TextRank uses a very similar measure based on the number of words two sentences have in common (normalized by the sentences' lengths). The LexRank paper explored using unweighted edges after applying a threshold to the cosine values, but also experimented with using edges with weights equal to the similarity score. TextRank uses continuous similarity scores as weights. In both algorithms, the sentences are ranked by applying PageRank to the resulting graph. A summary is formed by combining the top ranking sentences, using a threshold or length cutoff to limit the size of the summary. It is worth noting that TextRank was applied to summarization exactly as described here, while LexRank was used as part of a larger summarization system (MEAD) that combines the LexRank score (stationary probability) with other features like sentence position and length using a linear combination with either user-specified or automatically tuned weights. In this case, some training documents might be needed, though the TextRank results show the additional features are not absolutely necessary. Another important distinction is that TextRank was used for single document summarization, while LexRank has been applied to multi-document summarization. The task remains the same in both cases—only the number of sentences to choose from has grown. However, when summarizing multiple documents, there is a greater risk of selecting duplicate or highly redundant sentences to place in the same summary. Imagine you have a cluster of news articles on a particular event, and you want to produce one summary. Each article is likely to have many similar sentences, and you would only want to include distinct ideas in the summary. To address this issue, LexRank applies a heuristic post-processing step that builds up a summary by adding sentences in rank order, but discards any sentences that are too similar to ones already placed in the summary. The method used is called Cross-Sentence Information Subsumption (CSIS). These methods work based on the idea that sentences \"recommend\" other similar sentences to the reader. Thus, if one sentence is very similar to many others, it will likely be a sentence of great importance. The importance of this sentence also stems from the importance of the sentences \"recommending\" it. Thus, to get ranked highly and placed in a summary, a sentence must be similar to many sentences that are in turn also similar to many other sentences. This makes intuitive sense and allows the algorithms to be applied to any arbitrary new text. The methods are domain-independent and easily portable. One could imagine the features indicating important sentences in the news domain might vary considerably from the biomedical domain. However, the unsupervised \"recommendation\"-based approach applies to any domain. Multi-document summarization is an automatic procedure aimed at extraction of information from multiple texts written about the same topic. Resulting summary report allows individual users, such as professional information consumers, to quickly familiarize themselves with information contained in a large cluster of documents. In such a way, multi-document summarization systems are complementing the news aggregators performing the next step down the road of coping with information overload. Multi-document summarization may also be done in response to a question. [16][8]\n",
              "\n",
              "Multi-document summarization creates information reports that are both concise and comprehensive. With different opinions being put together and outlined, every topic is described from multiple perspectives within a single document. While the goal of a brief summary is to simplify information search and cut the time by pointing to the most relevant source documents, comprehensive multi-document summary should itself contain the required information, hence limiting the need for accessing original files to cases when refinement is required. Automatic summaries present information extracted from multiple sources algorithmically, without any editorial touch or subjective human intervention, thus making it completely unbiased. [dubious – discuss]\n",
              "\n",
              "Multi-document extractive summarization faces a problem of potential redundancy. Ideally, we would like to extract sentences that are both \"central\" (i.e., contain the main ideas) and \"diverse\" (i.e., they differ from one another). LexRank deals with diversity as a heuristic final stage using CSIS, and other systems have used similar methods, such as Maximal Marginal Relevance (MMR),[17] in trying to eliminate redundancy in information retrieval results. There is a general purpose graph-based ranking algorithm like Page/Lex/TextRank that handles both \"centrality\" and \"diversity\" in a unified mathematical framework based on absorbing Markov chain random walks. (An absorbing random walk is like a standard random walk, except some states are now absorbing states that act as \"black holes\" that cause the walk to end abruptly at that state.) The algorithm is called GRASSHOPPER. [18] In addition to explicitly promoting diversity during the ranking process, GRASSHOPPER incorporates a prior ranking (based on sentence position in the case of summarization). The state of the art results for multi-document summarization, however, are obtained using mixtures of submodular functions. These methods have achieved the state of the art results for Document Summarization Corpora, DUC 04 - 07. [19] Similar results were also achieved with the use of determinantal point processes (which are a special case of submodular functions) for DUC-04. [20]\n",
              "\n",
              "A new method for multi-lingual multi-document summarization that avoids redundancy works by simplifying and generating ideograms that represent the meaning of each sentence in each document and then evaluates similarity \"qualitatively\" by comparing the shape and position of said ideograms has recently been developed. This tool does not use word frequency, does not need training or preprocessing of any kind and works by generating ideograms that represent the meaning of each sentence and then summarizes using two user-supplied parameters: equivalence (when are two sentences to be considered equivalent) and relevance (how long is the desired summary). The idea of a submodular set function has recently emerged as a powerful modeling tool for various summarization problems. Submodular functions naturally model notions of coverage, information, representation and diversity. Moreover, several important combinatorial optimization problems occur as special instances of submodular optimization. For example, the set cover problem is a special case of submodular optimization, since the set cover function is submodular. The set cover function attempts to find a subset of objects which cover a given set of concepts. For example, in document summarization, one would like the summary to cover all important and relevant concepts in the document. This is an instance of set cover. Similarly, the facility location problem is a special case of submodular functions. The Facility Location function also naturally models coverage and diversity. Another example of a submodular optimization problem is using a determinantal point process to model diversity. Similarly, the Maximum-Marginal-Relevance procedure can also be seen as an instance of submodular optimization. All these important models encouraging coverage, diversity and information are all submodular. Moreover, submodular functions can be efficiently combined, and the resulting function is still submodular. Hence, one could combine one submodular function which models diversity, another one which models coverage and use human supervision to learn a right model of a submodular function for the problem. While submodular functions are fitting problems for summarization, they also admit very efficient algorithms for optimization. For example, a simple greedy algorithm admits a constant factor guarantee. [21] Moreover, the greedy algorithm is extremely simple to implement and can scale to large datasets, which is very important for summarization problems. Submodular functions have achieved state-of-the-art for almost all summarization problems. For example, work by Lin and Bilmes, 2012[22] shows that submodular functions achieve the best results to date on DUC-04, DUC-05, DUC-06 and DUC-07 systems for document summarization. Similarly, work by Lin and Bilmes, 2011,[23] shows that many existing systems for automatic summarization are instances of submodular functions. This was a breakthrough result establishing submodular functions as the right models for summarization problems. [citation needed]\n",
              "\n",
              "Submodular Functions have also been used for other summarization tasks. Tschiatschek et al., 2014 show[24] that mixtures of submodular functions achieve state-of-the-art results for image collection summarization. Similarly, Bairi et al., 2015[25] show the utility of submodular functions for summarizing multi-document topic hierarchies. Submodular Functions have also successfully been used for summarizing machine learning datasets. [26]\n",
              "• The Reddit bot \"autotldr\",[27] created in 2011 summarizes news articles in the comment-section of reddit posts. It was found to be very useful by the reddit community which upvoted its summaries hundreds of thousands of times. [28] The name is reference to TL;DR − Internet slang for \"too long; didn't read\". [29][30]\n",
              "\n",
              "The most common way to evaluate the informativeness of automatic summaries is to compare them with human-made model summaries. Evaluation techniques fall into intrinsic and extrinsic,[31] inter-textual and intra-textual. [32]\n",
              "\n",
              "An intrinsic evaluation tests the summarization system in and of itself while an extrinsic evaluation tests the summarization based on how it affects the completion of some other task. Intrinsic evaluations have assessed mainly the coherence and informativeness of summaries. Extrinsic evaluations, on the other hand, have tested the impact of summarization on tasks like relevance assessment, reading comprehension, etc. Intra-textual methods assess the output of a specific summarization system, and the inter-textual ones focus on contrastive analysis of outputs of several summarization systems. Human judgement often has wide variance on what is considered a \"good\" summary, which means that making the evaluation process automatic is particularly difficult. Manual evaluation can be used, but this is both time and labor-intensive as it requires humans to read not only the summaries but also the source documents. Other issues are those concerning coherence and coverage. One of the metrics used in NIST's annual Document Understanding Conferences, in which research groups submit their systems for both summarization and translation tasks, is the ROUGE metric (Recall-Oriented Understudy for Gisting Evaluation [2]). It essentially calculates n-gram overlaps between automatically generated summaries and previously written human summaries. A high level of overlap should indicate a high level of shared concepts between the two summaries. Note that overlap metrics like this are unable to provide any feedback on a summary's coherence. Anaphor resolution remains another problem yet to be fully solved. Similarly, for image summarization, Tschiatschek et al., developed a Visual-ROUGE score which judges the performance of algorithms for image summarization. [33]\n",
              "\n",
              "Domain independent summarization techniques generally apply sets of general features which can be used to identify information-rich text segments. Recent research focus has drifted to domain-specific summarization techniques that utilize the available knowledge specific to the domain of text. For example, automatic summarization research on medical text generally attempts to utilize the various sources of codified medical knowledge and ontologies. [34]\n",
              "\n",
              "The main drawback of the evaluation systems existing so far is that we need at least one reference summary, and for some methods more than one, to be able to compare automatic summaries with models. This is a hard and expensive task. Much effort has to be done in order to have corpus of texts and their corresponding summaries. Furthermore, for some methods, not only do we need to have human-made summaries available for comparison, but also manual annotation has to be performed in some of them (e.g. SCU in the Pyramid Method). <mark>In any case, what the evaluation methods need as an input, is a set of summaries to serve as gold standards and a set of automatic summaries.</mark> Moreover, they all perform a quantitative evaluation with regard to different similarity metrics. The first publication in the area dates back to 1957 [35] (Hans Peter Luhn), starting with a statistical technique. Research increased significantly in 2015. Term frequency–inverse document frequency had been used by 2016. Pattern-based summarization was the most powerful option for multi-document summarization found by 2016. In the following year it was surpassed by latent semantic analysis (LSA) combined with non-negative matrix factorization (NMF). Although they did not replace other approaches and are often combined with them, by 2019 machine learning methods dominated the extractive summarization of single documents, which was considered to be nearing maturity. By 2020, the field was still very active and research is shifting towards abstractive summation and real-time summarization. [36]\n",
              "\n",
              "Recently the rise of Transformer models replacing more traditional RNN (LSTM) have provided a flexibility in the mapping of text sequences to text sequences of a different type, which is well suited to automatic summarization. This includes models such as T5[37] and Pegasus. • None Roxana, Angheluta (2002). The Use of Topic Segmentation for Automatic Summarization. • None Elena, Lloret and Manuel, Palomar (2009). Challenging Issues of Automatic Summarization: Relevance Detection and Quality-based Evaluation. • None Alrehamy, Hassan (2017). \"SemCluster: Unsupervised Automatic Keyphrase Extraction Using Affinity Propagation\". Automatic Keyphrases Extraction. Advances in Intelligent Systems and Computing. Vol. 650. pp. 222–235. doi:10.1007/978-3-319-66939-7_19. ISBN . • None Marcu, Daniel (2000). The Theory and Practice of Discourse Parsing and Summarization. ISBN . • , Published in Proceeding RIAO'10 Adaptivity, Personalization and Fusion of Heterogeneous Information, CID Paris, France\n",
              "• None Xiaojin, Zhu, Andrew Goldberg, Jurgen Van Gael, and David Andrzejewski (2007). Improving diversity in ranking using absorbing random walks . , The GRASSHOPPER algorithm\n",
              "• None Miranda-Jiménez, Sabino, Gelbukh, Alexander, and Sidorov, Grigori (2013). \"Summarizing Conceptual Graphs for Automatic Summarization Task\". Conceptual Structures for STEM Research and Education. Lecture Notes in Computer Science. Vol. 7735. pp. 245–253. doi:10.1007/978-3-642-35786-2_18. ISBN . , Conceptual Structures for STEM Research and Education. "
            ]
          },
          "metadata": {}
        }
      ]
    },
    {
      "cell_type": "markdown",
      "metadata": {
        "id": "bhTq9pdG8f_r"
      },
      "source": [
        "## BERT\n",
        "\n",
        "- https://pypi.org/project/bert-extractive-summarizer/"
      ]
    },
    {
      "cell_type": "code",
      "metadata": {
        "id": "iUeURhk_Uhkq",
        "colab": {
          "base_uri": "https://localhost:8080/"
        },
        "outputId": "46e01876-79c8-4693-bd3a-020fb027c802"
      },
      "source": [
        "!pip install bert-extractive-summarizer"
      ],
      "execution_count": null,
      "outputs": [
        {
          "output_type": "stream",
          "name": "stdout",
          "text": [
            "Looking in indexes: https://pypi.org/simple, https://us-python.pkg.dev/colab-wheels/public/simple/\n",
            "Collecting bert-extractive-summarizer\n",
            "  Downloading bert_extractive_summarizer-0.10.1-py3-none-any.whl (25 kB)\n",
            "Collecting transformers\n",
            "  Downloading transformers-4.20.1-py3-none-any.whl (4.4 MB)\n",
            "\u001b[K     |████████████████████████████████| 4.4 MB 41.9 MB/s \n",
            "\u001b[?25hRequirement already satisfied: scikit-learn in /usr/local/lib/python3.7/dist-packages (from bert-extractive-summarizer) (1.0.2)\n",
            "Requirement already satisfied: spacy in /usr/local/lib/python3.7/dist-packages (from bert-extractive-summarizer) (3.3.1)\n",
            "Requirement already satisfied: joblib>=0.11 in /usr/local/lib/python3.7/dist-packages (from scikit-learn->bert-extractive-summarizer) (1.1.0)\n",
            "Requirement already satisfied: threadpoolctl>=2.0.0 in /usr/local/lib/python3.7/dist-packages (from scikit-learn->bert-extractive-summarizer) (3.1.0)\n",
            "Requirement already satisfied: numpy>=1.14.6 in /usr/local/lib/python3.7/dist-packages (from scikit-learn->bert-extractive-summarizer) (1.21.6)\n",
            "Requirement already satisfied: scipy>=1.1.0 in /usr/local/lib/python3.7/dist-packages (from scikit-learn->bert-extractive-summarizer) (1.4.1)\n",
            "Requirement already satisfied: tqdm<5.0.0,>=4.38.0 in /usr/local/lib/python3.7/dist-packages (from spacy->bert-extractive-summarizer) (4.64.0)\n",
            "Requirement already satisfied: setuptools in /usr/local/lib/python3.7/dist-packages (from spacy->bert-extractive-summarizer) (57.4.0)\n",
            "Requirement already satisfied: spacy-legacy<3.1.0,>=3.0.9 in /usr/local/lib/python3.7/dist-packages (from spacy->bert-extractive-summarizer) (3.0.9)\n",
            "Requirement already satisfied: wasabi<1.1.0,>=0.9.1 in /usr/local/lib/python3.7/dist-packages (from spacy->bert-extractive-summarizer) (0.9.1)\n",
            "Requirement already satisfied: langcodes<4.0.0,>=3.2.0 in /usr/local/lib/python3.7/dist-packages (from spacy->bert-extractive-summarizer) (3.3.0)\n",
            "Requirement already satisfied: typing-extensions<4.2.0,>=3.7.4 in /usr/local/lib/python3.7/dist-packages (from spacy->bert-extractive-summarizer) (4.1.1)\n",
            "Requirement already satisfied: catalogue<2.1.0,>=2.0.6 in /usr/local/lib/python3.7/dist-packages (from spacy->bert-extractive-summarizer) (2.0.7)\n",
            "Requirement already satisfied: spacy-loggers<2.0.0,>=1.0.0 in /usr/local/lib/python3.7/dist-packages (from spacy->bert-extractive-summarizer) (1.0.2)\n",
            "Requirement already satisfied: packaging>=20.0 in /usr/local/lib/python3.7/dist-packages (from spacy->bert-extractive-summarizer) (21.3)\n",
            "Requirement already satisfied: cymem<2.1.0,>=2.0.2 in /usr/local/lib/python3.7/dist-packages (from spacy->bert-extractive-summarizer) (2.0.6)\n",
            "Requirement already satisfied: blis<0.8.0,>=0.4.0 in /usr/local/lib/python3.7/dist-packages (from spacy->bert-extractive-summarizer) (0.7.7)\n",
            "Requirement already satisfied: typer<0.5.0,>=0.3.0 in /usr/local/lib/python3.7/dist-packages (from spacy->bert-extractive-summarizer) (0.4.1)\n",
            "Requirement already satisfied: preshed<3.1.0,>=3.0.2 in /usr/local/lib/python3.7/dist-packages (from spacy->bert-extractive-summarizer) (3.0.6)\n",
            "Requirement already satisfied: murmurhash<1.1.0,>=0.28.0 in /usr/local/lib/python3.7/dist-packages (from spacy->bert-extractive-summarizer) (1.0.7)\n",
            "Requirement already satisfied: jinja2 in /usr/local/lib/python3.7/dist-packages (from spacy->bert-extractive-summarizer) (2.11.3)\n",
            "Requirement already satisfied: pathy>=0.3.5 in /usr/local/lib/python3.7/dist-packages (from spacy->bert-extractive-summarizer) (0.6.1)\n",
            "Requirement already satisfied: srsly<3.0.0,>=2.4.3 in /usr/local/lib/python3.7/dist-packages (from spacy->bert-extractive-summarizer) (2.4.3)\n",
            "Requirement already satisfied: thinc<8.1.0,>=8.0.14 in /usr/local/lib/python3.7/dist-packages (from spacy->bert-extractive-summarizer) (8.0.17)\n",
            "Requirement already satisfied: requests<3.0.0,>=2.13.0 in /usr/local/lib/python3.7/dist-packages (from spacy->bert-extractive-summarizer) (2.23.0)\n",
            "Requirement already satisfied: pydantic!=1.8,!=1.8.1,<1.9.0,>=1.7.4 in /usr/local/lib/python3.7/dist-packages (from spacy->bert-extractive-summarizer) (1.8.2)\n",
            "Requirement already satisfied: zipp>=0.5 in /usr/local/lib/python3.7/dist-packages (from catalogue<2.1.0,>=2.0.6->spacy->bert-extractive-summarizer) (3.8.0)\n",
            "Requirement already satisfied: pyparsing!=3.0.5,>=2.0.2 in /usr/local/lib/python3.7/dist-packages (from packaging>=20.0->spacy->bert-extractive-summarizer) (3.0.9)\n",
            "Requirement already satisfied: smart-open<6.0.0,>=5.0.0 in /usr/local/lib/python3.7/dist-packages (from pathy>=0.3.5->spacy->bert-extractive-summarizer) (5.2.1)\n",
            "Requirement already satisfied: chardet<4,>=3.0.2 in /usr/local/lib/python3.7/dist-packages (from requests<3.0.0,>=2.13.0->spacy->bert-extractive-summarizer) (3.0.4)\n",
            "Requirement already satisfied: urllib3!=1.25.0,!=1.25.1,<1.26,>=1.21.1 in /usr/local/lib/python3.7/dist-packages (from requests<3.0.0,>=2.13.0->spacy->bert-extractive-summarizer) (1.24.3)\n",
            "Requirement already satisfied: certifi>=2017.4.17 in /usr/local/lib/python3.7/dist-packages (from requests<3.0.0,>=2.13.0->spacy->bert-extractive-summarizer) (2022.6.15)\n",
            "Requirement already satisfied: idna<3,>=2.5 in /usr/local/lib/python3.7/dist-packages (from requests<3.0.0,>=2.13.0->spacy->bert-extractive-summarizer) (2.10)\n",
            "Requirement already satisfied: click<9.0.0,>=7.1.1 in /usr/local/lib/python3.7/dist-packages (from typer<0.5.0,>=0.3.0->spacy->bert-extractive-summarizer) (7.1.2)\n",
            "Requirement already satisfied: MarkupSafe>=0.23 in /usr/local/lib/python3.7/dist-packages (from jinja2->spacy->bert-extractive-summarizer) (2.0.1)\n",
            "Collecting huggingface-hub<1.0,>=0.1.0\n",
            "  Downloading huggingface_hub-0.8.1-py3-none-any.whl (101 kB)\n",
            "\u001b[K     |████████████████████████████████| 101 kB 13.1 MB/s \n",
            "\u001b[?25hCollecting pyyaml>=5.1\n",
            "  Downloading PyYAML-6.0-cp37-cp37m-manylinux_2_5_x86_64.manylinux1_x86_64.manylinux_2_12_x86_64.manylinux2010_x86_64.whl (596 kB)\n",
            "\u001b[K     |████████████████████████████████| 596 kB 67.6 MB/s \n",
            "\u001b[?25hRequirement already satisfied: importlib-metadata in /usr/local/lib/python3.7/dist-packages (from transformers->bert-extractive-summarizer) (4.11.4)\n",
            "Requirement already satisfied: regex!=2019.12.17 in /usr/local/lib/python3.7/dist-packages (from transformers->bert-extractive-summarizer) (2022.6.2)\n",
            "Collecting tokenizers!=0.11.3,<0.13,>=0.11.1\n",
            "  Downloading tokenizers-0.12.1-cp37-cp37m-manylinux_2_12_x86_64.manylinux2010_x86_64.whl (6.6 MB)\n",
            "\u001b[K     |████████████████████████████████| 6.6 MB 57.4 MB/s \n",
            "\u001b[?25hRequirement already satisfied: filelock in /usr/local/lib/python3.7/dist-packages (from transformers->bert-extractive-summarizer) (3.7.1)\n",
            "Installing collected packages: pyyaml, tokenizers, huggingface-hub, transformers, bert-extractive-summarizer\n",
            "  Attempting uninstall: pyyaml\n",
            "    Found existing installation: PyYAML 3.13\n",
            "    Uninstalling PyYAML-3.13:\n",
            "      Successfully uninstalled PyYAML-3.13\n",
            "Successfully installed bert-extractive-summarizer-0.10.1 huggingface-hub-0.8.1 pyyaml-6.0 tokenizers-0.12.1 transformers-4.20.1\n"
          ]
        }
      ]
    },
    {
      "cell_type": "code",
      "source": [
        "!pip install git+https://github.com/huggingface/transformers"
      ],
      "metadata": {
        "colab": {
          "base_uri": "https://localhost:8080/"
        },
        "id": "Aj6uHUlMb3fL",
        "outputId": "1cdde0aa-d7d7-4462-ef6b-a8fae9f8dcc1"
      },
      "execution_count": null,
      "outputs": [
        {
          "output_type": "stream",
          "name": "stdout",
          "text": [
            "Looking in indexes: https://pypi.org/simple, https://us-python.pkg.dev/colab-wheels/public/simple/\n",
            "Collecting git+https://github.com/huggingface/transformers\n",
            "  Cloning https://github.com/huggingface/transformers to /tmp/pip-req-build-6pvntmij\n",
            "  Running command git clone -q https://github.com/huggingface/transformers /tmp/pip-req-build-6pvntmij\n",
            "  Installing build dependencies ... \u001b[?25l\u001b[?25hdone\n",
            "  Getting requirements to build wheel ... \u001b[?25l\u001b[?25hdone\n",
            "    Preparing wheel metadata ... \u001b[?25l\u001b[?25hdone\n",
            "Requirement already satisfied: packaging>=20.0 in /usr/local/lib/python3.7/dist-packages (from transformers==4.21.0.dev0) (21.3)\n",
            "Requirement already satisfied: tqdm>=4.27 in /usr/local/lib/python3.7/dist-packages (from transformers==4.21.0.dev0) (4.64.0)\n",
            "Requirement already satisfied: requests in /usr/local/lib/python3.7/dist-packages (from transformers==4.21.0.dev0) (2.23.0)\n",
            "Requirement already satisfied: numpy>=1.17 in /usr/local/lib/python3.7/dist-packages (from transformers==4.21.0.dev0) (1.21.6)\n",
            "Requirement already satisfied: pyyaml>=5.1 in /usr/local/lib/python3.7/dist-packages (from transformers==4.21.0.dev0) (6.0)\n",
            "Requirement already satisfied: regex!=2019.12.17 in /usr/local/lib/python3.7/dist-packages (from transformers==4.21.0.dev0) (2022.6.2)\n",
            "Requirement already satisfied: tokenizers!=0.11.3,<0.13,>=0.11.1 in /usr/local/lib/python3.7/dist-packages (from transformers==4.21.0.dev0) (0.12.1)\n",
            "Requirement already satisfied: importlib-metadata in /usr/local/lib/python3.7/dist-packages (from transformers==4.21.0.dev0) (4.11.4)\n",
            "Requirement already satisfied: huggingface-hub<1.0,>=0.1.0 in /usr/local/lib/python3.7/dist-packages (from transformers==4.21.0.dev0) (0.8.1)\n",
            "Requirement already satisfied: filelock in /usr/local/lib/python3.7/dist-packages (from transformers==4.21.0.dev0) (3.7.1)\n",
            "Requirement already satisfied: typing-extensions>=3.7.4.3 in /usr/local/lib/python3.7/dist-packages (from huggingface-hub<1.0,>=0.1.0->transformers==4.21.0.dev0) (4.1.1)\n",
            "Requirement already satisfied: pyparsing!=3.0.5,>=2.0.2 in /usr/local/lib/python3.7/dist-packages (from packaging>=20.0->transformers==4.21.0.dev0) (3.0.9)\n",
            "Requirement already satisfied: zipp>=0.5 in /usr/local/lib/python3.7/dist-packages (from importlib-metadata->transformers==4.21.0.dev0) (3.8.0)\n",
            "Requirement already satisfied: chardet<4,>=3.0.2 in /usr/local/lib/python3.7/dist-packages (from requests->transformers==4.21.0.dev0) (3.0.4)\n",
            "Requirement already satisfied: certifi>=2017.4.17 in /usr/local/lib/python3.7/dist-packages (from requests->transformers==4.21.0.dev0) (2022.6.15)\n",
            "Requirement already satisfied: idna<3,>=2.5 in /usr/local/lib/python3.7/dist-packages (from requests->transformers==4.21.0.dev0) (2.10)\n",
            "Requirement already satisfied: urllib3!=1.25.0,!=1.25.1,<1.26,>=1.21.1 in /usr/local/lib/python3.7/dist-packages (from requests->transformers==4.21.0.dev0) (1.24.3)\n",
            "Building wheels for collected packages: transformers\n",
            "  Building wheel for transformers (PEP 517) ... \u001b[?25l\u001b[?25hdone\n",
            "  Created wheel for transformers: filename=transformers-4.21.0.dev0-py3-none-any.whl size=4584781 sha256=6f163960679655c833d3a75565769d27d52cae30338803a6bbae068cb1cf084a\n",
            "  Stored in directory: /tmp/pip-ephem-wheel-cache-wi6bultz/wheels/35/2e/a7/d819e3310040329f0f47e57c9e3e7a7338aa5e74c49acfe522\n",
            "Successfully built transformers\n",
            "Installing collected packages: transformers\n",
            "  Attempting uninstall: transformers\n",
            "    Found existing installation: transformers 4.20.1\n",
            "    Uninstalling transformers-4.20.1:\n",
            "      Successfully uninstalled transformers-4.20.1\n",
            "Successfully installed transformers-4.21.0.dev0\n"
          ]
        }
      ]
    },
    {
      "cell_type": "code",
      "source": [
        "!pip install sacremoses"
      ],
      "metadata": {
        "colab": {
          "base_uri": "https://localhost:8080/"
        },
        "id": "YelKUI2tZvdV",
        "outputId": "b35393a9-608b-4439-9b04-6267603be53b"
      },
      "execution_count": null,
      "outputs": [
        {
          "output_type": "stream",
          "name": "stdout",
          "text": [
            "Looking in indexes: https://pypi.org/simple, https://us-python.pkg.dev/colab-wheels/public/simple/\n",
            "Collecting sacremoses\n",
            "  Downloading sacremoses-0.0.53.tar.gz (880 kB)\n",
            "\u001b[K     |████████████████████████████████| 880 kB 32.3 MB/s \n",
            "\u001b[?25hRequirement already satisfied: regex in /usr/local/lib/python3.7/dist-packages (from sacremoses) (2022.6.2)\n",
            "Requirement already satisfied: six in /usr/local/lib/python3.7/dist-packages (from sacremoses) (1.15.0)\n",
            "Requirement already satisfied: click in /usr/local/lib/python3.7/dist-packages (from sacremoses) (7.1.2)\n",
            "Requirement already satisfied: joblib in /usr/local/lib/python3.7/dist-packages (from sacremoses) (1.1.0)\n",
            "Requirement already satisfied: tqdm in /usr/local/lib/python3.7/dist-packages (from sacremoses) (4.64.0)\n",
            "Building wheels for collected packages: sacremoses\n",
            "  Building wheel for sacremoses (setup.py) ... \u001b[?25l\u001b[?25hdone\n",
            "  Created wheel for sacremoses: filename=sacremoses-0.0.53-py3-none-any.whl size=895260 sha256=7635af427bec94db9bd117033eb0819be5a5cc423e772ee95788a61049d3b8a4\n",
            "  Stored in directory: /root/.cache/pip/wheels/87/39/dd/a83eeef36d0bf98e7a4d1933a4ad2d660295a40613079bafc9\n",
            "Successfully built sacremoses\n",
            "Installing collected packages: sacremoses\n",
            "Successfully installed sacremoses-0.0.53\n"
          ]
        }
      ]
    },
    {
      "cell_type": "code",
      "source": [
        "from transformers import BigBirdTokenizer"
      ],
      "metadata": {
        "id": "xsO_Z3LvQ9AX"
      },
      "execution_count": null,
      "outputs": []
    },
    {
      "cell_type": "code",
      "metadata": {
        "id": "C5Y6OT3PU0PW"
      },
      "source": [
        "from summarizer import Summarizer"
      ],
      "execution_count": null,
      "outputs": []
    },
    {
      "cell_type": "code",
      "metadata": {
        "colab": {
          "base_uri": "https://localhost:8080/",
          "height": 217,
          "referenced_widgets": [
            "006fee05dafb4193983f857e0f73cd45",
            "d08e1533f03a4f76aa70efbe9caffdd2",
            "94b464b2621e416e9e5cc6dc59fac56f",
            "f5794f1531e1493bb8a95886fee86b92",
            "40a00540c0d94d319000e4c5bf3b515a",
            "967e2cf9467944b6a2c0cb1fc6119647",
            "08d9e1bdbfb24e0d8d4de0f7bcc7d29e",
            "622be9d033374952b81162dd57773e28",
            "921da712357b4b1fb982cfa2ed9b19a1",
            "96da40a5b74349998a623b268917295a",
            "b8fa37dfcab64b9ea3a179b0ffc48cda",
            "8545e551aa3a4f4681bd16d8c93c2289",
            "febad2fe145e4bb0a7b46101cea68fe1",
            "36ca81c8fae6479cbb4d330536fd88b2",
            "bd4efe59cb964f72b7b0f56805cfcf52",
            "1fcad68239554a40824513b5dba7778c",
            "f5f09c03c01a47b0ab0ff69e8187c9a0",
            "95552fcad12b4f07bd609e67dc698b9b",
            "b8d898a21607402ba1673e3c7d25318f",
            "dd41e07c2a43489ca8baf28c91f8f178",
            "1e008b68ee4c4104bd0585f6e96e4e45",
            "e72134a64eff45b286941bf1be616f13",
            "6cfa57eac0fc4fec882354b3337d179d",
            "693ce3e7d9d842e7a452babd87340b2b",
            "d62795873220456fba5bb02ca3da354e",
            "5b943a8a8d1849caa76f8cdf3e2c1678",
            "43b21a82b0f54020a0dd263044d75962",
            "a9c17a23773e4c759f2abba6d7b8d58c",
            "cace5f212ac046d3b3ba5edba9e19047",
            "8e3561193b3440059445cd94dedd5b5d",
            "91301797e4e5454292669b34d5122642",
            "1c5e1392d16d4b719bfbb9bdc7277b7b",
            "dcef3a5a96c6440c91a264b044f192c3",
            "2d0ae949f94d4f8c930f3bfa9df63696",
            "7ca962192caf4dd3b3ebd2aa62ccd7ad",
            "8a4ae79831b34c8eb88b8a64e6b4a048",
            "21f61100194c4409a641089320abfc76",
            "5251a5e4397d4112b2a0105f36250bb5",
            "c20b60865abf439d81c98b6f46a9ce4f",
            "c09bf177ef7945e1b0c44d7435cd740e",
            "7ce706a23cfc48b69f3fb53a92520757",
            "a1137d34de3248f487db68773e2fd432",
            "e8eb3754cc1241d58ec1547270b8dfcb",
            "7c7b8c92954c4365a0f6d9cac8dffbb1"
          ]
        },
        "id": "59rRK3ycVJw_",
        "outputId": "443d0194-fe2d-40ba-c682-19535131f39a"
      },
      "source": [
        "summarizer = Summarizer()\n",
        "summary = summarizer(article.cleaned_text)"
      ],
      "execution_count": null,
      "outputs": [
        {
          "output_type": "display_data",
          "data": {
            "text/plain": [
              "Downloading:   0%|          | 0.00/571 [00:00<?, ?B/s]"
            ],
            "application/vnd.jupyter.widget-view+json": {
              "version_major": 2,
              "version_minor": 0,
              "model_id": "006fee05dafb4193983f857e0f73cd45"
            }
          },
          "metadata": {}
        },
        {
          "output_type": "display_data",
          "data": {
            "text/plain": [
              "Downloading:   0%|          | 0.00/1.25G [00:00<?, ?B/s]"
            ],
            "application/vnd.jupyter.widget-view+json": {
              "version_major": 2,
              "version_minor": 0,
              "model_id": "8545e551aa3a4f4681bd16d8c93c2289"
            }
          },
          "metadata": {}
        },
        {
          "output_type": "stream",
          "name": "stderr",
          "text": [
            "Some weights of the model checkpoint at bert-large-uncased were not used when initializing BertModel: ['cls.seq_relationship.bias', 'cls.predictions.transform.LayerNorm.weight', 'cls.predictions.transform.dense.bias', 'cls.seq_relationship.weight', 'cls.predictions.transform.LayerNorm.bias', 'cls.predictions.decoder.weight', 'cls.predictions.bias', 'cls.predictions.transform.dense.weight']\n",
            "- This IS expected if you are initializing BertModel from the checkpoint of a model trained on another task or with another architecture (e.g. initializing a BertForSequenceClassification model from a BertForPreTraining model).\n",
            "- This IS NOT expected if you are initializing BertModel from the checkpoint of a model that you expect to be exactly identical (initializing a BertForSequenceClassification model from a BertForSequenceClassification model).\n"
          ]
        },
        {
          "output_type": "display_data",
          "data": {
            "text/plain": [
              "Downloading:   0%|          | 0.00/226k [00:00<?, ?B/s]"
            ],
            "application/vnd.jupyter.widget-view+json": {
              "version_major": 2,
              "version_minor": 0,
              "model_id": "6cfa57eac0fc4fec882354b3337d179d"
            }
          },
          "metadata": {}
        },
        {
          "output_type": "display_data",
          "data": {
            "text/plain": [
              "Downloading:   0%|          | 0.00/28.0 [00:00<?, ?B/s]"
            ],
            "application/vnd.jupyter.widget-view+json": {
              "version_major": 2,
              "version_minor": 0,
              "model_id": "2d0ae949f94d4f8c930f3bfa9df63696"
            }
          },
          "metadata": {}
        }
      ]
    },
    {
      "cell_type": "code",
      "metadata": {
        "colab": {
          "base_uri": "https://localhost:8080/",
          "height": 140
        },
        "id": "3sDvOljSWXqU",
        "outputId": "fc464f56-58f8-4407-8e97-17c1e4c01432"
      },
      "source": [
        "summary"
      ],
      "execution_count": null,
      "outputs": [
        {
          "output_type": "execute_result",
          "data": {
            "text/plain": [
              "'Automatic summarization is the process of shortening a set of data computationally, to create a subset (a summary) that represents the most important or relevant information within the original content. In addition to text, images and videos can also be summarized. Such transformation, however, is computationally much more challenging than extraction, involving both natural language processing and often a deep understanding of the domain of the original text in cases where the original document relates to a special field of knowledge. \" Approaches aimed at higher summarization quality rely on combined software and human effort. This problem is called multi-document summarization. Image collection summarization is another application example of automatic summarization. Video summarization is a related domain, where the system automatically creates a trailer of a long video. These algorithms model notions like diversity, coverage, information and representativeness of the summary. You are given a piece of text, such as a journal article, and you must produce a list of keywords or key[phrase]s that capture the primary topics discussed in the text.[10] In the case of research articles, many authors provide manually assigned keywords, but most text lacks pre-existing keyphrases. Abstraction requires a deep understanding of the text, which makes it difficult for a computer system. Depending on the different literature and the definition of key terms, words or phrases, keyword extraction is a highly related theme. Beginning with the work of Turney,[11] many researchers have approached keyphrase extraction as a supervised machine learning problem. Given a document, we construct an example for each unigram, bigram, and trigram found in the text (though other text units are also possible, as discussed below). In the end, the system will need to return a list of keyphrases for a test document, so we need to have a way to limit the number. Hulth used a single binary classifier so the learning algorithm implicitly determines the appropriate number. Virtually any supervised learning algorithm could be used, such as decision trees, Naive Bayes, and rule induction. The genetic algorithm optimizes parameters for these heuristics with respect to performance on training documents with known key phrases. Furthermore, training on a specific domain tends to customize the extraction process to that domain, so the resulting classifier is not necessarily portable, as some of Turney\\'s results demonstrate. Instead of trying to learn explicit features that characterize keyphrases, the TextRank algorithm[12] exploits the structure of the text itself to determine keyphrases that appear \"central\" to the text in the same way that PageRank selects important Web pages. Thus the algorithm is easily portable to new domains and languages. The vertices should correspond to what we want to rank. Note that the unigrams placed in the graph can be filtered by part of speech. One way to think about it is the following. A word that appears multiple times throughout a text may have many different co-occurring neighbors. Thus, the \"learning\" vertex would be a central \"hub\" that connects to these other modifying words. In short, the co-occurrence graph will contain densely connected regions for terms that appear often and in different contexts. This is similar to densely connected Web pages getting ranked highly by PageRank. This approach has also been used in document summarization, considered below. The only real difference is that now we are dealing with larger text units—whole sentences instead of words and phrases. The most common way is using the so-called ROUGE (Recall-Oriented Understudy for Gisting Evaluation) measure. Recall can be computed with respect to unigram, bigram, trigram, or 4-gram matching. High-order n-gram ROUGE measures try to judge fluency to some degree. This is not typically how people create summaries, so simply using journal abstracts or existing summaries is usually not sufficient. During the DUC 2001 and 2002 evaluation workshops, TNO developed a sentence extraction system for multi-document summarization in the news domain. LexRank[15] is an algorithm essentially identical to TextRank, and both use this approach for document summarization. While LexRank uses cosine similarity of TF-IDF vectors, TextRank uses a very similar measure based on the number of words two sentences have in common (normalized by the sentences\\' lengths). Imagine you have a cluster of news articles on a particular event, and you want to produce one summary. Thus, to get ranked highly and placed in a summary, a sentence must be similar to many sentences that are in turn also similar to many other sentences. This makes intuitive sense and allows the algorithms to be applied to any arbitrary new text. Resulting summary report allows individual users, such as professional information consumers, to quickly familiarize themselves with information contained in a large cluster of documents. All these important models encouraging coverage, diversity and information are all submodular. Similarly, work by Lin and Bilmes, 2011,[23] shows that many existing systems for automatic summarization are instances of submodular functions. It essentially calculates n-gram overlaps between automatically generated summaries and previously written human summaries. Anaphor resolution remains another problem yet to be fully solved. developed a Visual-ROUGE score which judges the performance of algorithms for image summarization.[33]\\n\\nDomain independent summarization techniques generally apply sets of general features which can be used to identify information-rich text segments. Recent research focus has drifted to domain-specific summarization techniques that utilize the available knowledge specific to the domain of text. For example, automatic summarization research on medical text generally attempts to utilize the various sources of codified medical knowledge and ontologies.[34]\\n\\nThe main drawback of the evaluation systems existing so far is that we need at least one reference summary, and for some methods more than one, to be able to compare automatic summaries with models. Research increased significantly in 2015. The Use of Topic Segmentation for Automatic Summarization. Summarizing Conceptual Graphs for Automatic Summarization Task\". Conceptual Structures for STEM Research and Education.'"
            ],
            "application/vnd.google.colaboratory.intrinsic+json": {
              "type": "string"
            }
          },
          "metadata": {},
          "execution_count": 31
        }
      ]
    },
    {
      "cell_type": "code",
      "metadata": {
        "colab": {
          "base_uri": "https://localhost:8080/"
        },
        "id": "K5D1JJGUWfjj",
        "outputId": "13bd7c1c-9e0f-49d8-a8e1-61393e9d6192"
      },
      "source": [
        "summary_tokenized = [sentence for sentence in nltk.sent_tokenize(summary)]\n",
        "summary_tokenized"
      ],
      "execution_count": null,
      "outputs": [
        {
          "output_type": "execute_result",
          "data": {
            "text/plain": [
              "['Automatic summarization is the process of shortening a set of data computationally, to create a subset (a summary) that represents the most important or relevant information within the original content.',\n",
              " 'In addition to text, images and videos can also be summarized.',\n",
              " 'Such transformation, however, is computationally much more challenging than extraction, involving both natural language processing and often a deep understanding of the domain of the original text in cases where the original document relates to a special field of knowledge. \"',\n",
              " 'Approaches aimed at higher summarization quality rely on combined software and human effort.',\n",
              " 'This problem is called multi-document summarization.',\n",
              " 'Image collection summarization is another application example of automatic summarization.',\n",
              " 'Video summarization is a related domain, where the system automatically creates a trailer of a long video.',\n",
              " 'These algorithms model notions like diversity, coverage, information and representativeness of the summary.',\n",
              " 'You are given a piece of text, such as a journal article, and you must produce a list of keywords or key[phrase]s that capture the primary topics discussed in the text.',\n",
              " '[10] In the case of research articles, many authors provide manually assigned keywords, but most text lacks pre-existing keyphrases.',\n",
              " 'Abstraction requires a deep understanding of the text, which makes it difficult for a computer system.',\n",
              " 'Depending on the different literature and the definition of key terms, words or phrases, keyword extraction is a highly related theme.',\n",
              " 'Beginning with the work of Turney,[11] many researchers have approached keyphrase extraction as a supervised machine learning problem.',\n",
              " 'Given a document, we construct an example for each unigram, bigram, and trigram found in the text (though other text units are also possible, as discussed below).',\n",
              " 'In the end, the system will need to return a list of keyphrases for a test document, so we need to have a way to limit the number.',\n",
              " 'Hulth used a single binary classifier so the learning algorithm implicitly determines the appropriate number.',\n",
              " 'Virtually any supervised learning algorithm could be used, such as decision trees, Naive Bayes, and rule induction.',\n",
              " 'The genetic algorithm optimizes parameters for these heuristics with respect to performance on training documents with known key phrases.',\n",
              " \"Furthermore, training on a specific domain tends to customize the extraction process to that domain, so the resulting classifier is not necessarily portable, as some of Turney's results demonstrate.\",\n",
              " 'Instead of trying to learn explicit features that characterize keyphrases, the TextRank algorithm[12] exploits the structure of the text itself to determine keyphrases that appear \"central\" to the text in the same way that PageRank selects important Web pages.',\n",
              " 'Thus the algorithm is easily portable to new domains and languages.',\n",
              " 'The vertices should correspond to what we want to rank.',\n",
              " 'Note that the unigrams placed in the graph can be filtered by part of speech.',\n",
              " 'One way to think about it is the following.',\n",
              " 'A word that appears multiple times throughout a text may have many different co-occurring neighbors.',\n",
              " 'Thus, the \"learning\" vertex would be a central \"hub\" that connects to these other modifying words.',\n",
              " 'In short, the co-occurrence graph will contain densely connected regions for terms that appear often and in different contexts.',\n",
              " 'This is similar to densely connected Web pages getting ranked highly by PageRank.',\n",
              " 'This approach has also been used in document summarization, considered below.',\n",
              " 'The only real difference is that now we are dealing with larger text units—whole sentences instead of words and phrases.',\n",
              " 'The most common way is using the so-called ROUGE (Recall-Oriented Understudy for Gisting Evaluation) measure.',\n",
              " 'Recall can be computed with respect to unigram, bigram, trigram, or 4-gram matching.',\n",
              " 'High-order n-gram ROUGE measures try to judge fluency to some degree.',\n",
              " 'This is not typically how people create summaries, so simply using journal abstracts or existing summaries is usually not sufficient.',\n",
              " 'During the DUC 2001 and 2002 evaluation workshops, TNO developed a sentence extraction system for multi-document summarization in the news domain.',\n",
              " 'LexRank[15] is an algorithm essentially identical to TextRank, and both use this approach for document summarization.',\n",
              " \"While LexRank uses cosine similarity of TF-IDF vectors, TextRank uses a very similar measure based on the number of words two sentences have in common (normalized by the sentences' lengths).\",\n",
              " 'Imagine you have a cluster of news articles on a particular event, and you want to produce one summary.',\n",
              " 'Thus, to get ranked highly and placed in a summary, a sentence must be similar to many sentences that are in turn also similar to many other sentences.',\n",
              " 'This makes intuitive sense and allows the algorithms to be applied to any arbitrary new text.',\n",
              " 'Resulting summary report allows individual users, such as professional information consumers, to quickly familiarize themselves with information contained in a large cluster of documents.',\n",
              " 'All these important models encouraging coverage, diversity and information are all submodular.',\n",
              " 'Similarly, work by Lin and Bilmes, 2011,[23] shows that many existing systems for automatic summarization are instances of submodular functions.',\n",
              " 'It essentially calculates n-gram overlaps between automatically generated summaries and previously written human summaries.',\n",
              " 'Anaphor resolution remains another problem yet to be fully solved.',\n",
              " 'developed a Visual-ROUGE score which judges the performance of algorithms for image summarization.',\n",
              " '[33]\\n\\nDomain independent summarization techniques generally apply sets of general features which can be used to identify information-rich text segments.',\n",
              " 'Recent research focus has drifted to domain-specific summarization techniques that utilize the available knowledge specific to the domain of text.',\n",
              " 'For example, automatic summarization research on medical text generally attempts to utilize the various sources of codified medical knowledge and ontologies.',\n",
              " '[34]\\n\\nThe main drawback of the evaluation systems existing so far is that we need at least one reference summary, and for some methods more than one, to be able to compare automatic summaries with models.',\n",
              " 'Research increased significantly in 2015.',\n",
              " 'The Use of Topic Segmentation for Automatic Summarization.',\n",
              " 'Summarizing Conceptual Graphs for Automatic Summarization Task\".',\n",
              " 'Conceptual Structures for STEM Research and Education.']"
            ]
          },
          "metadata": {},
          "execution_count": 32
        }
      ]
    },
    {
      "cell_type": "code",
      "metadata": {
        "id": "XAbf88iXWqZb",
        "colab": {
          "base_uri": "https://localhost:8080/",
          "height": 1000
        },
        "outputId": "87a04fea-9e04-4de2-946d-1aae4b7dc7ab"
      },
      "source": [
        "visualize(article.title, original_sentences, summary_tokenized)"
      ],
      "execution_count": null,
      "outputs": [
        {
          "output_type": "display_data",
          "data": {
            "text/plain": [
              "<IPython.core.display.HTML object>"
            ],
            "text/html": [
              "<h1>Summary - Automatic summarization - Wikipedia</h1>"
            ]
          },
          "metadata": {}
        },
        {
          "output_type": "display_data",
          "data": {
            "text/plain": [
              "<IPython.core.display.HTML object>"
            ],
            "text/html": [
              "  <mark>Automatic summarization is the process of shortening a set of data computationally, to create a subset (a summary) that represents the most important or relevant information within the original content.</mark> <mark>In addition to text, images and videos can also be summarized.</mark> Text summarization finds the most informative sentences in a document;[1] various methods of image summarization are the subject of ongoing research, with some looking to display the most representative images from a given collection or generating a video;[2][3][4] video summarization extracts the most important frames from the video content. [5]\n",
              "\n",
              "There are two general approaches to automatic summarization: extraction and abstraction. Here, content is extracted from the original data, but the extracted content is not modified in any way. Examples of extracted content include key-phrases that can be used to \"tag\" or index a text document, or key sentences (including headings) that collectively comprise an abstract, and representative images or video segments, as stated above. For text, extraction is analogous to the process of skimming, where the summary (if available), headings and subheadings, figures, the first and last paragraphs of a section, and optionally the first and last sentences in a paragraph are read before one chooses to read the entire document in detail. [7] Other examples of extraction that include key sequences of text in terms of clinical relevance (including patient/problem, intervention, and outcome). [8]\n",
              "\n",
              "This has been applied mainly for text. Abstractive methods build an internal semantic representation of the original content, and then use this representation to create a summary that is closer to what a human might express. Abstraction may transform the extracted content by paraphrasing sections of the source document, to condense a text more strongly than extraction. Such transformation, however, is computationally much more challenging than extraction, involving both natural language processing and often a deep understanding of the domain of the original text in cases where the original document relates to a special field of knowledge. \"Paraphrasing\" is even more difficult to apply to image and video, which is why most summarization systems are extractive. <mark>Approaches aimed at higher summarization quality rely on combined software and human effort.</mark> In Machine Aided Human Summarization, extractive techniques highlight candidate passages for inclusion (to which the human adds or removes text). In Human Aided Machine Summarization, a human post-processes software output, in the same way that one edits the output of automatic translation by Google Translate. There are broadly two types of extractive summarization tasks depending on what the summarization program focuses on. The first is generic summarization, which focuses on obtaining a generic summary or abstract of the collection (whether documents, or sets of images, or videos, news stories etc.). The second is query relevant summarization, sometimes called query-based summarization, which summarizes objects specific to a query. Summarization systems are able to create both query relevant text summaries and generic machine-generated summaries depending on what the user needs. An example of a summarization problem is document summarization, which attempts to automatically produce an abstract from a given document. Sometimes one might be interested in generating a summary from a single source document, while others can use multiple source documents (for example, a cluster of articles on the same topic). <mark>This problem is called multi-document summarization.</mark> A related application is summarizing news articles. Imagine a system, which automatically pulls together news articles on a given topic (from the web), and concisely represents the latest news as a summary. <mark>Image collection summarization is another application example of automatic summarization.</mark> It consists in selecting a representative set of images from a larger set of images. [9] A summary in this context is useful to show the most representative images of results in an image collection exploration system. <mark>Video summarization is a related domain, where the system automatically creates a trailer of a long video.</mark> This also has applications in consumer or personal videos, where one might want to skip the boring or repetitive actions. Similarly, in surveillance videos, one would want to extract important and suspicious activity, while ignoring all the boring and redundant frames captured. At a very high level, summarization algorithms try to find subsets of objects (like set of sentences, or a set of images), which cover information of the entire set. This is also called the core-set. <mark>These algorithms model notions like diversity, coverage, information and representativeness of the summary.</mark> Query based summarization techniques, additionally model for relevance of the summary with the query. Some techniques and algorithms which naturally model summarization problems are TextRank and PageRank, Submodular set function, Determinantal point process, maximal marginal relevance (MMR) etc. The task is the following. <mark>You are given a piece of text, such as a journal article, and you must produce a list of keywords or key[phrase]s that capture the primary topics discussed in the text.</mark> <mark>[10] In the case of research articles, many authors provide manually assigned keywords, but most text lacks pre-existing keyphrases.</mark> For example, news articles rarely have keyphrases attached, but it would be useful to be able to automatically do so for a number of applications discussed below. Consider the example text from a news article:\n",
              "\n",
              "A keyphrase extractor might select \"Army Corps of Engineers\", \"President Bush\", \"New Orleans\", and \"defective flood-control pumps\" as keyphrases. These are pulled directly from the text. In contrast, an abstractive keyphrase system would somehow internalize the content and generate keyphrases that do not appear in the text, but more closely resemble what a human might produce, such as \"political negligence\" or \"inadequate protection from floods\". <mark>Abstraction requires a deep understanding of the text, which makes it difficult for a computer system.</mark> Keyphrases have many applications. They can enable document browsing by providing a short summary, improve information retrieval (if documents have keyphrases assigned, a user could search by keyphrase to produce more reliable hits than a full-text search), and be employed in generating index entries for a large text corpus. <mark>Depending on the different literature and the definition of key terms, words or phrases, keyword extraction is a highly related theme.</mark> <mark>Beginning with the work of Turney,[11] many researchers have approached keyphrase extraction as a supervised machine learning problem.</mark> <mark>Given a document, we construct an example for each unigram, bigram, and trigram found in the text (though other text units are also possible, as discussed below).</mark> We then compute various features describing each example (e.g., does the phrase begin with an upper-case letter?). We assume there are known keyphrases available for a set of training documents. Using the known keyphrases, we can assign positive or negative labels to the examples. Then we learn a classifier that can discriminate between positive and negative examples as a function of the features. Some classifiers make a binary classification for a test example, while others assign a probability of being a keyphrase. For instance, in the above text, we might learn a rule that says phrases with initial capital letters are likely to be keyphrases. After training a learner, we can select keyphrases for test documents in the following manner. We apply the same example-generation strategy to the test documents, then run each example through the learner. We can determine the keyphrases by looking at binary classification decisions or probabilities returned from our learned model. If probabilities are given, a threshold is used to select the keyphrases. Keyphrase extractors are generally evaluated using precision and recall. Precision measures how many of the proposed keyphrases are actually correct. Recall measures how many of the true keyphrases your system proposed. The two measures can be combined in an F-score, which is the harmonic mean of the two (F = 2PR/(P + R) ). Matches between the proposed keyphrases and the known keyphrases can be checked after stemming or applying some other text normalization. Designing a supervised keyphrase extraction system involves deciding on several choices (some of these apply to unsupervised, too). The first choice is exactly how to generate examples. Turney and others have used all possible unigrams, bigrams, and trigrams without intervening punctuation and after removing stopwords. Hulth showed that you can get some improvement by selecting examples to be sequences of tokens that match certain patterns of part-of-speech tags. Ideally, the mechanism for generating examples produces all the known labeled keyphrases as candidates, though this is often not the case. For example, if we use only unigrams, bigrams, and trigrams, then we will never be able to extract a known keyphrase containing four words. Thus, recall may suffer. However, generating too many examples can also lead to low precision. We also need to create features that describe the examples and are informative enough to allow a learning algorithm to discriminate keyphrases from non- keyphrases. Typically features involve various term frequencies (how many times a phrase appears in the current text or in a larger corpus), the length of the example, relative position of the first occurrence, various boolean syntactic features (e.g., contains all caps), etc. The Turney paper used about 12 such features. Hulth uses a reduced set of features, which were found most successful in the KEA (Keyphrase Extraction Algorithm) work derived from Turney's seminal paper. <mark>In the end, the system will need to return a list of keyphrases for a test document, so we need to have a way to limit the number.</mark> Ensemble methods (i.e., using votes from several classifiers) have been used to produce numeric scores that can be thresholded to provide a user-provided number of keyphrases. This is the technique used by Turney with C4.5 decision trees. <mark>Hulth used a single binary classifier so the learning algorithm implicitly determines the appropriate number.</mark> Once examples and features are created, we need a way to learn to predict keyphrases. <mark>Virtually any supervised learning algorithm could be used, such as decision trees, Naive Bayes, and rule induction.</mark> In the case of Turney's GenEx algorithm, a genetic algorithm is used to learn parameters for a domain-specific keyphrase extraction algorithm. The extractor follows a series of heuristics to identify keyphrases. <mark>The genetic algorithm optimizes parameters for these heuristics with respect to performance on training documents with known key phrases.</mark> Another keyphrase extraction algorithm is TextRank. While supervised methods have some nice properties, like being able to produce interpretable rules for what features characterize a keyphrase, they also require a large amount of training data. Many documents with known keyphrases are needed. <mark>Furthermore, training on a specific domain tends to customize the extraction process to that domain, so the resulting classifier is not necessarily portable, as some of Turney's results demonstrate.</mark> Unsupervised keyphrase extraction removes the need for training data. It approaches the problem from a different angle. <mark>Instead of trying to learn explicit features that characterize keyphrases, the TextRank algorithm[12] exploits the structure of the text itself to determine keyphrases that appear \"central\" to the text in the same way that PageRank selects important Web pages.</mark> Recall this is based on the notion of \"prestige\" or \"recommendation\" from social networks. In this way, TextRank does not rely on any previous training data at all, but rather can be run on any arbitrary piece of text, and it can produce output simply based on the text's intrinsic properties. <mark>Thus the algorithm is easily portable to new domains and languages.</mark> TextRank is a general purpose graph-based ranking algorithm for NLP. Essentially, it runs PageRank on a graph specially designed for a particular NLP task. For keyphrase extraction, it builds a graph using some set of text units as vertices. Edges are based on some measure of semantic or lexical similarity between the text unit vertices. Unlike PageRank, the edges are typically undirected and can be weighted to reflect a degree of similarity. Once the graph is constructed, it is used to form a stochastic matrix, combined with a damping factor (as in the \"random surfer model\"), and the ranking over vertices is obtained by finding the eigenvector corresponding to eigenvalue 1 (i.e., the stationary distribution of the random walk on the graph). <mark>The vertices should correspond to what we want to rank.</mark> Potentially, we could do something similar to the supervised methods and create a vertex for each unigram, bigram, trigram, etc. However, to keep the graph small, the authors decide to rank individual unigrams in a first step, and then include a second step that merges highly ranked adjacent unigrams to form multi-word phrases. This has a nice side effect of allowing us to produce keyphrases of arbitrary length. For example, if we rank unigrams and find that \"advanced\", \"natural\", \"language\", and \"processing\" all get high ranks, then we would look at the original text and see that these words appear consecutively and create a final keyphrase using all four together. <mark>Note that the unigrams placed in the graph can be filtered by part of speech.</mark> The authors found that adjectives and nouns were the best to include. Thus, some linguistic knowledge comes into play in this step. Edges are created based on word co-occurrence in this application of TextRank. Two vertices are connected by an edge if the unigrams appear within a window of size N in the original text. N is typically around 2–10. Thus, \"natural\" and \"language\" might be linked in a text about NLP. \"Natural\" and \"processing\" would also be linked because they would both appear in the same string of N words. These edges build on the notion of \"text cohesion\" and the idea that words that appear near each other are likely related in a meaningful way and \"recommend\" each other to the reader. Since this method simply ranks the individual vertices, we need a way to threshold or produce a limited number of keyphrases. The technique chosen is to set a count T to be a user-specified fraction of the total number of vertices in the graph. Then the top T vertices/unigrams are selected based on their stationary probabilities. A post- processing step is then applied to merge adjacent instances of these T unigrams. As a result, potentially more or less than T final keyphrases will be produced, but the number should be roughly proportional to the length of the original text. It is not initially clear why applying PageRank to a co-occurrence graph would produce useful keyphrases. <mark>One way to think about it is the following.</mark> <mark>A word that appears multiple times throughout a text may have many different co-occurring neighbors.</mark> For example, in a text about machine learning, the unigram \"learning\" might co-occur with \"machine\", \"supervised\", \"un-supervised\", and \"semi-supervised\" in four different sentences. <mark>Thus, the \"learning\" vertex would be a central \"hub\" that connects to these other modifying words.</mark> Running PageRank/TextRank on the graph is likely to rank \"learning\" highly. Similarly, if the text contains the phrase \"supervised classification\", then there would be an edge between \"supervised\" and \"classification\". If \"classification\" appears several other places and thus has many neighbors, its importance would contribute to the importance of \"supervised\". If it ends up with a high rank, it will be selected as one of the top T unigrams, along with \"learning\" and probably \"classification\". In the final post-processing step, we would then end up with keyphrases \"supervised learning\" and \"supervised classification\". <mark>In short, the co-occurrence graph will contain densely connected regions for terms that appear often and in different contexts.</mark> A random walk on this graph will have a stationary distribution that assigns large probabilities to the terms in the centers of the clusters. <mark>This is similar to densely connected Web pages getting ranked highly by PageRank.</mark> <mark>This approach has also been used in document summarization, considered below.</mark> Like keyphrase extraction, document summarization aims to identify the essence of a text. <mark>The only real difference is that now we are dealing with larger text units—whole sentences instead of words and phrases.</mark> Before getting into the details of some summarization methods, we will mention how summarization systems are typically evaluated. <mark>The most common way is using the so-called ROUGE (Recall-Oriented Understudy for Gisting Evaluation) measure.</mark> This is a recall-based measure that determines how well a system-generated summary covers the content present in one or more human-generated model summaries known as references. It is recall-based to encourage systems to include all the important topics in the text. <mark>Recall can be computed with respect to unigram, bigram, trigram, or 4-gram matching.</mark> For example, ROUGE-1 is computed as division of count of unigrams in reference that appear in system and count of unigrams in reference summary. If there are multiple references, the ROUGE-1 scores are averaged. Because ROUGE is based only on content overlap, it can determine if the same general concepts are discussed between an automatic summary and a reference summary, but it cannot determine if the result is coherent or the sentences flow together in a sensible manner. <mark>High-order n-gram ROUGE measures try to judge fluency to some degree.</mark> Note that ROUGE is similar to the BLEU measure for machine translation, but BLEU is precision- based, because translation systems favor accuracy. A promising line in document summarization is adaptive document/text summarization. [13] The idea of adaptive summarization involves preliminary recognition of document/text genre and subsequent application of summarization algorithms optimized for this genre. First summarizes that perform adaptive summarization have been created. [14]\n",
              "\n",
              "Supervised text summarization is very much like supervised keyphrase extraction. Basically, if you have a collection of documents and human-generated summaries for them, you can learn features of sentences that make them good candidates for inclusion in the summary. Features might include the position in the document (i.e., the first few sentences are probably important), the number of words in the sentence, etc. The main difficulty in supervised extractive summarization is that the known summaries must be manually created by extracting sentences so the sentences in an original training document can be labeled as \"in summary\" or \"not in summary\". <mark>This is not typically how people create summaries, so simply using journal abstracts or existing summaries is usually not sufficient.</mark> The sentences in these summaries do not necessarily match up with sentences in the original text, so it would be difficult to assign labels to examples for training. Note, however, that these natural summaries can still be used for evaluation purposes, since ROUGE-1 only cares about unigrams. <mark>During the DUC 2001 and 2002 evaluation workshops, TNO developed a sentence extraction system for multi-document summarization in the news domain.</mark> The system was based on a hybrid system using a naive Bayes classifier and statistical language models for modeling salience. Although the system exhibited good results, the researchers wanted to explore the effectiveness of a maximum entropy (ME) classifier for the meeting summarization task, as ME is known to be robust against feature dependencies. Maximum entropy has also been applied successfully for summarization in the broadcast news domain. The unsupervised approach to summarization is also quite similar in spirit to unsupervised keyphrase extraction and gets around the issue of costly training data. Some unsupervised summarization approaches are based on finding a \"centroid\" sentence, which is the mean word vector of all the sentences in the document. Then the sentences can be ranked with regard to their similarity to this centroid sentence. A more principled way to estimate sentence importance is using random walks and eigenvector centrality. <mark>LexRank[15] is an algorithm essentially identical to TextRank, and both use this approach for document summarization.</mark> The two methods were developed by different groups at the same time, and LexRank simply focused on summarization, but could just as easily be used for keyphrase extraction or any other NLP ranking task. In both LexRank and TextRank, a graph is constructed by creating a vertex for each sentence in the document. The edges between sentences are based on some form of semantic similarity or content overlap. <mark>While LexRank uses cosine similarity of TF-IDF vectors, TextRank uses a very similar measure based on the number of words two sentences have in common (normalized by the sentences' lengths).</mark> The LexRank paper explored using unweighted edges after applying a threshold to the cosine values, but also experimented with using edges with weights equal to the similarity score. TextRank uses continuous similarity scores as weights. In both algorithms, the sentences are ranked by applying PageRank to the resulting graph. A summary is formed by combining the top ranking sentences, using a threshold or length cutoff to limit the size of the summary. It is worth noting that TextRank was applied to summarization exactly as described here, while LexRank was used as part of a larger summarization system (MEAD) that combines the LexRank score (stationary probability) with other features like sentence position and length using a linear combination with either user-specified or automatically tuned weights. In this case, some training documents might be needed, though the TextRank results show the additional features are not absolutely necessary. Another important distinction is that TextRank was used for single document summarization, while LexRank has been applied to multi-document summarization. The task remains the same in both cases—only the number of sentences to choose from has grown. However, when summarizing multiple documents, there is a greater risk of selecting duplicate or highly redundant sentences to place in the same summary. <mark>Imagine you have a cluster of news articles on a particular event, and you want to produce one summary.</mark> Each article is likely to have many similar sentences, and you would only want to include distinct ideas in the summary. To address this issue, LexRank applies a heuristic post-processing step that builds up a summary by adding sentences in rank order, but discards any sentences that are too similar to ones already placed in the summary. The method used is called Cross-Sentence Information Subsumption (CSIS). These methods work based on the idea that sentences \"recommend\" other similar sentences to the reader. Thus, if one sentence is very similar to many others, it will likely be a sentence of great importance. The importance of this sentence also stems from the importance of the sentences \"recommending\" it. <mark>Thus, to get ranked highly and placed in a summary, a sentence must be similar to many sentences that are in turn also similar to many other sentences.</mark> <mark>This makes intuitive sense and allows the algorithms to be applied to any arbitrary new text.</mark> The methods are domain-independent and easily portable. One could imagine the features indicating important sentences in the news domain might vary considerably from the biomedical domain. However, the unsupervised \"recommendation\"-based approach applies to any domain. Multi-document summarization is an automatic procedure aimed at extraction of information from multiple texts written about the same topic. <mark>Resulting summary report allows individual users, such as professional information consumers, to quickly familiarize themselves with information contained in a large cluster of documents.</mark> In such a way, multi-document summarization systems are complementing the news aggregators performing the next step down the road of coping with information overload. Multi-document summarization may also be done in response to a question. [16][8]\n",
              "\n",
              "Multi-document summarization creates information reports that are both concise and comprehensive. With different opinions being put together and outlined, every topic is described from multiple perspectives within a single document. While the goal of a brief summary is to simplify information search and cut the time by pointing to the most relevant source documents, comprehensive multi-document summary should itself contain the required information, hence limiting the need for accessing original files to cases when refinement is required. Automatic summaries present information extracted from multiple sources algorithmically, without any editorial touch or subjective human intervention, thus making it completely unbiased. [dubious – discuss]\n",
              "\n",
              "Multi-document extractive summarization faces a problem of potential redundancy. Ideally, we would like to extract sentences that are both \"central\" (i.e., contain the main ideas) and \"diverse\" (i.e., they differ from one another). LexRank deals with diversity as a heuristic final stage using CSIS, and other systems have used similar methods, such as Maximal Marginal Relevance (MMR),[17] in trying to eliminate redundancy in information retrieval results. There is a general purpose graph-based ranking algorithm like Page/Lex/TextRank that handles both \"centrality\" and \"diversity\" in a unified mathematical framework based on absorbing Markov chain random walks. (An absorbing random walk is like a standard random walk, except some states are now absorbing states that act as \"black holes\" that cause the walk to end abruptly at that state.) The algorithm is called GRASSHOPPER. [18] In addition to explicitly promoting diversity during the ranking process, GRASSHOPPER incorporates a prior ranking (based on sentence position in the case of summarization). The state of the art results for multi-document summarization, however, are obtained using mixtures of submodular functions. These methods have achieved the state of the art results for Document Summarization Corpora, DUC 04 - 07. [19] Similar results were also achieved with the use of determinantal point processes (which are a special case of submodular functions) for DUC-04. [20]\n",
              "\n",
              "A new method for multi-lingual multi-document summarization that avoids redundancy works by simplifying and generating ideograms that represent the meaning of each sentence in each document and then evaluates similarity \"qualitatively\" by comparing the shape and position of said ideograms has recently been developed. This tool does not use word frequency, does not need training or preprocessing of any kind and works by generating ideograms that represent the meaning of each sentence and then summarizes using two user-supplied parameters: equivalence (when are two sentences to be considered equivalent) and relevance (how long is the desired summary). The idea of a submodular set function has recently emerged as a powerful modeling tool for various summarization problems. Submodular functions naturally model notions of coverage, information, representation and diversity. Moreover, several important combinatorial optimization problems occur as special instances of submodular optimization. For example, the set cover problem is a special case of submodular optimization, since the set cover function is submodular. The set cover function attempts to find a subset of objects which cover a given set of concepts. For example, in document summarization, one would like the summary to cover all important and relevant concepts in the document. This is an instance of set cover. Similarly, the facility location problem is a special case of submodular functions. The Facility Location function also naturally models coverage and diversity. Another example of a submodular optimization problem is using a determinantal point process to model diversity. Similarly, the Maximum-Marginal-Relevance procedure can also be seen as an instance of submodular optimization. <mark>All these important models encouraging coverage, diversity and information are all submodular.</mark> Moreover, submodular functions can be efficiently combined, and the resulting function is still submodular. Hence, one could combine one submodular function which models diversity, another one which models coverage and use human supervision to learn a right model of a submodular function for the problem. While submodular functions are fitting problems for summarization, they also admit very efficient algorithms for optimization. For example, a simple greedy algorithm admits a constant factor guarantee. [21] Moreover, the greedy algorithm is extremely simple to implement and can scale to large datasets, which is very important for summarization problems. Submodular functions have achieved state-of-the-art for almost all summarization problems. For example, work by Lin and Bilmes, 2012[22] shows that submodular functions achieve the best results to date on DUC-04, DUC-05, DUC-06 and DUC-07 systems for document summarization. <mark>Similarly, work by Lin and Bilmes, 2011,[23] shows that many existing systems for automatic summarization are instances of submodular functions.</mark> This was a breakthrough result establishing submodular functions as the right models for summarization problems. [citation needed]\n",
              "\n",
              "Submodular Functions have also been used for other summarization tasks. Tschiatschek et al., 2014 show[24] that mixtures of submodular functions achieve state-of-the-art results for image collection summarization. Similarly, Bairi et al., 2015[25] show the utility of submodular functions for summarizing multi-document topic hierarchies. Submodular Functions have also successfully been used for summarizing machine learning datasets. [26]\n",
              "• The Reddit bot \"autotldr\",[27] created in 2011 summarizes news articles in the comment-section of reddit posts. It was found to be very useful by the reddit community which upvoted its summaries hundreds of thousands of times. [28] The name is reference to TL;DR − Internet slang for \"too long; didn't read\". [29][30]\n",
              "\n",
              "The most common way to evaluate the informativeness of automatic summaries is to compare them with human-made model summaries. Evaluation techniques fall into intrinsic and extrinsic,[31] inter-textual and intra-textual. [32]\n",
              "\n",
              "An intrinsic evaluation tests the summarization system in and of itself while an extrinsic evaluation tests the summarization based on how it affects the completion of some other task. Intrinsic evaluations have assessed mainly the coherence and informativeness of summaries. Extrinsic evaluations, on the other hand, have tested the impact of summarization on tasks like relevance assessment, reading comprehension, etc. Intra-textual methods assess the output of a specific summarization system, and the inter-textual ones focus on contrastive analysis of outputs of several summarization systems. Human judgement often has wide variance on what is considered a \"good\" summary, which means that making the evaluation process automatic is particularly difficult. Manual evaluation can be used, but this is both time and labor-intensive as it requires humans to read not only the summaries but also the source documents. Other issues are those concerning coherence and coverage. One of the metrics used in NIST's annual Document Understanding Conferences, in which research groups submit their systems for both summarization and translation tasks, is the ROUGE metric (Recall-Oriented Understudy for Gisting Evaluation [2]). <mark>It essentially calculates n-gram overlaps between automatically generated summaries and previously written human summaries.</mark> A high level of overlap should indicate a high level of shared concepts between the two summaries. Note that overlap metrics like this are unable to provide any feedback on a summary's coherence. <mark>Anaphor resolution remains another problem yet to be fully solved.</mark> Similarly, for image summarization, Tschiatschek et al., developed a Visual-ROUGE score which judges the performance of algorithms for image summarization. <mark>[33]\n",
              "\n",
              "Domain independent summarization techniques generally apply sets of general features which can be used to identify information-rich text segments.</mark> <mark>Recent research focus has drifted to domain-specific summarization techniques that utilize the available knowledge specific to the domain of text.</mark> <mark>For example, automatic summarization research on medical text generally attempts to utilize the various sources of codified medical knowledge and ontologies.</mark> <mark>[34]\n",
              "\n",
              "The main drawback of the evaluation systems existing so far is that we need at least one reference summary, and for some methods more than one, to be able to compare automatic summaries with models.</mark> This is a hard and expensive task. Much effort has to be done in order to have corpus of texts and their corresponding summaries. Furthermore, for some methods, not only do we need to have human-made summaries available for comparison, but also manual annotation has to be performed in some of them (e.g. SCU in the Pyramid Method). In any case, what the evaluation methods need as an input, is a set of summaries to serve as gold standards and a set of automatic summaries. Moreover, they all perform a quantitative evaluation with regard to different similarity metrics. The first publication in the area dates back to 1957 [35] (Hans Peter Luhn), starting with a statistical technique. <mark>Research increased significantly in 2015.</mark> Term frequency–inverse document frequency had been used by 2016. Pattern-based summarization was the most powerful option for multi-document summarization found by 2016. In the following year it was surpassed by latent semantic analysis (LSA) combined with non-negative matrix factorization (NMF). Although they did not replace other approaches and are often combined with them, by 2019 machine learning methods dominated the extractive summarization of single documents, which was considered to be nearing maturity. By 2020, the field was still very active and research is shifting towards abstractive summation and real-time summarization. [36]\n",
              "\n",
              "Recently the rise of Transformer models replacing more traditional RNN (LSTM) have provided a flexibility in the mapping of text sequences to text sequences of a different type, which is well suited to automatic summarization. This includes models such as T5[37] and Pegasus. • None Roxana, Angheluta (2002). <mark>The Use of Topic Segmentation for Automatic Summarization.</mark> • None Elena, Lloret and Manuel, Palomar (2009). Challenging Issues of Automatic Summarization: Relevance Detection and Quality-based Evaluation. • None Alrehamy, Hassan (2017). \"SemCluster: Unsupervised Automatic Keyphrase Extraction Using Affinity Propagation\". Automatic Keyphrases Extraction. Advances in Intelligent Systems and Computing. Vol. 650. pp. 222–235. doi:10.1007/978-3-319-66939-7_19. ISBN . • None Marcu, Daniel (2000). The Theory and Practice of Discourse Parsing and Summarization. ISBN . • , Published in Proceeding RIAO'10 Adaptivity, Personalization and Fusion of Heterogeneous Information, CID Paris, France\n",
              "• None Xiaojin, Zhu, Andrew Goldberg, Jurgen Van Gael, and David Andrzejewski (2007). Improving diversity in ranking using absorbing random walks . , The GRASSHOPPER algorithm\n",
              "• None Miranda-Jiménez, Sabino, Gelbukh, Alexander, and Sidorov, Grigori (2013). \"Summarizing Conceptual Graphs for Automatic Summarization Task\". <mark>Conceptual Structures for STEM Research and Education.</mark> Lecture Notes in Computer Science. Vol. 7735. pp. 245–253. doi:10.1007/978-3-642-35786-2_18. ISBN . , Conceptual Structures for STEM Research and Education. "
            ]
          },
          "metadata": {}
        }
      ]
    }
  ]
}